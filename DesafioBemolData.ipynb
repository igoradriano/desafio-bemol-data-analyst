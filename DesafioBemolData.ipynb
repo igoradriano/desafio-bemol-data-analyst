{
  "nbformat": 4,
  "nbformat_minor": 0,
  "metadata": {
    "colab": {
      "name": "DesafioBemolData.ipynb",
      "provenance": [],
      "collapsed_sections": [],
      "toc_visible": true
    },
    "kernelspec": {
      "name": "python3",
      "display_name": "Python 3"
    },
    "language_info": {
      "name": "python"
    }
  },
  "cells": [
    {
      "cell_type": "markdown",
      "metadata": {
        "id": "ZEh755e2HwnS"
      },
      "source": [
        "**DICIONÁRIO DE VARIÁVEIS**\n",
        "\n",
        "**1) Dados - Questão 1**\n",
        "\n",
        "*df_vendedores* - Data Frame (Dados - Questão 1) contendo dados a respeito de cada vendedor e informações sobre suas vendas.\n",
        "\n",
        "*df_vendedores_qtd* - Data Frame contendo informacoes sobre quantidade de vendas de cada vendedor, total de vendas de cada vendedor, percentual da quantidade de vendas em relação ao total e percentual do total de vendas por vendedor em relação a todos os vendedores.\n",
        "\n",
        "**2) Dados - Questão 2**\n",
        "\n",
        "*df_lojas* - Data Frame (Dados - Questão 2) contendo dados a respeito das lojas Unidade Manaus 1 e Unidade Manaus 3"
      ]
    },
    {
      "cell_type": "markdown",
      "metadata": {
        "id": "3UgCpddPHFBC"
      },
      "source": [
        "# **1. IMPORTANDO BIBLIOTECAS**"
      ]
    },
    {
      "cell_type": "markdown",
      "metadata": {
        "id": "zz-3zMy3mS3E"
      },
      "source": [
        "As bibliotecas utilizadas para visualizar os dados serão:\n",
        "\n",
        "**Matplotlib**: é uma biblioteca utilizada para plotar os mais variados tipos de gráficos.\n",
        "\n",
        "**Seaborn**: utiliza o Matplotlib como base e fornece funções simples de usar para criação de gráficos que seriam complexos apenas com o Matplotlib.\n",
        "\n",
        "*Instalação:* pip install numpy pandas matplotlib seaborn.\n",
        "\n",
        "A linha logo abaixo faz os gráficos aparecerem no Jupyter notebook, não é necessária caso não esteja utilizando ele.\n",
        "\n",
        "%matplotlib inline"
      ]
    },
    {
      "cell_type": "code",
      "metadata": {
        "id": "PNmhj8hj9QBU"
      },
      "source": [
        "#!pip install cufflinks\n",
        "#!pip install plotly\n",
        "#!pip install chart_studio\n",
        "#!pip install xlsxwriter"
      ],
      "execution_count": 1,
      "outputs": []
    },
    {
      "cell_type": "code",
      "metadata": {
        "id": "UfaFcOETG3i_"
      },
      "source": [
        "import pandas as pd\n",
        "import matplotlib.pyplot as plt\n",
        "import numpy as np\n",
        "import seaborn as sns\n",
        "import os\n",
        "import shutil\n",
        "\n",
        "# Outras bibliotecas interessantes\n",
        "import cufflinks as cf\n",
        "from plotly.offline import iplot"
      ],
      "execution_count": 2,
      "outputs": []
    },
    {
      "cell_type": "code",
      "metadata": {
        "id": "dTo6VYYSekRh"
      },
      "source": [
        "#Criar diretório imagens caso o código ainda não tenha sido rodado, caso já exista\n",
        "#excluir e criar um novo diretório com diretórios dados1 e dados2 dentro\n",
        "if not os.path.exists('imagens'): \n",
        "  os.makedirs('imagens/dados1')\n",
        "  os.makedirs('imagens/dados2')\n",
        "else:\n",
        "  shutil.rmtree('imagens') \n",
        "\n",
        "if not os.path.exists('imagens'):\n",
        "  os.makedirs('imagens/dados1')\n",
        "  os.makedirs('imagens/dados2')\n"
      ],
      "execution_count": 3,
      "outputs": []
    },
    {
      "cell_type": "markdown",
      "metadata": {
        "id": "1BKpXRJIHPq6"
      },
      "source": [
        "# **2. FUNÇÕES IMPORTANTES**"
      ]
    },
    {
      "cell_type": "markdown",
      "metadata": {
        "id": "uGlhgqm4Tn1d"
      },
      "source": [
        "## GRÁFICO DE PIZZA"
      ]
    },
    {
      "cell_type": "code",
      "metadata": {
        "id": "RjRiQOmTTjBW"
      },
      "source": [
        "def grafico_pizza(df,ocorr,lab,x=2,explode=[],title='TITULO',diretorio='dados1'):\n",
        "  fig = plt.figure(figsize=(8,7))\n",
        "  ax1 = fig.add_subplot(111)\n",
        "  ocorrencia = []\n",
        "  labels = []\n",
        "  for i in df.index: \n",
        "      if i > x:\n",
        "        break\n",
        "      else:\n",
        "        ocorrencia.append(df[ocorr][i])\n",
        "        labels.append(df[lab][i])\n",
        "        \n",
        "\n",
        "  if len(explode) == 0:\n",
        "    for i in df.index:\n",
        "      if i > x:\n",
        "        break\n",
        "      else:\n",
        "        explode.append(i*0.05)\n",
        "          \n",
        "\n",
        "  cores = [ '#01a0e4','#d52d2b','#393ed3', 'yellow','black','gray','pink','brown']\n",
        "  total = sum(ocorrencia)\n",
        "  plt.pie(ocorrencia, explode=explode, labels=labels, colors=cores, autopct='%1.1f%%', shadow=True, startangle=90)\n",
        "\n",
        "  # Com essa opção o gráfico ficará em círculo\n",
        "  plt.axis('equal') \n",
        "\n",
        "  # Cria um título para o gráfico\n",
        "  ax1.set_title(title, fontsize=15) \n",
        "\n",
        "  #legenda em posicao especifica\n",
        "  ax1.legend(bbox_to_anchor=(1,0), loc=\"lower right\", bbox_transform=fig.transFigure)\n",
        "  \n",
        "  #Fonte dos eixos\n",
        "  plt.rcParams['xtick.labelsize'] = 16\n",
        "  plt.rcParams['ytick.labelsize'] = 16\n",
        "  #plt.rcParams['legend.fontsize'] = 16\n",
        "  \n",
        "  # Salvar grafico como imagem\n",
        "  plt.savefig(f'imagens/{diretorio}/'+title +'.png')\n",
        "\n",
        "  #Monstra o gráfico\n",
        "  plt.show()"
      ],
      "execution_count": 4,
      "outputs": []
    },
    {
      "cell_type": "markdown",
      "metadata": {
        "id": "b1nMdfhnrjdm"
      },
      "source": [
        "## GRÁFICO EM BARRAS"
      ]
    },
    {
      "cell_type": "code",
      "metadata": {
        "id": "p7u05hSOrixt"
      },
      "source": [
        "def grafico_barras_empilhadas(df, coluna1, coluna2, nome_dados, legenda=[1,2],nome_eixo_x='eixo x',nome_eixo_y='eixo y',title='titulo'):\n",
        "  x1 = []\n",
        "  x2 = []\n",
        "  x3 = []\n",
        "  a = []\n",
        "  for i in df.index: \n",
        "      if i > 5:\n",
        "        break\n",
        "      else:\n",
        "        #cria os dados\n",
        "        x1.append(df[coluna1][i])\n",
        "        x2.append(df[coluna2][i])\n",
        "        x3.append(df[nome_dados][i])\n",
        "        a.append(df[coluna1][i]/(df[coluna1][i] + df[coluna2][i]) )\n",
        "\n",
        "  #Define a Largura das barras\n",
        "  barWidth = 0.25\n",
        "      \n",
        "  #cria a figura e o eixo\n",
        "  fig = plt.figure(figsize=(8,7))\n",
        "  ax1 = fig.add_subplot(111)\n",
        "\n",
        "  #Definindo a posição das barras\n",
        "  r1 = np.arange(len(x1))\n",
        "  r2 = [x + barWidth for x in r1]\n",
        "\n",
        "  #Criando as barras\n",
        "  plt.bar(r1, x1, color='#01a0e4', width=barWidth, label= legenda[0])\n",
        "  plt.bar(r2, x2, color='#d52d2b', width=barWidth, label=legenda[1])\n",
        "\n",
        "\n",
        "  # Adicionando legendas as barras\n",
        "  plt.xlabel(nome_eixo_x, fontsize=15)\n",
        "  plt.xticks([r + barWidth for r in range(len(x1))],x3)\n",
        "  plt.ylabel(nome_eixo_y, fontsize=15)\n",
        "  plt.title(title,fontsize=15)\n",
        "\n",
        "  #legenda em posicao especifica\n",
        "  ax1.legend(bbox_to_anchor=(1,0), loc=\"lower right\", bbox_transform=fig.transFigure)\n",
        "\n",
        "  #Fonte dos eixos\n",
        "  plt.rcParams['xtick.labelsize'] = 16\n",
        "  plt.rcParams['ytick.labelsize'] = 16\n",
        "  #plt.rcParams['legend.fontsize'] = 16\n",
        "\n",
        "  # cria o segundo eixo\n",
        "  ax2 = ax1.twinx() \n",
        "  ax2.set_ylabel('Média', color='g', fontsize=15) #cria o rótula do segundo eixo\n",
        "  ax2.plot(a, color='g')\n",
        "  ax2.tick_params(axis='y', labelcolor='g')\n",
        "\n",
        "  # Salvar grafico como imagem\n",
        "  plt.savefig('imagens/dados1/'+title +'.png')\n",
        "\n",
        "  plt.show()"
      ],
      "execution_count": 5,
      "outputs": []
    },
    {
      "cell_type": "markdown",
      "metadata": {
        "id": "_1dIJkzwAywV"
      },
      "source": [
        "## EXTRAIR VENDEDOR OU PRODUTO QUE MAIS VENDERAM/FORAM VENDIDOS POR FILIAL"
      ]
    },
    {
      "cell_type": "code",
      "metadata": {
        "id": "7wt990UzAx8d"
      },
      "source": [
        "def vp_filial(filiais, list_qtd_v_vendedores, col):\n",
        "  todas_filiais_v = {}\n",
        "  for filial in filiais:\n",
        "    for linha in list_qtd_v_vendedores:\n",
        "      if linha[0] == filial:\n",
        "        if 'maior' in locals():\n",
        "          if linha[col] > maior:\n",
        "            maior = linha[col]\n",
        "            vendedor = linha[2]\n",
        "            cod_vendedor= linha[1]\n",
        "        else:\n",
        "          maior = linha[col]\n",
        "          vendedor = linha[2]\n",
        "          cod_vendedor= linha[1]\n",
        "    todas_filiais_v[filial] = [maior,vendedor,cod_vendedor]\n",
        "    maior = 0\n",
        "  return todas_filiais_v"
      ],
      "execution_count": 6,
      "outputs": []
    },
    {
      "cell_type": "markdown",
      "metadata": {
        "id": "M7MXat1E8FCt"
      },
      "source": [
        "## HISTOGRAMA"
      ]
    },
    {
      "cell_type": "code",
      "metadata": {
        "id": "og0RaSaz8MX0"
      },
      "source": [
        "def histograma_simples(df,coluna,min,max,passo,title,xlabel,ylabel,path):\n",
        "  plt.figure(figsize=(8, 7))\n",
        "  plt.hist(df[coluna], bins=range(min,max,passo))\n",
        "  plt.title(title,size=18)\n",
        "  plt.xlabel(xlabel)\n",
        "  plt.ylabel(ylabel)\n",
        "  plt.savefig(f'imagens/dados1/{path}.png')\n",
        "  plt.plot()"
      ],
      "execution_count": 7,
      "outputs": []
    },
    {
      "cell_type": "markdown",
      "metadata": {
        "id": "jfEigl_O3oYN"
      },
      "source": [
        "# GRÁFICO DE LINHAS"
      ]
    },
    {
      "cell_type": "code",
      "metadata": {
        "id": "TrjjGbki3neM"
      },
      "source": [
        "def grafico_linhas(df, titulo='TITULO',xlabel=\"X\",ylabel=\"Y\"): \n",
        "  fig = plt.figure(figsize=(10,7))\n",
        "  ax1 = fig.add_subplot(111)\n",
        "\n",
        "  todasLinhas = df.values.tolist()\n",
        "  x = df.columns.values\n",
        "  x = x[1:6]\n",
        "  for linha in todasLinhas:\n",
        "    plt.plot(x,linha[1:6], label= linha[0] )\n",
        "  #plt.ylim(0, 100000)  define o intervalo do eixo y\n",
        "  #plt.yticks(np.linspace(0, 10, 500, endpoint=True)) # Define as marcas em y\n",
        "  plt.title(titulo,fontsize=15)\n",
        "  plt.xlabel(xlabel,fontsize=13)\n",
        "  plt.ylabel(ylabel,fontsize=13)\n",
        "  plt.legend()\n",
        "  plt.show()"
      ],
      "execution_count": 8,
      "outputs": []
    },
    {
      "cell_type": "markdown",
      "metadata": {
        "id": "90059Fj9HXiP"
      },
      "source": [
        "# **3. MANIPULAÇÃO DOS DADOS**"
      ]
    },
    {
      "cell_type": "markdown",
      "metadata": {
        "id": "Ar2gBwcsNeln"
      },
      "source": [
        "# **Importando Data Frame Vendedores (Questão 1)**"
      ]
    },
    {
      "cell_type": "code",
      "metadata": {
        "colab": {
          "base_uri": "https://localhost:8080/",
          "height": 306
        },
        "id": "JYlOjyqqHh5C",
        "outputId": "d23a899b-9586-4b2d-bb54-e2212e4d1adc"
      },
      "source": [
        "df_vendedores = pd.read_excel('Desafio_2.0-Relatorio.xlsx', sheet_name = 'Dados - Questão 1' , skiprows = 0)\n",
        "df_vendedores.head(5)\n",
        "\n"
      ],
      "execution_count": 9,
      "outputs": [
        {
          "output_type": "execute_result",
          "data": {
            "text/html": [
              "<div>\n",
              "<style scoped>\n",
              "    .dataframe tbody tr th:only-of-type {\n",
              "        vertical-align: middle;\n",
              "    }\n",
              "\n",
              "    .dataframe tbody tr th {\n",
              "        vertical-align: top;\n",
              "    }\n",
              "\n",
              "    .dataframe thead th {\n",
              "        text-align: right;\n",
              "    }\n",
              "</style>\n",
              "<table border=\"1\" class=\"dataframe\">\n",
              "  <thead>\n",
              "    <tr style=\"text-align: right;\">\n",
              "      <th></th>\n",
              "      <th>num_compra</th>\n",
              "      <th>usuario</th>\n",
              "      <th>nome</th>\n",
              "      <th>Tipo de Mercadoria</th>\n",
              "      <th>Filial</th>\n",
              "      <th>data_compra</th>\n",
              "      <th>valor_compra</th>\n",
              "      <th>Imposto</th>\n",
              "      <th>CPF NA NOTA?</th>\n",
              "    </tr>\n",
              "  </thead>\n",
              "  <tbody>\n",
              "    <tr>\n",
              "      <th>0</th>\n",
              "      <td>24937847</td>\n",
              "      <td>295</td>\n",
              "      <td>ANDERSON</td>\n",
              "      <td>SPLIT 8501 À 10000</td>\n",
              "      <td>Loja Autazes</td>\n",
              "      <td>2020-04-06 12:25:12.666</td>\n",
              "      <td>2582.40</td>\n",
              "      <td>116.2080</td>\n",
              "      <td>Sim</td>\n",
              "    </tr>\n",
              "    <tr>\n",
              "      <th>1</th>\n",
              "      <td>23600787</td>\n",
              "      <td>331</td>\n",
              "      <td>RAIMUNDO</td>\n",
              "      <td>SPLIT INV 8501À10000</td>\n",
              "      <td>Loja Manicor é</td>\n",
              "      <td>2020-04-06 14:03:54.682</td>\n",
              "      <td>1919.28</td>\n",
              "      <td>86.3676</td>\n",
              "      <td>Sim</td>\n",
              "    </tr>\n",
              "    <tr>\n",
              "      <th>2</th>\n",
              "      <td>24298956</td>\n",
              "      <td>370</td>\n",
              "      <td>ROSILANE</td>\n",
              "      <td>SPLIT ACIMA DE 30000</td>\n",
              "      <td>Loja Manicor é</td>\n",
              "      <td>2020-04-06 14:35:14.125</td>\n",
              "      <td>10121.04</td>\n",
              "      <td>455.4468</td>\n",
              "      <td>Sim</td>\n",
              "    </tr>\n",
              "    <tr>\n",
              "      <th>3</th>\n",
              "      <td>23802765</td>\n",
              "      <td>460</td>\n",
              "      <td>SANDRA</td>\n",
              "      <td>SPLIT 10001 À 18000</td>\n",
              "      <td>Loja Manicor é</td>\n",
              "      <td>2020-04-06 14:59:19.759</td>\n",
              "      <td>11724.00</td>\n",
              "      <td>527.5800</td>\n",
              "      <td>Sim</td>\n",
              "    </tr>\n",
              "    <tr>\n",
              "      <th>4</th>\n",
              "      <td>22559356</td>\n",
              "      <td>538</td>\n",
              "      <td>JAMERSON</td>\n",
              "      <td>SPLIT 18001 À 30000</td>\n",
              "      <td>Loja Manicor é</td>\n",
              "      <td>2020-04-06 15:32:43.879</td>\n",
              "      <td>1157.28</td>\n",
              "      <td>52.0776</td>\n",
              "      <td>Sim</td>\n",
              "    </tr>\n",
              "  </tbody>\n",
              "</table>\n",
              "</div>"
            ],
            "text/plain": [
              "   num_compra  usuario      nome  ... valor_compra   Imposto CPF NA NOTA?\n",
              "0    24937847      295  ANDERSON  ...      2582.40  116.2080          Sim\n",
              "1    23600787      331  RAIMUNDO  ...      1919.28   86.3676          Sim\n",
              "2    24298956      370  ROSILANE  ...     10121.04  455.4468          Sim\n",
              "3    23802765      460    SANDRA  ...     11724.00  527.5800          Sim\n",
              "4    22559356      538  JAMERSON  ...      1157.28   52.0776          Sim\n",
              "\n",
              "[5 rows x 9 columns]"
            ]
          },
          "metadata": {
            "tags": []
          },
          "execution_count": 9
        }
      ]
    },
    {
      "cell_type": "markdown",
      "metadata": {
        "id": "Wucsqr6jXBXx"
      },
      "source": [
        "# **Importando Data Frame Lojas (Questão 2)**"
      ]
    },
    {
      "cell_type": "code",
      "metadata": {
        "colab": {
          "base_uri": "https://localhost:8080/",
          "height": 332
        },
        "id": "aWMaU-WVW0f8",
        "outputId": "fdeec8a8-bf4f-46b8-d8ae-10e2ea2d7d05"
      },
      "source": [
        "df_lojas = pd.read_excel('Desafio_2.0-Relatorio.xlsx', sheet_name = 'Dados - Questão 2' , skiprows = 0 )\n",
        "df_lojas.head(3)\n"
      ],
      "execution_count": 10,
      "outputs": [
        {
          "output_type": "execute_result",
          "data": {
            "text/html": [
              "<div>\n",
              "<style scoped>\n",
              "    .dataframe tbody tr th:only-of-type {\n",
              "        vertical-align: middle;\n",
              "    }\n",
              "\n",
              "    .dataframe tbody tr th {\n",
              "        vertical-align: top;\n",
              "    }\n",
              "\n",
              "    .dataframe thead th {\n",
              "        text-align: right;\n",
              "    }\n",
              "</style>\n",
              "<table border=\"1\" class=\"dataframe\">\n",
              "  <thead>\n",
              "    <tr style=\"text-align: right;\">\n",
              "      <th></th>\n",
              "      <th>Loja</th>\n",
              "      <th>data_compra</th>\n",
              "      <th>inicio</th>\n",
              "      <th>termino</th>\n",
              "      <th>Loja.1</th>\n",
              "      <th>codloja</th>\n",
              "      <th>produto</th>\n",
              "      <th>EAN</th>\n",
              "      <th>Valor Unitário Sem Imposto</th>\n",
              "      <th>quantidade</th>\n",
              "      <th>valor_total</th>\n",
              "      <th>Impostos</th>\n",
              "      <th>Dinheiro de Volta (Aplicado direto no total)</th>\n",
              "    </tr>\n",
              "  </thead>\n",
              "  <tbody>\n",
              "    <tr>\n",
              "      <th>0</th>\n",
              "      <td>430</td>\n",
              "      <td>2019-07-05 10:30:41</td>\n",
              "      <td>2019-07-05</td>\n",
              "      <td>2019-07-20</td>\n",
              "      <td>Unidade Manaus 1</td>\n",
              "      <td>49618556000135</td>\n",
              "      <td>Smart Pro</td>\n",
              "      <td>190199383180</td>\n",
              "      <td>3000</td>\n",
              "      <td>1</td>\n",
              "      <td>3331.29</td>\n",
              "      <td>376.29</td>\n",
              "      <td>45.0</td>\n",
              "    </tr>\n",
              "    <tr>\n",
              "      <th>1</th>\n",
              "      <td>430</td>\n",
              "      <td>2019-07-05 11:58:18</td>\n",
              "      <td>2019-07-05</td>\n",
              "      <td>2019-07-20</td>\n",
              "      <td>Unidade Manaus 1</td>\n",
              "      <td>49618556000135</td>\n",
              "      <td>Smart Pro</td>\n",
              "      <td>190199383180</td>\n",
              "      <td>3000</td>\n",
              "      <td>1</td>\n",
              "      <td>3331.29</td>\n",
              "      <td>376.29</td>\n",
              "      <td>45.0</td>\n",
              "    </tr>\n",
              "    <tr>\n",
              "      <th>2</th>\n",
              "      <td>430</td>\n",
              "      <td>2019-07-05 14:06:58</td>\n",
              "      <td>2019-07-05</td>\n",
              "      <td>2019-07-20</td>\n",
              "      <td>Unidade Manaus 1</td>\n",
              "      <td>49618556000135</td>\n",
              "      <td>Smart Pro</td>\n",
              "      <td>190199383180</td>\n",
              "      <td>3000</td>\n",
              "      <td>1</td>\n",
              "      <td>3331.29</td>\n",
              "      <td>376.29</td>\n",
              "      <td>45.0</td>\n",
              "    </tr>\n",
              "  </tbody>\n",
              "</table>\n",
              "</div>"
            ],
            "text/plain": [
              "   Loja  ... Dinheiro de Volta (Aplicado direto no total)\n",
              "0   430  ...                                         45.0\n",
              "1   430  ...                                         45.0\n",
              "2   430  ...                                         45.0\n",
              "\n",
              "[3 rows x 13 columns]"
            ]
          },
          "metadata": {
            "tags": []
          },
          "execution_count": 10
        }
      ]
    },
    {
      "cell_type": "markdown",
      "metadata": {
        "id": "eqkuHERKR8aq"
      },
      "source": [
        "# **4. TRATAMENTO DE DADOS**"
      ]
    },
    {
      "cell_type": "markdown",
      "metadata": {
        "id": "S7KqLhv2S7Hh"
      },
      "source": [
        "## 4.1 Renomeando Colunas"
      ]
    },
    {
      "cell_type": "markdown",
      "metadata": {
        "id": "qzc1mUUfXWbs"
      },
      "source": [
        "### **Renomeando colunas do Data Frame Vendedores (Questão 1)**"
      ]
    },
    {
      "cell_type": "code",
      "metadata": {
        "colab": {
          "base_uri": "https://localhost:8080/",
          "height": 193
        },
        "id": "wGclWfwGTsE3",
        "outputId": "d5a87642-3e19-42cd-f191-53ebe8e18ecc"
      },
      "source": [
        "df_vendedores.columns = ['num_compra','usuario','nome','tipo_de_mercadoria','filial','data_compra','valor_compra','imposto','cpf_na_nota']\n",
        "df_vendedores.head(3)"
      ],
      "execution_count": 11,
      "outputs": [
        {
          "output_type": "execute_result",
          "data": {
            "text/html": [
              "<div>\n",
              "<style scoped>\n",
              "    .dataframe tbody tr th:only-of-type {\n",
              "        vertical-align: middle;\n",
              "    }\n",
              "\n",
              "    .dataframe tbody tr th {\n",
              "        vertical-align: top;\n",
              "    }\n",
              "\n",
              "    .dataframe thead th {\n",
              "        text-align: right;\n",
              "    }\n",
              "</style>\n",
              "<table border=\"1\" class=\"dataframe\">\n",
              "  <thead>\n",
              "    <tr style=\"text-align: right;\">\n",
              "      <th></th>\n",
              "      <th>num_compra</th>\n",
              "      <th>usuario</th>\n",
              "      <th>nome</th>\n",
              "      <th>tipo_de_mercadoria</th>\n",
              "      <th>filial</th>\n",
              "      <th>data_compra</th>\n",
              "      <th>valor_compra</th>\n",
              "      <th>imposto</th>\n",
              "      <th>cpf_na_nota</th>\n",
              "    </tr>\n",
              "  </thead>\n",
              "  <tbody>\n",
              "    <tr>\n",
              "      <th>0</th>\n",
              "      <td>24937847</td>\n",
              "      <td>295</td>\n",
              "      <td>ANDERSON</td>\n",
              "      <td>SPLIT 8501 À 10000</td>\n",
              "      <td>Loja Autazes</td>\n",
              "      <td>2020-04-06 12:25:12.666</td>\n",
              "      <td>2582.40</td>\n",
              "      <td>116.2080</td>\n",
              "      <td>Sim</td>\n",
              "    </tr>\n",
              "    <tr>\n",
              "      <th>1</th>\n",
              "      <td>23600787</td>\n",
              "      <td>331</td>\n",
              "      <td>RAIMUNDO</td>\n",
              "      <td>SPLIT INV 8501À10000</td>\n",
              "      <td>Loja Manicor é</td>\n",
              "      <td>2020-04-06 14:03:54.682</td>\n",
              "      <td>1919.28</td>\n",
              "      <td>86.3676</td>\n",
              "      <td>Sim</td>\n",
              "    </tr>\n",
              "    <tr>\n",
              "      <th>2</th>\n",
              "      <td>24298956</td>\n",
              "      <td>370</td>\n",
              "      <td>ROSILANE</td>\n",
              "      <td>SPLIT ACIMA DE 30000</td>\n",
              "      <td>Loja Manicor é</td>\n",
              "      <td>2020-04-06 14:35:14.125</td>\n",
              "      <td>10121.04</td>\n",
              "      <td>455.4468</td>\n",
              "      <td>Sim</td>\n",
              "    </tr>\n",
              "  </tbody>\n",
              "</table>\n",
              "</div>"
            ],
            "text/plain": [
              "   num_compra  usuario      nome  ... valor_compra   imposto cpf_na_nota\n",
              "0    24937847      295  ANDERSON  ...      2582.40  116.2080         Sim\n",
              "1    23600787      331  RAIMUNDO  ...      1919.28   86.3676         Sim\n",
              "2    24298956      370  ROSILANE  ...     10121.04  455.4468         Sim\n",
              "\n",
              "[3 rows x 9 columns]"
            ]
          },
          "metadata": {
            "tags": []
          },
          "execution_count": 11
        }
      ]
    },
    {
      "cell_type": "markdown",
      "metadata": {
        "id": "kTDosiWAXZXt"
      },
      "source": [
        "### **Renomeando colunas do Data Frame Lojas (Questão 2)**"
      ]
    },
    {
      "cell_type": "code",
      "metadata": {
        "colab": {
          "base_uri": "https://localhost:8080/",
          "height": 264
        },
        "id": "SpgpOkMCYtdX",
        "outputId": "f29c7728-44ed-41f1-e530-532fc8f4aedb"
      },
      "source": [
        "df_lojas = df_lojas.rename(columns={'Loja':'cod_loja','Loja.1':'loja','codloja':'cod_loja','EAN':'cod_produto','Valor Unitário Sem Imposto':'valor_unitario_sem_impo','Impostos':'impostos','Dinheiro de Volta (Aplicado direto no total)':'cash_back_instantaneo'})\n",
        "df_lojas.head(3)"
      ],
      "execution_count": 12,
      "outputs": [
        {
          "output_type": "execute_result",
          "data": {
            "text/html": [
              "<div>\n",
              "<style scoped>\n",
              "    .dataframe tbody tr th:only-of-type {\n",
              "        vertical-align: middle;\n",
              "    }\n",
              "\n",
              "    .dataframe tbody tr th {\n",
              "        vertical-align: top;\n",
              "    }\n",
              "\n",
              "    .dataframe thead th {\n",
              "        text-align: right;\n",
              "    }\n",
              "</style>\n",
              "<table border=\"1\" class=\"dataframe\">\n",
              "  <thead>\n",
              "    <tr style=\"text-align: right;\">\n",
              "      <th></th>\n",
              "      <th>cod_loja</th>\n",
              "      <th>data_compra</th>\n",
              "      <th>inicio</th>\n",
              "      <th>termino</th>\n",
              "      <th>loja</th>\n",
              "      <th>cod_loja</th>\n",
              "      <th>produto</th>\n",
              "      <th>cod_produto</th>\n",
              "      <th>valor_unitario_sem_impo</th>\n",
              "      <th>quantidade</th>\n",
              "      <th>valor_total</th>\n",
              "      <th>impostos</th>\n",
              "      <th>cash_back_instantaneo</th>\n",
              "    </tr>\n",
              "  </thead>\n",
              "  <tbody>\n",
              "    <tr>\n",
              "      <th>0</th>\n",
              "      <td>430</td>\n",
              "      <td>2019-07-05 10:30:41</td>\n",
              "      <td>2019-07-05</td>\n",
              "      <td>2019-07-20</td>\n",
              "      <td>Unidade Manaus 1</td>\n",
              "      <td>49618556000135</td>\n",
              "      <td>Smart Pro</td>\n",
              "      <td>190199383180</td>\n",
              "      <td>3000</td>\n",
              "      <td>1</td>\n",
              "      <td>3331.29</td>\n",
              "      <td>376.29</td>\n",
              "      <td>45.0</td>\n",
              "    </tr>\n",
              "    <tr>\n",
              "      <th>1</th>\n",
              "      <td>430</td>\n",
              "      <td>2019-07-05 11:58:18</td>\n",
              "      <td>2019-07-05</td>\n",
              "      <td>2019-07-20</td>\n",
              "      <td>Unidade Manaus 1</td>\n",
              "      <td>49618556000135</td>\n",
              "      <td>Smart Pro</td>\n",
              "      <td>190199383180</td>\n",
              "      <td>3000</td>\n",
              "      <td>1</td>\n",
              "      <td>3331.29</td>\n",
              "      <td>376.29</td>\n",
              "      <td>45.0</td>\n",
              "    </tr>\n",
              "    <tr>\n",
              "      <th>2</th>\n",
              "      <td>430</td>\n",
              "      <td>2019-07-05 14:06:58</td>\n",
              "      <td>2019-07-05</td>\n",
              "      <td>2019-07-20</td>\n",
              "      <td>Unidade Manaus 1</td>\n",
              "      <td>49618556000135</td>\n",
              "      <td>Smart Pro</td>\n",
              "      <td>190199383180</td>\n",
              "      <td>3000</td>\n",
              "      <td>1</td>\n",
              "      <td>3331.29</td>\n",
              "      <td>376.29</td>\n",
              "      <td>45.0</td>\n",
              "    </tr>\n",
              "  </tbody>\n",
              "</table>\n",
              "</div>"
            ],
            "text/plain": [
              "   cod_loja         data_compra  ... impostos cash_back_instantaneo\n",
              "0       430 2019-07-05 10:30:41  ...   376.29                  45.0\n",
              "1       430 2019-07-05 11:58:18  ...   376.29                  45.0\n",
              "2       430 2019-07-05 14:06:58  ...   376.29                  45.0\n",
              "\n",
              "[3 rows x 13 columns]"
            ]
          },
          "metadata": {
            "tags": []
          },
          "execution_count": 12
        }
      ]
    },
    {
      "cell_type": "markdown",
      "metadata": {
        "id": "pVa_CrxOWFBf"
      },
      "source": [
        "## 4.2 Verificano Tipo de Colunas"
      ]
    },
    {
      "cell_type": "code",
      "metadata": {
        "colab": {
          "base_uri": "https://localhost:8080/"
        },
        "id": "jaY4UzBiWM3z",
        "outputId": "32642320-66ce-4e40-f738-9301d50442f2"
      },
      "source": [
        "df_vendedores.dtypes "
      ],
      "execution_count": 13,
      "outputs": [
        {
          "output_type": "execute_result",
          "data": {
            "text/plain": [
              "num_compra                     int64\n",
              "usuario                        int64\n",
              "nome                          object\n",
              "tipo_de_mercadoria            object\n",
              "filial                        object\n",
              "data_compra           datetime64[ns]\n",
              "valor_compra                 float64\n",
              "imposto                      float64\n",
              "cpf_na_nota                   object\n",
              "dtype: object"
            ]
          },
          "metadata": {
            "tags": []
          },
          "execution_count": 13
        }
      ]
    },
    {
      "cell_type": "code",
      "metadata": {
        "colab": {
          "base_uri": "https://localhost:8080/"
        },
        "id": "hqXDRKOnZjr0",
        "outputId": "9e89ea95-f758-4901-b1e8-81bcf4bde4ff"
      },
      "source": [
        "df_lojas.dtypes"
      ],
      "execution_count": 14,
      "outputs": [
        {
          "output_type": "execute_result",
          "data": {
            "text/plain": [
              "cod_loja                            int64\n",
              "data_compra                datetime64[ns]\n",
              "inicio                     datetime64[ns]\n",
              "termino                    datetime64[ns]\n",
              "loja                               object\n",
              "cod_loja                            int64\n",
              "produto                            object\n",
              "cod_produto                         int64\n",
              "valor_unitario_sem_impo             int64\n",
              "quantidade                          int64\n",
              "valor_total                       float64\n",
              "impostos                          float64\n",
              "cash_back_instantaneo             float64\n",
              "dtype: object"
            ]
          },
          "metadata": {
            "tags": []
          },
          "execution_count": 14
        }
      ]
    },
    {
      "cell_type": "markdown",
      "metadata": {
        "id": "s0nnocyEasB7"
      },
      "source": [
        "## 4.3 Tratando linhas"
      ]
    },
    {
      "cell_type": "markdown",
      "metadata": {
        "id": "g-XyoYjYbFPf"
      },
      "source": [
        "### **Data Frame Vendedores - Substituindo 'Manicor é' por Manicore na coluna filial**"
      ]
    },
    {
      "cell_type": "code",
      "metadata": {
        "colab": {
          "base_uri": "https://localhost:8080/",
          "height": 145
        },
        "id": "LNp7HzWJOUT6",
        "outputId": "fb735d14-ac41-4599-f96c-f3febd6fe5c7"
      },
      "source": [
        "df_vendedores['filial'] = df_vendedores['filial'].str.replace('Loja Manicor é','Loja Manicore')\n",
        "df_vendedores.sort_values(['cpf_na_nota'] ,ascending = [True]).head(2)"
      ],
      "execution_count": 15,
      "outputs": [
        {
          "output_type": "execute_result",
          "data": {
            "text/html": [
              "<div>\n",
              "<style scoped>\n",
              "    .dataframe tbody tr th:only-of-type {\n",
              "        vertical-align: middle;\n",
              "    }\n",
              "\n",
              "    .dataframe tbody tr th {\n",
              "        vertical-align: top;\n",
              "    }\n",
              "\n",
              "    .dataframe thead th {\n",
              "        text-align: right;\n",
              "    }\n",
              "</style>\n",
              "<table border=\"1\" class=\"dataframe\">\n",
              "  <thead>\n",
              "    <tr style=\"text-align: right;\">\n",
              "      <th></th>\n",
              "      <th>num_compra</th>\n",
              "      <th>usuario</th>\n",
              "      <th>nome</th>\n",
              "      <th>tipo_de_mercadoria</th>\n",
              "      <th>filial</th>\n",
              "      <th>data_compra</th>\n",
              "      <th>valor_compra</th>\n",
              "      <th>imposto</th>\n",
              "      <th>cpf_na_nota</th>\n",
              "    </tr>\n",
              "  </thead>\n",
              "  <tbody>\n",
              "    <tr>\n",
              "      <th>12257</th>\n",
              "      <td>21878611</td>\n",
              "      <td>289592</td>\n",
              "      <td>ROSEMARY</td>\n",
              "      <td>AGULHAS E SERINGAS</td>\n",
              "      <td>Loja Manicore</td>\n",
              "      <td>2020-04-20 21:05:37.416</td>\n",
              "      <td>12.104</td>\n",
              "      <td>0.54468</td>\n",
              "      <td>Na~o</td>\n",
              "    </tr>\n",
              "    <tr>\n",
              "      <th>11960</th>\n",
              "      <td>24883902</td>\n",
              "      <td>125079</td>\n",
              "      <td>LUCIANO</td>\n",
              "      <td>DESPERTADOR</td>\n",
              "      <td>Loja Manicore</td>\n",
              "      <td>2019-01-05 12:43:38.000</td>\n",
              "      <td>48.040</td>\n",
              "      <td>2.16180</td>\n",
              "      <td>Na~o</td>\n",
              "    </tr>\n",
              "  </tbody>\n",
              "</table>\n",
              "</div>"
            ],
            "text/plain": [
              "       num_compra  usuario      nome  ... valor_compra  imposto cpf_na_nota\n",
              "12257    21878611   289592  ROSEMARY  ...       12.104  0.54468        Na~o\n",
              "11960    24883902   125079   LUCIANO  ...       48.040  2.16180        Na~o\n",
              "\n",
              "[2 rows x 9 columns]"
            ]
          },
          "metadata": {
            "tags": []
          },
          "execution_count": 15
        }
      ]
    },
    {
      "cell_type": "markdown",
      "metadata": {
        "id": "m9pcegstdOLY"
      },
      "source": [
        "### **Data Frame Vendedores - Substituindo 'Na~o' por 'N'e 'Sim' por 'S' na coluna cpf_na_nota**"
      ]
    },
    {
      "cell_type": "code",
      "metadata": {
        "colab": {
          "base_uri": "https://localhost:8080/",
          "height": 145
        },
        "id": "q5bRXSs4c3Wb",
        "outputId": "cd15aeef-eb79-4481-b1d5-c8f58e117922"
      },
      "source": [
        "df_vendedores['cpf_na_nota'] = df_vendedores['cpf_na_nota'].str.replace('Na~o','NAO')\n",
        "df_vendedores['cpf_na_nota'] = df_vendedores['cpf_na_nota'].str.replace('Sim','SIM')\n",
        "df_vendedores.sort_values(['cpf_na_nota'] ,ascending = [True]).head(2)"
      ],
      "execution_count": 16,
      "outputs": [
        {
          "output_type": "execute_result",
          "data": {
            "text/html": [
              "<div>\n",
              "<style scoped>\n",
              "    .dataframe tbody tr th:only-of-type {\n",
              "        vertical-align: middle;\n",
              "    }\n",
              "\n",
              "    .dataframe tbody tr th {\n",
              "        vertical-align: top;\n",
              "    }\n",
              "\n",
              "    .dataframe thead th {\n",
              "        text-align: right;\n",
              "    }\n",
              "</style>\n",
              "<table border=\"1\" class=\"dataframe\">\n",
              "  <thead>\n",
              "    <tr style=\"text-align: right;\">\n",
              "      <th></th>\n",
              "      <th>num_compra</th>\n",
              "      <th>usuario</th>\n",
              "      <th>nome</th>\n",
              "      <th>tipo_de_mercadoria</th>\n",
              "      <th>filial</th>\n",
              "      <th>data_compra</th>\n",
              "      <th>valor_compra</th>\n",
              "      <th>imposto</th>\n",
              "      <th>cpf_na_nota</th>\n",
              "    </tr>\n",
              "  </thead>\n",
              "  <tbody>\n",
              "    <tr>\n",
              "      <th>12257</th>\n",
              "      <td>21878611</td>\n",
              "      <td>289592</td>\n",
              "      <td>ROSEMARY</td>\n",
              "      <td>AGULHAS E SERINGAS</td>\n",
              "      <td>Loja Manicore</td>\n",
              "      <td>2020-04-20 21:05:37.416</td>\n",
              "      <td>12.104</td>\n",
              "      <td>0.54468</td>\n",
              "      <td>NAO</td>\n",
              "    </tr>\n",
              "    <tr>\n",
              "      <th>11960</th>\n",
              "      <td>24883902</td>\n",
              "      <td>125079</td>\n",
              "      <td>LUCIANO</td>\n",
              "      <td>DESPERTADOR</td>\n",
              "      <td>Loja Manicore</td>\n",
              "      <td>2019-01-05 12:43:38.000</td>\n",
              "      <td>48.040</td>\n",
              "      <td>2.16180</td>\n",
              "      <td>NAO</td>\n",
              "    </tr>\n",
              "  </tbody>\n",
              "</table>\n",
              "</div>"
            ],
            "text/plain": [
              "       num_compra  usuario      nome  ... valor_compra  imposto cpf_na_nota\n",
              "12257    21878611   289592  ROSEMARY  ...       12.104  0.54468         NAO\n",
              "11960    24883902   125079   LUCIANO  ...       48.040  2.16180         NAO\n",
              "\n",
              "[2 rows x 9 columns]"
            ]
          },
          "metadata": {
            "tags": []
          },
          "execution_count": 16
        }
      ]
    },
    {
      "cell_type": "markdown",
      "metadata": {
        "id": "m8wBfl5cQkWE"
      },
      "source": [
        "### **Data Frame Vendedores - Arredondando colunas 'valor_compra' e 'imposto'**"
      ]
    },
    {
      "cell_type": "code",
      "metadata": {
        "colab": {
          "base_uri": "https://localhost:8080/",
          "height": 145
        },
        "id": "tHvifRjSQj68",
        "outputId": "990477f7-cafe-4087-916a-41cecb7c12ce"
      },
      "source": [
        "df_imposto = df_vendedores.copy()   #Pegamos uma instancia desse df pois notou-se que com as casas decimais mantidas\n",
        "# a porcentagem do imposto se mantem constante e igual a 4,5%\n",
        "df_vendedores[['valor_compra','imposto']]  = df_vendedores[['valor_compra','imposto']].round(2)\n",
        "df_vendedores.sort_values(['cpf_na_nota'] ,ascending = [True]).head(2)"
      ],
      "execution_count": 17,
      "outputs": [
        {
          "output_type": "execute_result",
          "data": {
            "text/html": [
              "<div>\n",
              "<style scoped>\n",
              "    .dataframe tbody tr th:only-of-type {\n",
              "        vertical-align: middle;\n",
              "    }\n",
              "\n",
              "    .dataframe tbody tr th {\n",
              "        vertical-align: top;\n",
              "    }\n",
              "\n",
              "    .dataframe thead th {\n",
              "        text-align: right;\n",
              "    }\n",
              "</style>\n",
              "<table border=\"1\" class=\"dataframe\">\n",
              "  <thead>\n",
              "    <tr style=\"text-align: right;\">\n",
              "      <th></th>\n",
              "      <th>num_compra</th>\n",
              "      <th>usuario</th>\n",
              "      <th>nome</th>\n",
              "      <th>tipo_de_mercadoria</th>\n",
              "      <th>filial</th>\n",
              "      <th>data_compra</th>\n",
              "      <th>valor_compra</th>\n",
              "      <th>imposto</th>\n",
              "      <th>cpf_na_nota</th>\n",
              "    </tr>\n",
              "  </thead>\n",
              "  <tbody>\n",
              "    <tr>\n",
              "      <th>12257</th>\n",
              "      <td>21878611</td>\n",
              "      <td>289592</td>\n",
              "      <td>ROSEMARY</td>\n",
              "      <td>AGULHAS E SERINGAS</td>\n",
              "      <td>Loja Manicore</td>\n",
              "      <td>2020-04-20 21:05:37.416</td>\n",
              "      <td>12.10</td>\n",
              "      <td>0.54</td>\n",
              "      <td>NAO</td>\n",
              "    </tr>\n",
              "    <tr>\n",
              "      <th>11960</th>\n",
              "      <td>24883902</td>\n",
              "      <td>125079</td>\n",
              "      <td>LUCIANO</td>\n",
              "      <td>DESPERTADOR</td>\n",
              "      <td>Loja Manicore</td>\n",
              "      <td>2019-01-05 12:43:38.000</td>\n",
              "      <td>48.04</td>\n",
              "      <td>2.16</td>\n",
              "      <td>NAO</td>\n",
              "    </tr>\n",
              "  </tbody>\n",
              "</table>\n",
              "</div>"
            ],
            "text/plain": [
              "       num_compra  usuario      nome  ... valor_compra imposto cpf_na_nota\n",
              "12257    21878611   289592  ROSEMARY  ...        12.10    0.54         NAO\n",
              "11960    24883902   125079   LUCIANO  ...        48.04    2.16         NAO\n",
              "\n",
              "[2 rows x 9 columns]"
            ]
          },
          "metadata": {
            "tags": []
          },
          "execution_count": 17
        }
      ]
    },
    {
      "cell_type": "markdown",
      "metadata": {
        "id": "VhLyf89nkftu"
      },
      "source": [
        "# **5.0 EXTRAINDO INFORMAÇÕES BASE 1**"
      ]
    },
    {
      "cell_type": "markdown",
      "metadata": {
        "id": "NcPZCijJk2ro"
      },
      "source": [
        "## 5.1 Quantidade de Vendas por Vendedores (TODAS AS UNIDADES)"
      ]
    },
    {
      "cell_type": "code",
      "metadata": {
        "colab": {
          "base_uri": "https://localhost:8080/",
          "height": 419
        },
        "id": "zBowJvRhqzSD",
        "outputId": "6811b00b-de01-4ae1-e9d7-b5a86a4016f5"
      },
      "source": [
        "df_vendedores_qtd = df_vendedores.groupby(['usuario','nome']).agg({'valor_compra':'sum','num_compra':'count' }).reset_index(drop = False)\n",
        "df_vendedores_qtd = df_vendedores_qtd.rename(columns={'num_compra':'qtd_vendas','valor_compra':'total_compras'})\n",
        "df_vendedores_qtd['valor_medio_por_venda'] = (df_vendedores_qtd['total_compras']/df_vendedores_qtd['qtd_vendas']).round(2)\n",
        "df_vendedores_qtd['percentual_tot_compras'] = ((df_vendedores_qtd['total_compras']/df_vendedores_qtd['total_compras'].sum()).round(4))*100\n",
        "df_vendedores_qtd['percentual_qtd_vendas'] = ((df_vendedores_qtd['qtd_vendas']/df_vendedores_qtd['qtd_vendas'].sum()).round(4))*100\n",
        "df_vendedores_qtd = df_vendedores_qtd.sort_values(['qtd_vendas'] ,ascending = [False]).reset_index(drop = True)\n",
        "df_vendedores_qtd\n"
      ],
      "execution_count": 18,
      "outputs": [
        {
          "output_type": "execute_result",
          "data": {
            "text/html": [
              "<div>\n",
              "<style scoped>\n",
              "    .dataframe tbody tr th:only-of-type {\n",
              "        vertical-align: middle;\n",
              "    }\n",
              "\n",
              "    .dataframe tbody tr th {\n",
              "        vertical-align: top;\n",
              "    }\n",
              "\n",
              "    .dataframe thead th {\n",
              "        text-align: right;\n",
              "    }\n",
              "</style>\n",
              "<table border=\"1\" class=\"dataframe\">\n",
              "  <thead>\n",
              "    <tr style=\"text-align: right;\">\n",
              "      <th></th>\n",
              "      <th>usuario</th>\n",
              "      <th>nome</th>\n",
              "      <th>total_compras</th>\n",
              "      <th>qtd_vendas</th>\n",
              "      <th>valor_medio_por_venda</th>\n",
              "      <th>percentual_tot_compras</th>\n",
              "      <th>percentual_qtd_vendas</th>\n",
              "    </tr>\n",
              "  </thead>\n",
              "  <tbody>\n",
              "    <tr>\n",
              "      <th>0</th>\n",
              "      <td>295</td>\n",
              "      <td>ANDERSON</td>\n",
              "      <td>4853.08</td>\n",
              "      <td>22</td>\n",
              "      <td>220.59</td>\n",
              "      <td>0.26</td>\n",
              "      <td>0.16</td>\n",
              "    </tr>\n",
              "    <tr>\n",
              "      <th>1</th>\n",
              "      <td>6750</td>\n",
              "      <td>CLARA</td>\n",
              "      <td>2330.77</td>\n",
              "      <td>21</td>\n",
              "      <td>110.99</td>\n",
              "      <td>0.13</td>\n",
              "      <td>0.15</td>\n",
              "    </tr>\n",
              "    <tr>\n",
              "      <th>2</th>\n",
              "      <td>4456</td>\n",
              "      <td>SIMONE</td>\n",
              "      <td>1636.58</td>\n",
              "      <td>21</td>\n",
              "      <td>77.93</td>\n",
              "      <td>0.09</td>\n",
              "      <td>0.15</td>\n",
              "    </tr>\n",
              "    <tr>\n",
              "      <th>3</th>\n",
              "      <td>4464</td>\n",
              "      <td>MARIA</td>\n",
              "      <td>2673.82</td>\n",
              "      <td>21</td>\n",
              "      <td>127.32</td>\n",
              "      <td>0.15</td>\n",
              "      <td>0.15</td>\n",
              "    </tr>\n",
              "    <tr>\n",
              "      <th>4</th>\n",
              "      <td>4491</td>\n",
              "      <td>JESSICA</td>\n",
              "      <td>1702.13</td>\n",
              "      <td>21</td>\n",
              "      <td>81.05</td>\n",
              "      <td>0.09</td>\n",
              "      <td>0.15</td>\n",
              "    </tr>\n",
              "    <tr>\n",
              "      <th>...</th>\n",
              "      <td>...</td>\n",
              "      <td>...</td>\n",
              "      <td>...</td>\n",
              "      <td>...</td>\n",
              "      <td>...</td>\n",
              "      <td>...</td>\n",
              "      <td>...</td>\n",
              "    </tr>\n",
              "    <tr>\n",
              "      <th>725</th>\n",
              "      <td>457580</td>\n",
              "      <td>CRISTIANE</td>\n",
              "      <td>679.81</td>\n",
              "      <td>17</td>\n",
              "      <td>39.99</td>\n",
              "      <td>0.04</td>\n",
              "      <td>0.12</td>\n",
              "    </tr>\n",
              "    <tr>\n",
              "      <th>726</th>\n",
              "      <td>457409</td>\n",
              "      <td>MEDEIROS</td>\n",
              "      <td>405.25</td>\n",
              "      <td>17</td>\n",
              "      <td>23.84</td>\n",
              "      <td>0.02</td>\n",
              "      <td>0.12</td>\n",
              "    </tr>\n",
              "    <tr>\n",
              "      <th>727</th>\n",
              "      <td>457199</td>\n",
              "      <td>SAFIRA</td>\n",
              "      <td>371.46</td>\n",
              "      <td>17</td>\n",
              "      <td>21.85</td>\n",
              "      <td>0.02</td>\n",
              "      <td>0.12</td>\n",
              "    </tr>\n",
              "    <tr>\n",
              "      <th>728</th>\n",
              "      <td>457065</td>\n",
              "      <td>LOBO</td>\n",
              "      <td>389.11</td>\n",
              "      <td>17</td>\n",
              "      <td>22.89</td>\n",
              "      <td>0.02</td>\n",
              "      <td>0.12</td>\n",
              "    </tr>\n",
              "    <tr>\n",
              "      <th>729</th>\n",
              "      <td>466595</td>\n",
              "      <td>REGINA</td>\n",
              "      <td>566.97</td>\n",
              "      <td>17</td>\n",
              "      <td>33.35</td>\n",
              "      <td>0.03</td>\n",
              "      <td>0.12</td>\n",
              "    </tr>\n",
              "  </tbody>\n",
              "</table>\n",
              "<p>730 rows × 7 columns</p>\n",
              "</div>"
            ],
            "text/plain": [
              "     usuario       nome  ...  percentual_tot_compras  percentual_qtd_vendas\n",
              "0        295   ANDERSON  ...                    0.26                   0.16\n",
              "1       6750      CLARA  ...                    0.13                   0.15\n",
              "2       4456     SIMONE  ...                    0.09                   0.15\n",
              "3       4464      MARIA  ...                    0.15                   0.15\n",
              "4       4491    JESSICA  ...                    0.09                   0.15\n",
              "..       ...        ...  ...                     ...                    ...\n",
              "725   457580  CRISTIANE  ...                    0.04                   0.12\n",
              "726   457409   MEDEIROS  ...                    0.02                   0.12\n",
              "727   457199     SAFIRA  ...                    0.02                   0.12\n",
              "728   457065       LOBO  ...                    0.02                   0.12\n",
              "729   466595     REGINA  ...                    0.03                   0.12\n",
              "\n",
              "[730 rows x 7 columns]"
            ]
          },
          "metadata": {
            "tags": []
          },
          "execution_count": 18
        }
      ]
    },
    {
      "cell_type": "code",
      "metadata": {
        "colab": {
          "base_uri": "https://localhost:8080/",
          "height": 462
        },
        "id": "QFv7gSXc2-GN",
        "outputId": "5a0c1fda-4649-4a70-babf-9c72f4698673"
      },
      "source": [
        "histograma_simples(df_vendedores_qtd,'qtd_vendas',17,23,passo=1,title='Distribuição Quantidade de vendedores por quantidde de Vendas',xlabel=\"Quantidade de Vendas\",ylabel ='Quantidade de Vendedores',path='histograma_qtd_vendas_vendedores')"
      ],
      "execution_count": 19,
      "outputs": [
        {
          "output_type": "display_data",
          "data": {
            "image/png": "[encoded data removed]",
            "text/plain": [
              "<Figure size 576x504 with 1 Axes>"
            ]
          },
          "metadata": {
            "tags": [],
            "needs_background": "light"
          }
        }
      ]
    },
    {
      "cell_type": "markdown",
      "metadata": {
        "id": "_Kw_Z-sxzl3S"
      },
      "source": [
        "### **TOP 10 por quantidade de vendas**"
      ]
    },
    {
      "cell_type": "code",
      "metadata": {
        "colab": {
          "base_uri": "https://localhost:8080/",
          "height": 359
        },
        "id": "ShZJASVEyKw1",
        "outputId": "48c353fa-6ca8-4fe9-e64d-62b3ac1dae3c"
      },
      "source": [
        "df_vendedores_qtd.head(10)"
      ],
      "execution_count": 20,
      "outputs": [
        {
          "output_type": "execute_result",
          "data": {
            "text/html": [
              "<div>\n",
              "<style scoped>\n",
              "    .dataframe tbody tr th:only-of-type {\n",
              "        vertical-align: middle;\n",
              "    }\n",
              "\n",
              "    .dataframe tbody tr th {\n",
              "        vertical-align: top;\n",
              "    }\n",
              "\n",
              "    .dataframe thead th {\n",
              "        text-align: right;\n",
              "    }\n",
              "</style>\n",
              "<table border=\"1\" class=\"dataframe\">\n",
              "  <thead>\n",
              "    <tr style=\"text-align: right;\">\n",
              "      <th></th>\n",
              "      <th>usuario</th>\n",
              "      <th>nome</th>\n",
              "      <th>total_compras</th>\n",
              "      <th>qtd_vendas</th>\n",
              "      <th>valor_medio_por_venda</th>\n",
              "      <th>percentual_tot_compras</th>\n",
              "      <th>percentual_qtd_vendas</th>\n",
              "    </tr>\n",
              "  </thead>\n",
              "  <tbody>\n",
              "    <tr>\n",
              "      <th>0</th>\n",
              "      <td>295</td>\n",
              "      <td>ANDERSON</td>\n",
              "      <td>4853.08</td>\n",
              "      <td>22</td>\n",
              "      <td>220.59</td>\n",
              "      <td>0.26</td>\n",
              "      <td>0.16</td>\n",
              "    </tr>\n",
              "    <tr>\n",
              "      <th>1</th>\n",
              "      <td>6750</td>\n",
              "      <td>CLARA</td>\n",
              "      <td>2330.77</td>\n",
              "      <td>21</td>\n",
              "      <td>110.99</td>\n",
              "      <td>0.13</td>\n",
              "      <td>0.15</td>\n",
              "    </tr>\n",
              "    <tr>\n",
              "      <th>2</th>\n",
              "      <td>4456</td>\n",
              "      <td>SIMONE</td>\n",
              "      <td>1636.58</td>\n",
              "      <td>21</td>\n",
              "      <td>77.93</td>\n",
              "      <td>0.09</td>\n",
              "      <td>0.15</td>\n",
              "    </tr>\n",
              "    <tr>\n",
              "      <th>3</th>\n",
              "      <td>4464</td>\n",
              "      <td>MARIA</td>\n",
              "      <td>2673.82</td>\n",
              "      <td>21</td>\n",
              "      <td>127.32</td>\n",
              "      <td>0.15</td>\n",
              "      <td>0.15</td>\n",
              "    </tr>\n",
              "    <tr>\n",
              "      <th>4</th>\n",
              "      <td>4491</td>\n",
              "      <td>JESSICA</td>\n",
              "      <td>1702.13</td>\n",
              "      <td>21</td>\n",
              "      <td>81.05</td>\n",
              "      <td>0.09</td>\n",
              "      <td>0.15</td>\n",
              "    </tr>\n",
              "    <tr>\n",
              "      <th>5</th>\n",
              "      <td>4591</td>\n",
              "      <td>KELEN</td>\n",
              "      <td>1023.65</td>\n",
              "      <td>21</td>\n",
              "      <td>48.75</td>\n",
              "      <td>0.06</td>\n",
              "      <td>0.15</td>\n",
              "    </tr>\n",
              "    <tr>\n",
              "      <th>6</th>\n",
              "      <td>4775</td>\n",
              "      <td>ELLIDA</td>\n",
              "      <td>507.88</td>\n",
              "      <td>21</td>\n",
              "      <td>24.18</td>\n",
              "      <td>0.03</td>\n",
              "      <td>0.15</td>\n",
              "    </tr>\n",
              "    <tr>\n",
              "      <th>7</th>\n",
              "      <td>4863</td>\n",
              "      <td>TAINARA</td>\n",
              "      <td>3003.39</td>\n",
              "      <td>21</td>\n",
              "      <td>143.02</td>\n",
              "      <td>0.16</td>\n",
              "      <td>0.15</td>\n",
              "    </tr>\n",
              "    <tr>\n",
              "      <th>8</th>\n",
              "      <td>6085</td>\n",
              "      <td>MARCIANA</td>\n",
              "      <td>792.95</td>\n",
              "      <td>21</td>\n",
              "      <td>37.76</td>\n",
              "      <td>0.04</td>\n",
              "      <td>0.15</td>\n",
              "    </tr>\n",
              "    <tr>\n",
              "      <th>9</th>\n",
              "      <td>7245</td>\n",
              "      <td>SYANNE</td>\n",
              "      <td>1644.82</td>\n",
              "      <td>21</td>\n",
              "      <td>78.32</td>\n",
              "      <td>0.09</td>\n",
              "      <td>0.15</td>\n",
              "    </tr>\n",
              "  </tbody>\n",
              "</table>\n",
              "</div>"
            ],
            "text/plain": [
              "   usuario      nome  ...  percentual_tot_compras  percentual_qtd_vendas\n",
              "0      295  ANDERSON  ...                    0.26                   0.16\n",
              "1     6750     CLARA  ...                    0.13                   0.15\n",
              "2     4456    SIMONE  ...                    0.09                   0.15\n",
              "3     4464     MARIA  ...                    0.15                   0.15\n",
              "4     4491   JESSICA  ...                    0.09                   0.15\n",
              "5     4591     KELEN  ...                    0.06                   0.15\n",
              "6     4775    ELLIDA  ...                    0.03                   0.15\n",
              "7     4863   TAINARA  ...                    0.16                   0.15\n",
              "8     6085  MARCIANA  ...                    0.04                   0.15\n",
              "9     7245    SYANNE  ...                    0.09                   0.15\n",
              "\n",
              "[10 rows x 7 columns]"
            ]
          },
          "metadata": {
            "tags": []
          },
          "execution_count": 20
        }
      ]
    },
    {
      "cell_type": "markdown",
      "metadata": {
        "id": "lvBxYwL4z28b"
      },
      "source": [
        "### **TOP 10 por valor total de vendas**"
      ]
    },
    {
      "cell_type": "code",
      "metadata": {
        "colab": {
          "base_uri": "https://localhost:8080/",
          "height": 359
        },
        "id": "dO60OGciz_v7",
        "outputId": "a016236a-90ad-45cb-8563-604934e2d120"
      },
      "source": [
        "df_vendedores_qtd.sort_values(['total_compras'] ,ascending = [False]).reset_index(drop = True).head(10)"
      ],
      "execution_count": 21,
      "outputs": [
        {
          "output_type": "execute_result",
          "data": {
            "text/html": [
              "<div>\n",
              "<style scoped>\n",
              "    .dataframe tbody tr th:only-of-type {\n",
              "        vertical-align: middle;\n",
              "    }\n",
              "\n",
              "    .dataframe tbody tr th {\n",
              "        vertical-align: top;\n",
              "    }\n",
              "\n",
              "    .dataframe thead th {\n",
              "        text-align: right;\n",
              "    }\n",
              "</style>\n",
              "<table border=\"1\" class=\"dataframe\">\n",
              "  <thead>\n",
              "    <tr style=\"text-align: right;\">\n",
              "      <th></th>\n",
              "      <th>usuario</th>\n",
              "      <th>nome</th>\n",
              "      <th>total_compras</th>\n",
              "      <th>qtd_vendas</th>\n",
              "      <th>valor_medio_por_venda</th>\n",
              "      <th>percentual_tot_compras</th>\n",
              "      <th>percentual_qtd_vendas</th>\n",
              "    </tr>\n",
              "  </thead>\n",
              "  <tbody>\n",
              "    <tr>\n",
              "      <th>0</th>\n",
              "      <td>266970</td>\n",
              "      <td>BRUNO</td>\n",
              "      <td>28550.05</td>\n",
              "      <td>19</td>\n",
              "      <td>1502.63</td>\n",
              "      <td>1.56</td>\n",
              "      <td>0.14</td>\n",
              "    </tr>\n",
              "    <tr>\n",
              "      <th>1</th>\n",
              "      <td>321972</td>\n",
              "      <td>HELENO</td>\n",
              "      <td>26342.78</td>\n",
              "      <td>19</td>\n",
              "      <td>1386.46</td>\n",
              "      <td>1.44</td>\n",
              "      <td>0.14</td>\n",
              "    </tr>\n",
              "    <tr>\n",
              "      <th>2</th>\n",
              "      <td>234336</td>\n",
              "      <td>KAIO</td>\n",
              "      <td>25672.41</td>\n",
              "      <td>19</td>\n",
              "      <td>1351.18</td>\n",
              "      <td>1.40</td>\n",
              "      <td>0.14</td>\n",
              "    </tr>\n",
              "    <tr>\n",
              "      <th>3</th>\n",
              "      <td>211203</td>\n",
              "      <td>BRENDA</td>\n",
              "      <td>25402.70</td>\n",
              "      <td>19</td>\n",
              "      <td>1336.98</td>\n",
              "      <td>1.39</td>\n",
              "      <td>0.14</td>\n",
              "    </tr>\n",
              "    <tr>\n",
              "      <th>4</th>\n",
              "      <td>370</td>\n",
              "      <td>ROSILANE</td>\n",
              "      <td>24481.06</td>\n",
              "      <td>21</td>\n",
              "      <td>1165.76</td>\n",
              "      <td>1.34</td>\n",
              "      <td>0.15</td>\n",
              "    </tr>\n",
              "    <tr>\n",
              "      <th>5</th>\n",
              "      <td>316759</td>\n",
              "      <td>KAREN</td>\n",
              "      <td>23440.43</td>\n",
              "      <td>19</td>\n",
              "      <td>1233.71</td>\n",
              "      <td>1.28</td>\n",
              "      <td>0.14</td>\n",
              "    </tr>\n",
              "    <tr>\n",
              "      <th>6</th>\n",
              "      <td>326764</td>\n",
              "      <td>DAIANE</td>\n",
              "      <td>21025.40</td>\n",
              "      <td>19</td>\n",
              "      <td>1106.60</td>\n",
              "      <td>1.15</td>\n",
              "      <td>0.14</td>\n",
              "    </tr>\n",
              "    <tr>\n",
              "      <th>7</th>\n",
              "      <td>460</td>\n",
              "      <td>SANDRA</td>\n",
              "      <td>18042.31</td>\n",
              "      <td>21</td>\n",
              "      <td>859.16</td>\n",
              "      <td>0.98</td>\n",
              "      <td>0.15</td>\n",
              "    </tr>\n",
              "    <tr>\n",
              "      <th>8</th>\n",
              "      <td>219612</td>\n",
              "      <td>MARIA</td>\n",
              "      <td>17540.35</td>\n",
              "      <td>19</td>\n",
              "      <td>923.18</td>\n",
              "      <td>0.96</td>\n",
              "      <td>0.14</td>\n",
              "    </tr>\n",
              "    <tr>\n",
              "      <th>9</th>\n",
              "      <td>2391</td>\n",
              "      <td>VENDAS</td>\n",
              "      <td>16873.02</td>\n",
              "      <td>21</td>\n",
              "      <td>803.48</td>\n",
              "      <td>0.92</td>\n",
              "      <td>0.15</td>\n",
              "    </tr>\n",
              "  </tbody>\n",
              "</table>\n",
              "</div>"
            ],
            "text/plain": [
              "   usuario      nome  ...  percentual_tot_compras  percentual_qtd_vendas\n",
              "0   266970     BRUNO  ...                    1.56                   0.14\n",
              "1   321972    HELENO  ...                    1.44                   0.14\n",
              "2   234336      KAIO  ...                    1.40                   0.14\n",
              "3   211203    BRENDA  ...                    1.39                   0.14\n",
              "4      370  ROSILANE  ...                    1.34                   0.15\n",
              "5   316759     KAREN  ...                    1.28                   0.14\n",
              "6   326764    DAIANE  ...                    1.15                   0.14\n",
              "7      460    SANDRA  ...                    0.98                   0.15\n",
              "8   219612     MARIA  ...                    0.96                   0.14\n",
              "9     2391    VENDAS  ...                    0.92                   0.15\n",
              "\n",
              "[10 rows x 7 columns]"
            ]
          },
          "metadata": {
            "tags": []
          },
          "execution_count": 21
        }
      ]
    },
    {
      "cell_type": "code",
      "metadata": {
        "colab": {
          "base_uri": "https://localhost:8080/",
          "height": 462
        },
        "id": "DbN9XxJu-Tvs",
        "outputId": "7fad722e-2a9f-4f9d-a7d8-0770420e7800"
      },
      "source": [
        "histograma_simples(df_vendedores_qtd,'total_compras',0,31000,passo=5000,title='Distribuição Valor total de vendas por vendedores',xlabel=\"Valor total de vendas\",ylabel ='Quantidade de Vendedores',path='histograma_total_vendas_vendedores')"
      ],
      "execution_count": 22,
      "outputs": [
        {
          "output_type": "display_data",
          "data": {
            "image/png": "[encoded data removed]",
            "text/plain": [
              "<Figure size 576x504 with 1 Axes>"
            ]
          },
          "metadata": {
            "tags": [],
            "needs_background": "light"
          }
        }
      ]
    },
    {
      "cell_type": "markdown",
      "metadata": {
        "id": "uAVLPlG70ToU"
      },
      "source": [
        "### **TOP 10 por valor medio por venda**"
      ]
    },
    {
      "cell_type": "code",
      "metadata": {
        "colab": {
          "base_uri": "https://localhost:8080/",
          "height": 359
        },
        "id": "DxLwC9Gy0Z-5",
        "outputId": "8ad9d2f2-1503-4d84-e392-1e464dd2ac04"
      },
      "source": [
        "df_vendedores_qtd.sort_values(['valor_medio_por_venda'] ,ascending = [False]).reset_index(drop = True).head(10)"
      ],
      "execution_count": 23,
      "outputs": [
        {
          "output_type": "execute_result",
          "data": {
            "text/html": [
              "<div>\n",
              "<style scoped>\n",
              "    .dataframe tbody tr th:only-of-type {\n",
              "        vertical-align: middle;\n",
              "    }\n",
              "\n",
              "    .dataframe tbody tr th {\n",
              "        vertical-align: top;\n",
              "    }\n",
              "\n",
              "    .dataframe thead th {\n",
              "        text-align: right;\n",
              "    }\n",
              "</style>\n",
              "<table border=\"1\" class=\"dataframe\">\n",
              "  <thead>\n",
              "    <tr style=\"text-align: right;\">\n",
              "      <th></th>\n",
              "      <th>usuario</th>\n",
              "      <th>nome</th>\n",
              "      <th>total_compras</th>\n",
              "      <th>qtd_vendas</th>\n",
              "      <th>valor_medio_por_venda</th>\n",
              "      <th>percentual_tot_compras</th>\n",
              "      <th>percentual_qtd_vendas</th>\n",
              "    </tr>\n",
              "  </thead>\n",
              "  <tbody>\n",
              "    <tr>\n",
              "      <th>0</th>\n",
              "      <td>266970</td>\n",
              "      <td>BRUNO</td>\n",
              "      <td>28550.05</td>\n",
              "      <td>19</td>\n",
              "      <td>1502.63</td>\n",
              "      <td>1.56</td>\n",
              "      <td>0.14</td>\n",
              "    </tr>\n",
              "    <tr>\n",
              "      <th>1</th>\n",
              "      <td>321972</td>\n",
              "      <td>HELENO</td>\n",
              "      <td>26342.78</td>\n",
              "      <td>19</td>\n",
              "      <td>1386.46</td>\n",
              "      <td>1.44</td>\n",
              "      <td>0.14</td>\n",
              "    </tr>\n",
              "    <tr>\n",
              "      <th>2</th>\n",
              "      <td>234336</td>\n",
              "      <td>KAIO</td>\n",
              "      <td>25672.41</td>\n",
              "      <td>19</td>\n",
              "      <td>1351.18</td>\n",
              "      <td>1.40</td>\n",
              "      <td>0.14</td>\n",
              "    </tr>\n",
              "    <tr>\n",
              "      <th>3</th>\n",
              "      <td>211203</td>\n",
              "      <td>BRENDA</td>\n",
              "      <td>25402.70</td>\n",
              "      <td>19</td>\n",
              "      <td>1336.98</td>\n",
              "      <td>1.39</td>\n",
              "      <td>0.14</td>\n",
              "    </tr>\n",
              "    <tr>\n",
              "      <th>4</th>\n",
              "      <td>316759</td>\n",
              "      <td>KAREN</td>\n",
              "      <td>23440.43</td>\n",
              "      <td>19</td>\n",
              "      <td>1233.71</td>\n",
              "      <td>1.28</td>\n",
              "      <td>0.14</td>\n",
              "    </tr>\n",
              "    <tr>\n",
              "      <th>5</th>\n",
              "      <td>370</td>\n",
              "      <td>ROSILANE</td>\n",
              "      <td>24481.06</td>\n",
              "      <td>21</td>\n",
              "      <td>1165.76</td>\n",
              "      <td>1.34</td>\n",
              "      <td>0.15</td>\n",
              "    </tr>\n",
              "    <tr>\n",
              "      <th>6</th>\n",
              "      <td>326764</td>\n",
              "      <td>DAIANE</td>\n",
              "      <td>21025.40</td>\n",
              "      <td>19</td>\n",
              "      <td>1106.60</td>\n",
              "      <td>1.15</td>\n",
              "      <td>0.14</td>\n",
              "    </tr>\n",
              "    <tr>\n",
              "      <th>7</th>\n",
              "      <td>219612</td>\n",
              "      <td>MARIA</td>\n",
              "      <td>17540.35</td>\n",
              "      <td>19</td>\n",
              "      <td>923.18</td>\n",
              "      <td>0.96</td>\n",
              "      <td>0.14</td>\n",
              "    </tr>\n",
              "    <tr>\n",
              "      <th>8</th>\n",
              "      <td>83091</td>\n",
              "      <td>DEBORA</td>\n",
              "      <td>16759.46</td>\n",
              "      <td>19</td>\n",
              "      <td>882.08</td>\n",
              "      <td>0.91</td>\n",
              "      <td>0.14</td>\n",
              "    </tr>\n",
              "    <tr>\n",
              "      <th>9</th>\n",
              "      <td>56417</td>\n",
              "      <td>INGRA</td>\n",
              "      <td>16529.62</td>\n",
              "      <td>19</td>\n",
              "      <td>869.98</td>\n",
              "      <td>0.90</td>\n",
              "      <td>0.14</td>\n",
              "    </tr>\n",
              "  </tbody>\n",
              "</table>\n",
              "</div>"
            ],
            "text/plain": [
              "   usuario      nome  ...  percentual_tot_compras  percentual_qtd_vendas\n",
              "0   266970     BRUNO  ...                    1.56                   0.14\n",
              "1   321972    HELENO  ...                    1.44                   0.14\n",
              "2   234336      KAIO  ...                    1.40                   0.14\n",
              "3   211203    BRENDA  ...                    1.39                   0.14\n",
              "4   316759     KAREN  ...                    1.28                   0.14\n",
              "5      370  ROSILANE  ...                    1.34                   0.15\n",
              "6   326764    DAIANE  ...                    1.15                   0.14\n",
              "7   219612     MARIA  ...                    0.96                   0.14\n",
              "8    83091    DEBORA  ...                    0.91                   0.14\n",
              "9    56417     INGRA  ...                    0.90                   0.14\n",
              "\n",
              "[10 rows x 7 columns]"
            ]
          },
          "metadata": {
            "tags": []
          },
          "execution_count": 23
        }
      ]
    },
    {
      "cell_type": "markdown",
      "metadata": {
        "id": "3yeMVQiG5RnK"
      },
      "source": [
        "### **PRINTS**"
      ]
    },
    {
      "cell_type": "code",
      "metadata": {
        "colab": {
          "base_uri": "https://localhost:8080/"
        },
        "id": "-XubHLFw0wsN",
        "outputId": "8044b2b6-0ed6-4d06-cbf2-545c79396e96"
      },
      "source": [
        "#Informações do vendedor que mais vendeu\n",
        "vendedor_mais_vendas = df_vendedores_qtd.iloc[0]['nome']\n",
        "vendedor_mais_vendas_cod = df_vendedores_qtd.iloc[0]['usuario']\n",
        "qtd_vendas_vendedor = df_vendedores_qtd.iloc[0]['qtd_vendas']\n",
        "\n",
        "# Informações do vendedor com maior valor total de vendas\n",
        "vendedor_maior_total = df_vendedores_qtd.sort_values(['total_compras'] ,ascending = [False]).reset_index(drop = True).iloc[0]['nome']\n",
        "vendedor_maior_total_cod = df_vendedores_qtd.sort_values(['total_compras'] ,ascending = [False]).reset_index(drop = True).iloc[0]['usuario']\n",
        "total_vendas_vendedor = df_vendedores_qtd.sort_values(['total_compras'] ,ascending = [False]).reset_index(drop = True).iloc[0]['total_compras'].round(2)\n",
        "\n",
        "# Informações do vendedor com maior valor médio de vendas\n",
        "vendedor_maior_media = df_vendedores_qtd.sort_values(['valor_medio_por_venda'] ,ascending = [False]).reset_index(drop = True).iloc[0]['nome']\n",
        "vendedor_maior_media_cod = df_vendedores_qtd.sort_values(['valor_medio_por_venda'] ,ascending = [False]).reset_index(drop = True).iloc[0]['usuario']\n",
        "media_vendas_vendedor = df_vendedores_qtd.sort_values(['valor_medio_por_venda'] ,ascending = [False]).reset_index(drop = True).iloc[0]['valor_medio_por_venda'].round(2)\n",
        "\n",
        "# Informações Médias Gerais \n",
        "valor_medio_vendas_vendedor = (df_vendedores_qtd['total_compras'].sum()/df_vendedores_qtd['qtd_vendas'].count()).round(2)\n",
        "valor_medio_vendas_por_venda = (df_vendedores_qtd['total_compras'].sum()/df_vendedores_qtd['qtd_vendas'].sum()).round(2)\n",
        "qtd_media_vendas = int((df_vendedores_qtd['qtd_vendas'].sum()/df_vendedores_qtd['qtd_vendas'].count()).round(0))\n",
        "\n",
        "print(f\"Quantidade Média de Vendas por vendedor: {qtd_media_vendas} vendas\")\n",
        "print(f\"Valor Médio Total por vendedor: R${valor_medio_vendas_vendedor}\")\n",
        "print(f\"Valor Médio Total por venda: R${valor_medio_vendas_por_venda}\")\n",
        "print(f\"Vendedor com mais vendas em todas as unidades: {vendedor_mais_vendas} - código do usário: {vendedor_mais_vendas_cod} - quantidade de vendas: {qtd_vendas_vendedor} -> {((qtd_vendas_vendedor/qtd_media_vendas)-1)*100:.2f}% acima da média\")\n",
        "print(f\"Vendedor com maior total de vendas em todas as unidades: {vendedor_maior_total} - código do usário: {vendedor_maior_total_cod} - total de vendas: R${total_vendas_vendedor} -> {((total_vendas_vendedor/valor_medio_vendas_vendedor)-1)*100:.2f}% acima da média\")\n",
        "print(f\"Vendedor com maior valor médio por venda em todas as unidades: {vendedor_maior_media} - código do usário: {vendedor_maior_media_cod} - valor médio de vendas: R${media_vendas_vendedor} -> {((media_vendas_vendedor/valor_medio_vendas_por_venda)-1)*100:.2f}% acima da média\")\n",
        "\n"
      ],
      "execution_count": 24,
      "outputs": [
        {
          "output_type": "stream",
          "text": [
            "Quantidade Média de Vendas por vendedor: 19 vendas\n",
            "Valor Médio Total por vendedor: R$2509.68\n",
            "Valor Médio Total por venda: R$132.02\n",
            "Vendedor com mais vendas em todas as unidades: ANDERSON - código do usário: 295 - quantidade de vendas: 22 -> 15.79% acima da média\n",
            "Vendedor com maior total de vendas em todas as unidades: BRUNO - código do usário: 266970 - total de vendas: R$28550.05 -> 1037.60% acima da média\n",
            "Vendedor com maior valor médio por venda em todas as unidades: BRUNO - código do usário: 266970 - valor médio de vendas: R$1502.63 -> 1038.18% acima da média\n"
          ],
          "name": "stdout"
        }
      ]
    },
    {
      "cell_type": "markdown",
      "metadata": {
        "id": "1iIYS9QYHK8L"
      },
      "source": [
        "## 5.2 Quantidade de Vendas por Vendedores (POR UNIDADE)"
      ]
    },
    {
      "cell_type": "code",
      "metadata": {
        "colab": {
          "base_uri": "https://localhost:8080/",
          "height": 419
        },
        "id": "sDFbIdl5rCdp",
        "outputId": "5904d860-a612-4cbc-be4e-691e7af74ba5"
      },
      "source": [
        "#Criando a tabela que será utilizada para encontrar o vendedor que mais vendeu por filial\n",
        "df_qtd_v_vendedores = df_vendedores.copy()\n",
        "df_qtd_v_vendedores = df_qtd_v_vendedores.drop(['num_compra','cpf_na_nota',\"tipo_de_mercadoria\",\"data_compra\"], axis = 'columns')\n",
        "df_qtd_v_vendedores = df_qtd_v_vendedores.groupby(['filial','usuario','nome']).agg({'imposto':'count','valor_compra':'sum'}).reset_index(drop = False)\n",
        "df_qtd_v_vendedores = df_qtd_v_vendedores.rename(columns={'imposto':'qtd_vendas'})\n",
        "df_qtd_v_vendedores = df_qtd_v_vendedores.rename(columns={'valor_compra':'valor_total_vendas'})\n",
        "df_qtd_v_vendedores = df_qtd_v_vendedores.sort_values(['qtd_vendas'] ,ascending = [False]).reset_index(drop = True)\n",
        "df_qtd_v_vendedores\n"
      ],
      "execution_count": 25,
      "outputs": [
        {
          "output_type": "execute_result",
          "data": {
            "text/html": [
              "<div>\n",
              "<style scoped>\n",
              "    .dataframe tbody tr th:only-of-type {\n",
              "        vertical-align: middle;\n",
              "    }\n",
              "\n",
              "    .dataframe tbody tr th {\n",
              "        vertical-align: top;\n",
              "    }\n",
              "\n",
              "    .dataframe thead th {\n",
              "        text-align: right;\n",
              "    }\n",
              "</style>\n",
              "<table border=\"1\" class=\"dataframe\">\n",
              "  <thead>\n",
              "    <tr style=\"text-align: right;\">\n",
              "      <th></th>\n",
              "      <th>filial</th>\n",
              "      <th>usuario</th>\n",
              "      <th>nome</th>\n",
              "      <th>qtd_vendas</th>\n",
              "      <th>valor_total_vendas</th>\n",
              "    </tr>\n",
              "  </thead>\n",
              "  <tbody>\n",
              "    <tr>\n",
              "      <th>0</th>\n",
              "      <td>Loja Lábrea</td>\n",
              "      <td>366529</td>\n",
              "      <td>JOSE</td>\n",
              "      <td>15</td>\n",
              "      <td>1585.35</td>\n",
              "    </tr>\n",
              "    <tr>\n",
              "      <th>1</th>\n",
              "      <td>Loja Lábrea</td>\n",
              "      <td>216660</td>\n",
              "      <td>KEILA</td>\n",
              "      <td>15</td>\n",
              "      <td>730.70</td>\n",
              "    </tr>\n",
              "    <tr>\n",
              "      <th>2</th>\n",
              "      <td>Loja Lábrea</td>\n",
              "      <td>215046</td>\n",
              "      <td>VANDA</td>\n",
              "      <td>14</td>\n",
              "      <td>658.42</td>\n",
              "    </tr>\n",
              "    <tr>\n",
              "      <th>3</th>\n",
              "      <td>Loja Lábrea</td>\n",
              "      <td>214281</td>\n",
              "      <td>MICHELLE</td>\n",
              "      <td>14</td>\n",
              "      <td>1954.28</td>\n",
              "    </tr>\n",
              "    <tr>\n",
              "      <th>4</th>\n",
              "      <td>Loja Lábrea</td>\n",
              "      <td>213373</td>\n",
              "      <td>NEILA</td>\n",
              "      <td>14</td>\n",
              "      <td>452.61</td>\n",
              "    </tr>\n",
              "    <tr>\n",
              "      <th>...</th>\n",
              "      <td>...</td>\n",
              "      <td>...</td>\n",
              "      <td>...</td>\n",
              "      <td>...</td>\n",
              "      <td>...</td>\n",
              "    </tr>\n",
              "    <tr>\n",
              "      <th>2179</th>\n",
              "      <td>Loja Autazes</td>\n",
              "      <td>215046</td>\n",
              "      <td>VANDA</td>\n",
              "      <td>1</td>\n",
              "      <td>23.78</td>\n",
              "    </tr>\n",
              "    <tr>\n",
              "      <th>2180</th>\n",
              "      <td>Loja Autazes</td>\n",
              "      <td>216660</td>\n",
              "      <td>KEILA</td>\n",
              "      <td>1</td>\n",
              "      <td>23.59</td>\n",
              "    </tr>\n",
              "    <tr>\n",
              "      <th>2181</th>\n",
              "      <td>Loja Autazes</td>\n",
              "      <td>216977</td>\n",
              "      <td>AUTO</td>\n",
              "      <td>1</td>\n",
              "      <td>43.12</td>\n",
              "    </tr>\n",
              "    <tr>\n",
              "      <th>2182</th>\n",
              "      <td>Loja Autazes</td>\n",
              "      <td>52221</td>\n",
              "      <td>LUILMA</td>\n",
              "      <td>1</td>\n",
              "      <td>21.98</td>\n",
              "    </tr>\n",
              "    <tr>\n",
              "      <th>2183</th>\n",
              "      <td>Loja Autazes</td>\n",
              "      <td>56253</td>\n",
              "      <td>GLENDA</td>\n",
              "      <td>1</td>\n",
              "      <td>10.37</td>\n",
              "    </tr>\n",
              "  </tbody>\n",
              "</table>\n",
              "<p>2184 rows × 5 columns</p>\n",
              "</div>"
            ],
            "text/plain": [
              "            filial  usuario      nome  qtd_vendas  valor_total_vendas\n",
              "0     Loja Lábrea    366529      JOSE          15             1585.35\n",
              "1     Loja Lábrea    216660     KEILA          15              730.70\n",
              "2     Loja Lábrea    215046     VANDA          14              658.42\n",
              "3     Loja Lábrea    214281  MICHELLE          14             1954.28\n",
              "4     Loja Lábrea    213373     NEILA          14              452.61\n",
              "...            ...      ...       ...         ...                 ...\n",
              "2179  Loja Autazes   215046     VANDA           1               23.78\n",
              "2180  Loja Autazes   216660     KEILA           1               23.59\n",
              "2181  Loja Autazes   216977      AUTO           1               43.12\n",
              "2182  Loja Autazes    52221    LUILMA           1               21.98\n",
              "2183  Loja Autazes    56253    GLENDA           1               10.37\n",
              "\n",
              "[2184 rows x 5 columns]"
            ]
          },
          "metadata": {
            "tags": []
          },
          "execution_count": 25
        }
      ]
    },
    {
      "cell_type": "markdown",
      "metadata": {
        "id": "X5miwMsyA-i9"
      },
      "source": [
        "### **UTILIZANDO FUNÇÃO VP_FILIAL**"
      ]
    },
    {
      "cell_type": "code",
      "metadata": {
        "id": "ulXN4dWb-33c"
      },
      "source": [
        "# Cria uma lista agrupada por filial\n",
        "filiais = df_vendedores.groupby(['filial']).count().reset_index(drop = False).copy()\n",
        "filiais = filiais['filial'].tolist()\n",
        "\n",
        "# Transforma a tabela criada por agrupamento, em uma lista\n",
        "list_qtd_v_vendedores = df_qtd_v_vendedores\n",
        "list_qtd_v_vendedores = list_qtd_v_vendedores.values.tolist()\n"
      ],
      "execution_count": 26,
      "outputs": []
    },
    {
      "cell_type": "code",
      "metadata": {
        "id": "pOTBjNfV_tIz"
      },
      "source": [
        "todas_filiais_v = vp_filial(filiais,list_qtd_v_vendedores,3)\n",
        "# Separando em listas as filiais, qtd_vendas e os vendedores que mais venderam por filial\n",
        "filiais_v = []\n",
        "qtd_vendas_v = []\n",
        "vendedor = []\n",
        "cod_vendedor=[]\n",
        "for idx, key in enumerate(todas_filiais_v):\n",
        "  filiais_v.append(key)\n",
        "  qtd_vendas_v.append(todas_filiais_v[key][0])\n",
        "  vendedor.append(todas_filiais_v[key][1])\n",
        "  cod_vendedor.append(todas_filiais_v[key][2])"
      ],
      "execution_count": 27,
      "outputs": []
    },
    {
      "cell_type": "code",
      "metadata": {
        "colab": {
          "base_uri": "https://localhost:8080/",
          "height": 468
        },
        "id": "pr1RUuDEuwvY",
        "outputId": "70158cf5-3803-4693-b1a7-93f2cc6f4692"
      },
      "source": [
        "#cria a figura e o eixo\n",
        "fig = plt.figure(figsize=(8,7))\n",
        "ax1 = fig.add_subplot(111)\n",
        "\n",
        "#colores\n",
        "cores = [ '#01a0e4','#d52d2b','#393ed3', '#6075b7','#2a2b60','gray','pink','brown']\n",
        "\n",
        "#plotando o gráfico\n",
        "for n in range(len(vendedor)):\n",
        "  ax1.bar(filiais_v[n],qtd_vendas_v[n], color = cores[n], label=f'{vendedor[n]} - COD:{cod_vendedor[n]}' )\n",
        "\n",
        "# Adicionando legendas as barras\n",
        "plt.xlabel('Filial', fontsize=15)\n",
        "plt.ylabel('Quantidade de vendas', fontsize=15)\n",
        "\n",
        "#legenda em posicao especifica\n",
        "plt.legend(bbox_to_anchor=(1.20,0.5), loc=\"lower right\", bbox_transform=fig.transFigure)\n",
        "\n",
        "#Fonte dos eixos\n",
        "plt.rcParams['xtick.labelsize'] = 12\n",
        "plt.rcParams['ytick.labelsize'] = 12\n",
        "\n",
        "#Adicionando texto dentro do gráfico\n",
        "for n in range(len(vendedor)):\n",
        "  if n == len(vendedor)-1:\n",
        "      plt.text(n-0.42, 6, f'{vendedor[n]} - COD:{cod_vendedor[n]}\\n{\" \"*10}{qtd_vendas_v[n]} vendas', bbox=dict(facecolor='white', alpha=0.5))\n",
        "  else:\n",
        "     plt.text(n-0.35, 6, f'{vendedor[n]} - COD:{cod_vendedor[n]}\\n{\" \"*10}{qtd_vendas_v[n]} vendas', bbox=dict(facecolor='white', alpha=0.5))\n",
        "\n",
        "#Titulo\n",
        "title = 'Vendedores com maior número de vendas por filial'\n",
        "plt.title(title,fontsize=18)\n",
        "\n",
        "plt.savefig('imagens/dados1/'+title +'.png')\n",
        "plt.show()"
      ],
      "execution_count": 28,
      "outputs": [
        {
          "output_type": "display_data",
          "data": {
            "image/png": "[encoded data removed]",
            "text/plain": [
              "<Figure size 576x504 with 1 Axes>"
            ]
          },
          "metadata": {
            "tags": [],
            "needs_background": "light"
          }
        }
      ]
    },
    {
      "cell_type": "code",
      "metadata": {
        "id": "lHOffZ_WBLSa"
      },
      "source": [
        "todas_filiais_v = vp_filial(filiais,list_qtd_v_vendedores,4)\n",
        "# Separando em listas as filiais, qtd_vendas e os vendedores que mais venderam por filial\n",
        "filiais_v = []\n",
        "qtd_vendas_v = []\n",
        "vendedor = []\n",
        "cod_vendedor=[]\n",
        "for idx, key in enumerate(todas_filiais_v):\n",
        "  filiais_v.append(key)\n",
        "  qtd_vendas_v.append(todas_filiais_v[key][0])\n",
        "  vendedor.append(todas_filiais_v[key][1])\n",
        "  cod_vendedor.append(todas_filiais_v[key][2])"
      ],
      "execution_count": 29,
      "outputs": []
    },
    {
      "cell_type": "code",
      "metadata": {
        "colab": {
          "base_uri": "https://localhost:8080/",
          "height": 470
        },
        "id": "c_7ylJNUBW1L",
        "outputId": "00213bb7-6744-4e62-b2ed-624bb7de1fd6"
      },
      "source": [
        "#cria a figura e o eixo\n",
        "fig = plt.figure(figsize=(8,7))\n",
        "ax1 = fig.add_subplot(111)\n",
        "\n",
        "#colores\n",
        "cores = [ '#01a0e4','#d52d2b','#393ed3', '#6075b7','#2a2b60','gray','pink','brown']\n",
        "\n",
        "#plotando o gráfico\n",
        "for n in range(len(vendedor)):\n",
        "  ax1.bar(filiais_v[n],qtd_vendas_v[n], color = cores[n], label=f'{vendedor[n]} - COD:{cod_vendedor[n]}' )\n",
        "\n",
        "# Adicionando legendas as barras\n",
        "plt.xlabel('Filial', fontsize=15)\n",
        "plt.ylabel('Quantidade de vendas', fontsize=15)\n",
        "\n",
        "#legenda em posicao especifica\n",
        "plt.legend(bbox_to_anchor=(1.20,0.5), loc=\"lower right\", bbox_transform=fig.transFigure)\n",
        "\n",
        "#Fonte dos eixos\n",
        "plt.rcParams['xtick.labelsize'] = 12\n",
        "plt.rcParams['ytick.labelsize'] = 12\n",
        "\n",
        "#Adicionando texto dentro do gráfico\n",
        "for n in range(len(vendedor)):\n",
        "  if n == len(vendedor)-1:\n",
        "      plt.text(n-0.38, 2500, f'{vendedor[n]} - COD:{cod_vendedor[n]}\\n{\" \"*10}R${qtd_vendas_v[n]:.2f}', bbox=dict(facecolor='white', alpha=0.5))\n",
        "  else:\n",
        "     plt.text(n-0.4, 2500, f'{vendedor[n]} - COD:{cod_vendedor[n]}\\n{\" \"*10}R${qtd_vendas_v[n]:.2f}', bbox=dict(facecolor='white', alpha=0.5))\n",
        "\n",
        "#Titulo\n",
        "title = 'Vendedores com maior valor de venda por filial'\n",
        "plt.title(title,fontsize=18)\n",
        "\n",
        "plt.savefig('imagens/dados1/'+title +'.png')\n",
        "plt.show()"
      ],
      "execution_count": 30,
      "outputs": [
        {
          "output_type": "display_data",
          "data": {
            "image/png": "[encoded data removed]",
            "text/plain": [
              "<Figure size 576x504 with 1 Axes>"
            ]
          },
          "metadata": {
            "tags": [],
            "needs_background": "light"
          }
        }
      ]
    },
    {
      "cell_type": "markdown",
      "metadata": {
        "id": "7SNt4hkDZAB5"
      },
      "source": [
        "## 5.3 Percentual (%) de CPF na nota fiscal "
      ]
    },
    {
      "cell_type": "markdown",
      "metadata": {
        "id": "uqahIuRI25mT"
      },
      "source": [
        "### **% de CPF's em todas as Vendas**"
      ]
    },
    {
      "cell_type": "code",
      "metadata": {
        "colab": {
          "base_uri": "https://localhost:8080/",
          "height": 111
        },
        "id": "5XDJVcE8ZL5-",
        "outputId": "e75be4c1-ef48-4113-e26c-32fd45fbe70f"
      },
      "source": [
        "df_cpf_nota = df_vendedores.groupby(['cpf_na_nota']).agg({'nome':'count' }).reset_index(drop = False).copy()\n",
        "df_cpf_nota = df_cpf_nota = df_cpf_nota.rename(columns={'nome':'n_ocorrencias'})\n",
        "\n",
        "df_cpf_nota['percentual'] = (df_cpf_nota['n_ocorrencias']/df_cpf_nota['n_ocorrencias'].sum()).round(4)*100\n",
        "df_cpf_nota = df_cpf_nota.sort_values(['n_ocorrencias'] ,ascending = [False]).reset_index(drop = True)\n",
        "df_cpf_nota\n"
      ],
      "execution_count": 31,
      "outputs": [
        {
          "output_type": "execute_result",
          "data": {
            "text/html": [
              "<div>\n",
              "<style scoped>\n",
              "    .dataframe tbody tr th:only-of-type {\n",
              "        vertical-align: middle;\n",
              "    }\n",
              "\n",
              "    .dataframe tbody tr th {\n",
              "        vertical-align: top;\n",
              "    }\n",
              "\n",
              "    .dataframe thead th {\n",
              "        text-align: right;\n",
              "    }\n",
              "</style>\n",
              "<table border=\"1\" class=\"dataframe\">\n",
              "  <thead>\n",
              "    <tr style=\"text-align: right;\">\n",
              "      <th></th>\n",
              "      <th>cpf_na_nota</th>\n",
              "      <th>n_ocorrencias</th>\n",
              "      <th>percentual</th>\n",
              "    </tr>\n",
              "  </thead>\n",
              "  <tbody>\n",
              "    <tr>\n",
              "      <th>0</th>\n",
              "      <td>SIM</td>\n",
              "      <td>11908</td>\n",
              "      <td>85.81</td>\n",
              "    </tr>\n",
              "    <tr>\n",
              "      <th>1</th>\n",
              "      <td>NAO</td>\n",
              "      <td>1969</td>\n",
              "      <td>14.19</td>\n",
              "    </tr>\n",
              "  </tbody>\n",
              "</table>\n",
              "</div>"
            ],
            "text/plain": [
              "  cpf_na_nota  n_ocorrencias  percentual\n",
              "0         SIM          11908       85.81\n",
              "1         NAO           1969       14.19"
            ]
          },
          "metadata": {
            "tags": []
          },
          "execution_count": 31
        }
      ]
    },
    {
      "cell_type": "code",
      "metadata": {
        "colab": {
          "base_uri": "https://localhost:8080/",
          "height": 487
        },
        "id": "X-ofEdeWL2sV",
        "outputId": "c5407ef4-a0fc-4209-8c72-4b49bddfa6cb"
      },
      "source": [
        "grafico_pizza(df_cpf_nota,'n_ocorrencias','cpf_na_nota',title=\"Notas Fiscais Geral com e sem CPF\",x=1, explode=[0.09,0.07])"
      ],
      "execution_count": 32,
      "outputs": [
        {
          "output_type": "display_data",
          "data": {
            "image/png": "[encoded data removed]",
            "text/plain": [
              "<Figure size 576x504 with 1 Axes>"
            ]
          },
          "metadata": {
            "tags": []
          }
        }
      ]
    },
    {
      "cell_type": "markdown",
      "metadata": {
        "id": "HzBWAkH73Cpg"
      },
      "source": [
        "### **% de CPF's por Vendedor**"
      ]
    },
    {
      "cell_type": "code",
      "metadata": {
        "id": "azy3muYQ6nIL"
      },
      "source": [
        "def definir_status_cpf(cpf,status):\n",
        "  if (cpf == status):\n",
        "    return 1\n",
        "  else:\n",
        "    return 0"
      ],
      "execution_count": 33,
      "outputs": []
    },
    {
      "cell_type": "code",
      "metadata": {
        "colab": {
          "base_uri": "https://localhost:8080/",
          "height": 419
        },
        "id": "u0YbW3vw3s33",
        "outputId": "85448689-2664-4a4d-8af1-0d20e4b1e9f0"
      },
      "source": [
        "df_cpf_vendedor = df_vendedores.copy()\n",
        "df_cpf_vendedor['cpf_sim'] = df_cpf_vendedor.apply(lambda row: definir_status_cpf(row['cpf_na_nota'],'SIM'), axis = 'columns')\n",
        "df_cpf_vendedor['cpf_nao'] = df_cpf_vendedor.apply(lambda row: definir_status_cpf(row['cpf_na_nota'],'NAO'), axis = 'columns')\n",
        "df_cpf_vendedor = df_cpf_vendedor.groupby(['usuario','nome']).agg({'cpf_sim':'sum','cpf_nao':'sum'}).reset_index(drop = False)\n",
        "df_cpf_vendedor['percentual_cpf_sim'] = (df_cpf_vendedor['cpf_sim'] *100 /(df_cpf_vendedor['cpf_sim'] + df_cpf_vendedor['cpf_nao'])).round(2)\n",
        "df_cpf_vendedor = df_cpf_vendedor.sort_values(['cpf_sim'] ,ascending = [False]).reset_index(drop = True)\n",
        "df_cpf_vendedor"
      ],
      "execution_count": 34,
      "outputs": [
        {
          "output_type": "execute_result",
          "data": {
            "text/html": [
              "<div>\n",
              "<style scoped>\n",
              "    .dataframe tbody tr th:only-of-type {\n",
              "        vertical-align: middle;\n",
              "    }\n",
              "\n",
              "    .dataframe tbody tr th {\n",
              "        vertical-align: top;\n",
              "    }\n",
              "\n",
              "    .dataframe thead th {\n",
              "        text-align: right;\n",
              "    }\n",
              "</style>\n",
              "<table border=\"1\" class=\"dataframe\">\n",
              "  <thead>\n",
              "    <tr style=\"text-align: right;\">\n",
              "      <th></th>\n",
              "      <th>usuario</th>\n",
              "      <th>nome</th>\n",
              "      <th>cpf_sim</th>\n",
              "      <th>cpf_nao</th>\n",
              "      <th>percentual_cpf_sim</th>\n",
              "    </tr>\n",
              "  </thead>\n",
              "  <tbody>\n",
              "    <tr>\n",
              "      <th>0</th>\n",
              "      <td>295</td>\n",
              "      <td>ANDERSON</td>\n",
              "      <td>20</td>\n",
              "      <td>2</td>\n",
              "      <td>90.91</td>\n",
              "    </tr>\n",
              "    <tr>\n",
              "      <th>1</th>\n",
              "      <td>370</td>\n",
              "      <td>ROSILANE</td>\n",
              "      <td>19</td>\n",
              "      <td>2</td>\n",
              "      <td>90.48</td>\n",
              "    </tr>\n",
              "    <tr>\n",
              "      <th>2</th>\n",
              "      <td>460</td>\n",
              "      <td>SANDRA</td>\n",
              "      <td>19</td>\n",
              "      <td>2</td>\n",
              "      <td>90.48</td>\n",
              "    </tr>\n",
              "    <tr>\n",
              "      <th>3</th>\n",
              "      <td>538</td>\n",
              "      <td>JAMERSON</td>\n",
              "      <td>19</td>\n",
              "      <td>2</td>\n",
              "      <td>90.48</td>\n",
              "    </tr>\n",
              "    <tr>\n",
              "      <th>4</th>\n",
              "      <td>606</td>\n",
              "      <td>JEANDERSON</td>\n",
              "      <td>19</td>\n",
              "      <td>2</td>\n",
              "      <td>90.48</td>\n",
              "    </tr>\n",
              "    <tr>\n",
              "      <th>...</th>\n",
              "      <td>...</td>\n",
              "      <td>...</td>\n",
              "      <td>...</td>\n",
              "      <td>...</td>\n",
              "      <td>...</td>\n",
              "    </tr>\n",
              "    <tr>\n",
              "      <th>725</th>\n",
              "      <td>107720</td>\n",
              "      <td>MARCIO</td>\n",
              "      <td>14</td>\n",
              "      <td>5</td>\n",
              "      <td>73.68</td>\n",
              "    </tr>\n",
              "    <tr>\n",
              "      <th>726</th>\n",
              "      <td>106031</td>\n",
              "      <td>KAREN</td>\n",
              "      <td>14</td>\n",
              "      <td>5</td>\n",
              "      <td>73.68</td>\n",
              "    </tr>\n",
              "    <tr>\n",
              "      <th>727</th>\n",
              "      <td>105835</td>\n",
              "      <td>RENATA</td>\n",
              "      <td>14</td>\n",
              "      <td>5</td>\n",
              "      <td>73.68</td>\n",
              "    </tr>\n",
              "    <tr>\n",
              "      <th>728</th>\n",
              "      <td>105106</td>\n",
              "      <td>KELY</td>\n",
              "      <td>14</td>\n",
              "      <td>5</td>\n",
              "      <td>73.68</td>\n",
              "    </tr>\n",
              "    <tr>\n",
              "      <th>729</th>\n",
              "      <td>94282</td>\n",
              "      <td>ROSANA</td>\n",
              "      <td>14</td>\n",
              "      <td>5</td>\n",
              "      <td>73.68</td>\n",
              "    </tr>\n",
              "  </tbody>\n",
              "</table>\n",
              "<p>730 rows × 5 columns</p>\n",
              "</div>"
            ],
            "text/plain": [
              "     usuario        nome  cpf_sim  cpf_nao  percentual_cpf_sim\n",
              "0        295    ANDERSON       20        2               90.91\n",
              "1        370    ROSILANE       19        2               90.48\n",
              "2        460      SANDRA       19        2               90.48\n",
              "3        538    JAMERSON       19        2               90.48\n",
              "4        606  JEANDERSON       19        2               90.48\n",
              "..       ...         ...      ...      ...                 ...\n",
              "725   107720      MARCIO       14        5               73.68\n",
              "726   106031       KAREN       14        5               73.68\n",
              "727   105835      RENATA       14        5               73.68\n",
              "728   105106        KELY       14        5               73.68\n",
              "729    94282      ROSANA       14        5               73.68\n",
              "\n",
              "[730 rows x 5 columns]"
            ]
          },
          "metadata": {
            "tags": []
          },
          "execution_count": 34
        }
      ]
    },
    {
      "cell_type": "code",
      "metadata": {
        "colab": {
          "base_uri": "https://localhost:8080/",
          "height": 419
        },
        "id": "9dap5AYCJGAx",
        "outputId": "f542d63c-eee4-4f66-f71b-55f4e6ab6ecd"
      },
      "source": [
        "df_cpf_vendedor.sort_values(['percentual_cpf_sim'] ,ascending = [False])"
      ],
      "execution_count": 35,
      "outputs": [
        {
          "output_type": "execute_result",
          "data": {
            "text/html": [
              "<div>\n",
              "<style scoped>\n",
              "    .dataframe tbody tr th:only-of-type {\n",
              "        vertical-align: middle;\n",
              "    }\n",
              "\n",
              "    .dataframe tbody tr th {\n",
              "        vertical-align: top;\n",
              "    }\n",
              "\n",
              "    .dataframe thead th {\n",
              "        text-align: right;\n",
              "    }\n",
              "</style>\n",
              "<table border=\"1\" class=\"dataframe\">\n",
              "  <thead>\n",
              "    <tr style=\"text-align: right;\">\n",
              "      <th></th>\n",
              "      <th>usuario</th>\n",
              "      <th>nome</th>\n",
              "      <th>cpf_sim</th>\n",
              "      <th>cpf_nao</th>\n",
              "      <th>percentual_cpf_sim</th>\n",
              "    </tr>\n",
              "  </thead>\n",
              "  <tbody>\n",
              "    <tr>\n",
              "      <th>26</th>\n",
              "      <td>333007</td>\n",
              "      <td>RAFAELA</td>\n",
              "      <td>18</td>\n",
              "      <td>1</td>\n",
              "      <td>94.74</td>\n",
              "    </tr>\n",
              "    <tr>\n",
              "      <th>20</th>\n",
              "      <td>406205</td>\n",
              "      <td>JESSICA</td>\n",
              "      <td>18</td>\n",
              "      <td>1</td>\n",
              "      <td>94.74</td>\n",
              "    </tr>\n",
              "    <tr>\n",
              "      <th>23</th>\n",
              "      <td>372733</td>\n",
              "      <td>ANDREZA</td>\n",
              "      <td>18</td>\n",
              "      <td>1</td>\n",
              "      <td>94.74</td>\n",
              "    </tr>\n",
              "    <tr>\n",
              "      <th>24</th>\n",
              "      <td>347514</td>\n",
              "      <td>SEBASTIANA</td>\n",
              "      <td>18</td>\n",
              "      <td>1</td>\n",
              "      <td>94.74</td>\n",
              "    </tr>\n",
              "    <tr>\n",
              "      <th>25</th>\n",
              "      <td>332561</td>\n",
              "      <td>BEATRIZ</td>\n",
              "      <td>18</td>\n",
              "      <td>1</td>\n",
              "      <td>94.74</td>\n",
              "    </tr>\n",
              "    <tr>\n",
              "      <th>...</th>\n",
              "      <td>...</td>\n",
              "      <td>...</td>\n",
              "      <td>...</td>\n",
              "      <td>...</td>\n",
              "      <td>...</td>\n",
              "    </tr>\n",
              "    <tr>\n",
              "      <th>681</th>\n",
              "      <td>126667</td>\n",
              "      <td>VERONICA</td>\n",
              "      <td>14</td>\n",
              "      <td>5</td>\n",
              "      <td>73.68</td>\n",
              "    </tr>\n",
              "    <tr>\n",
              "      <th>680</th>\n",
              "      <td>126656</td>\n",
              "      <td>PAULO</td>\n",
              "      <td>14</td>\n",
              "      <td>5</td>\n",
              "      <td>73.68</td>\n",
              "    </tr>\n",
              "    <tr>\n",
              "      <th>679</th>\n",
              "      <td>126637</td>\n",
              "      <td>PAULO</td>\n",
              "      <td>14</td>\n",
              "      <td>5</td>\n",
              "      <td>73.68</td>\n",
              "    </tr>\n",
              "    <tr>\n",
              "      <th>678</th>\n",
              "      <td>125079</td>\n",
              "      <td>LUCIANO</td>\n",
              "      <td>14</td>\n",
              "      <td>5</td>\n",
              "      <td>73.68</td>\n",
              "    </tr>\n",
              "    <tr>\n",
              "      <th>729</th>\n",
              "      <td>94282</td>\n",
              "      <td>ROSANA</td>\n",
              "      <td>14</td>\n",
              "      <td>5</td>\n",
              "      <td>73.68</td>\n",
              "    </tr>\n",
              "  </tbody>\n",
              "</table>\n",
              "<p>730 rows × 5 columns</p>\n",
              "</div>"
            ],
            "text/plain": [
              "     usuario        nome  cpf_sim  cpf_nao  percentual_cpf_sim\n",
              "26    333007     RAFAELA       18        1               94.74\n",
              "20    406205     JESSICA       18        1               94.74\n",
              "23    372733     ANDREZA       18        1               94.74\n",
              "24    347514  SEBASTIANA       18        1               94.74\n",
              "25    332561     BEATRIZ       18        1               94.74\n",
              "..       ...         ...      ...      ...                 ...\n",
              "681   126667    VERONICA       14        5               73.68\n",
              "680   126656       PAULO       14        5               73.68\n",
              "679   126637       PAULO       14        5               73.68\n",
              "678   125079     LUCIANO       14        5               73.68\n",
              "729    94282      ROSANA       14        5               73.68\n",
              "\n",
              "[730 rows x 5 columns]"
            ]
          },
          "metadata": {
            "tags": []
          },
          "execution_count": 35
        }
      ]
    },
    {
      "cell_type": "markdown",
      "metadata": {
        "id": "sRmY20BhJTz0"
      },
      "source": [
        "### **HISTOGRAMA - DISTRIBUIÇÃO DE PERCENTUAL DE CPF'S ACEITOS POR VENDEDOR**"
      ]
    },
    {
      "cell_type": "code",
      "metadata": {
        "colab": {
          "base_uri": "https://localhost:8080/",
          "height": 480
        },
        "id": "VJxoDmYjHk7T",
        "outputId": "fe802742-661a-4c0b-9cd5-207589d2a3d1"
      },
      "source": [
        "cpf_sim = df_cpf_vendedor['percentual_cpf_sim']\n",
        "plt.figure(figsize=(8, 7))\n",
        "plt.hist(cpf_sim, bins=range(70, 100,5))\n",
        "plt.title('Distribuição de CPFs em notas ficais')\n",
        "plt.xlabel(\"percentual de cpf's nas notas (%)\")\n",
        "plt.ylabel('vendedores')\n",
        "plt.savefig('imagens/dados1/histograma-cpfs-positivos-vendedor.png')\n",
        "plt.plot()"
      ],
      "execution_count": 36,
      "outputs": [
        {
          "output_type": "execute_result",
          "data": {
            "text/plain": [
              "[]"
            ]
          },
          "metadata": {
            "tags": []
          },
          "execution_count": 36
        },
        {
          "output_type": "display_data",
          "data": {
            "image/png": "[encoded data removed]",
            "text/plain": [
              "<Figure size 576x504 with 1 Axes>"
            ]
          },
          "metadata": {
            "tags": [],
            "needs_background": "light"
          }
        }
      ]
    },
    {
      "cell_type": "markdown",
      "metadata": {
        "id": "yKFbcwAs9IDh"
      },
      "source": [
        "### ****% de CPF's por Filial****"
      ]
    },
    {
      "cell_type": "code",
      "metadata": {
        "colab": {
          "base_uri": "https://localhost:8080/",
          "height": 142
        },
        "id": "JFz6ezdU9TNK",
        "outputId": "4384859e-2db2-483d-e100-e6e83a057d9e"
      },
      "source": [
        "df_cpf_filial = df_vendedores.copy()\n",
        "df_cpf_filial['cpf_sim'] = df_cpf_filial.apply(lambda row: definir_status_cpf(row['cpf_na_nota'],'SIM'), axis = 'columns')\n",
        "df_cpf_filial['cpf_nao'] = df_cpf_filial.apply(lambda row: definir_status_cpf(row['cpf_na_nota'],'NAO'), axis = 'columns')\n",
        "df_cpf_filial = df_cpf_filial.groupby(['filial']).agg({'cpf_sim':'sum','cpf_nao':'sum'}).reset_index(drop = False)\n",
        "df_cpf_filial['percentual_cpf_sim'] = (df_cpf_filial['cpf_sim'] *100 /(df_cpf_filial['cpf_sim'] + df_cpf_filial['cpf_nao'])).round(2)\n",
        "df_cpf_filial['cpf_sim_relacao_total'] = (df_cpf_filial['cpf_sim'] *100 /(df_cpf_filial['cpf_sim'].sum())).round(2)\n",
        "df_cpf_filial = df_cpf_filial.sort_values(['cpf_sim'] ,ascending = [True]).reset_index(drop = True)\n",
        "df_cpf_filial"
      ],
      "execution_count": 37,
      "outputs": [
        {
          "output_type": "execute_result",
          "data": {
            "text/html": [
              "<div>\n",
              "<style scoped>\n",
              "    .dataframe tbody tr th:only-of-type {\n",
              "        vertical-align: middle;\n",
              "    }\n",
              "\n",
              "    .dataframe tbody tr th {\n",
              "        vertical-align: top;\n",
              "    }\n",
              "\n",
              "    .dataframe thead th {\n",
              "        text-align: right;\n",
              "    }\n",
              "</style>\n",
              "<table border=\"1\" class=\"dataframe\">\n",
              "  <thead>\n",
              "    <tr style=\"text-align: right;\">\n",
              "      <th></th>\n",
              "      <th>filial</th>\n",
              "      <th>cpf_sim</th>\n",
              "      <th>cpf_nao</th>\n",
              "      <th>percentual_cpf_sim</th>\n",
              "      <th>cpf_sim_relacao_total</th>\n",
              "    </tr>\n",
              "  </thead>\n",
              "  <tbody>\n",
              "    <tr>\n",
              "      <th>0</th>\n",
              "      <td>Loja Autazes</td>\n",
              "      <td>2506</td>\n",
              "      <td>207</td>\n",
              "      <td>92.37</td>\n",
              "      <td>21.04</td>\n",
              "    </tr>\n",
              "    <tr>\n",
              "      <th>1</th>\n",
              "      <td>Loja Manicore</td>\n",
              "      <td>4535</td>\n",
              "      <td>764</td>\n",
              "      <td>85.58</td>\n",
              "      <td>38.08</td>\n",
              "    </tr>\n",
              "    <tr>\n",
              "      <th>2</th>\n",
              "      <td>Loja Lábrea</td>\n",
              "      <td>4867</td>\n",
              "      <td>998</td>\n",
              "      <td>82.98</td>\n",
              "      <td>40.87</td>\n",
              "    </tr>\n",
              "  </tbody>\n",
              "</table>\n",
              "</div>"
            ],
            "text/plain": [
              "           filial  cpf_sim  cpf_nao  percentual_cpf_sim  cpf_sim_relacao_total\n",
              "0    Loja Autazes     2506      207               92.37                  21.04\n",
              "1  Loja Manicore      4535      764               85.58                  38.08\n",
              "2    Loja Lábrea      4867      998               82.98                  40.87"
            ]
          },
          "metadata": {
            "tags": []
          },
          "execution_count": 37
        }
      ]
    },
    {
      "cell_type": "code",
      "metadata": {
        "colab": {
          "base_uri": "https://localhost:8080/",
          "height": 487
        },
        "id": "EwldDgRI42V1",
        "outputId": "f1c28b9c-c310-4d26-8f2a-4e5cec796cf2"
      },
      "source": [
        "grafico_barras_empilhadas(df_cpf_filial, 'cpf_sim', 'cpf_nao', 'filial',legenda=['Com CPF','Sem CPF'],nome_eixo_x='Filial',nome_eixo_y='Qtd Cpf',title='CPF por filial')"
      ],
      "execution_count": 38,
      "outputs": [
        {
          "output_type": "display_data",
          "data": {
            "image/png": "[encoded data removed]",
            "text/plain": [
              "<Figure size 576x504 with 2 Axes>"
            ]
          },
          "metadata": {
            "tags": [],
            "needs_background": "light"
          }
        }
      ]
    },
    {
      "cell_type": "code",
      "metadata": {
        "colab": {
          "base_uri": "https://localhost:8080/",
          "height": 487
        },
        "id": "0Y7iJGq7qB5S",
        "outputId": "724896f4-ddf3-47ce-a4b0-c53606a23ed1"
      },
      "source": [
        "grafico_pizza(df_cpf_filial,'cpf_sim','filial',title=\"Percentural de Notas com CPF entre as filiais \",x=2, explode=[0.09,0.07,0.07])"
      ],
      "execution_count": 39,
      "outputs": [
        {
          "output_type": "display_data",
          "data": {
            "image/png": "[encoded data removed]",
            "text/plain": [
              "<Figure size 576x504 with 1 Axes>"
            ]
          },
          "metadata": {
            "tags": []
          }
        }
      ]
    },
    {
      "cell_type": "markdown",
      "metadata": {
        "id": "Hc1INHMDacbf"
      },
      "source": [
        "## 5.4 Porcentagem de imposto sobre produto"
      ]
    },
    {
      "cell_type": "code",
      "metadata": {
        "colab": {
          "base_uri": "https://localhost:8080/",
          "height": 309
        },
        "id": "KipQP9iYc0Gf",
        "outputId": "b9add60d-33dc-4f6a-94c6-8323ee48a7d6"
      },
      "source": [
        "df_imposto['por_imposto'] = (df_imposto['imposto']*100/df_imposto['valor_compra']).round(3)\n",
        "df_imposto = df_imposto.sort_values(['por_imposto'] ,ascending = [False]).reset_index(drop = True)\n",
        "df_imposto.head(5) # Note que a % de imposto é igual para todas as linhas tanto no inicio do Df \n",
        "df_imposto.tail(5) # quanto no fim do Df"
      ],
      "execution_count": 40,
      "outputs": [
        {
          "output_type": "execute_result",
          "data": {
            "text/html": [
              "<div>\n",
              "<style scoped>\n",
              "    .dataframe tbody tr th:only-of-type {\n",
              "        vertical-align: middle;\n",
              "    }\n",
              "\n",
              "    .dataframe tbody tr th {\n",
              "        vertical-align: top;\n",
              "    }\n",
              "\n",
              "    .dataframe thead th {\n",
              "        text-align: right;\n",
              "    }\n",
              "</style>\n",
              "<table border=\"1\" class=\"dataframe\">\n",
              "  <thead>\n",
              "    <tr style=\"text-align: right;\">\n",
              "      <th></th>\n",
              "      <th>num_compra</th>\n",
              "      <th>usuario</th>\n",
              "      <th>nome</th>\n",
              "      <th>tipo_de_mercadoria</th>\n",
              "      <th>filial</th>\n",
              "      <th>data_compra</th>\n",
              "      <th>valor_compra</th>\n",
              "      <th>imposto</th>\n",
              "      <th>cpf_na_nota</th>\n",
              "      <th>por_imposto</th>\n",
              "    </tr>\n",
              "  </thead>\n",
              "  <tbody>\n",
              "    <tr>\n",
              "      <th>13872</th>\n",
              "      <td>23703260</td>\n",
              "      <td>126667</td>\n",
              "      <td>VERONICA</td>\n",
              "      <td>HOME THEATER</td>\n",
              "      <td>Loja Lábrea</td>\n",
              "      <td>2019-06-09 18:06:57</td>\n",
              "      <td>24.180</td>\n",
              "      <td>1.08810</td>\n",
              "      <td>NAO</td>\n",
              "      <td>4.5</td>\n",
              "    </tr>\n",
              "    <tr>\n",
              "      <th>13873</th>\n",
              "      <td>25326486</td>\n",
              "      <td>128167</td>\n",
              "      <td>MARIA</td>\n",
              "      <td>TV LED DE 55\" À 59\"</td>\n",
              "      <td>Loja Lábrea</td>\n",
              "      <td>2019-01-14 11:46:56</td>\n",
              "      <td>3172.080</td>\n",
              "      <td>142.74360</td>\n",
              "      <td>NAO</td>\n",
              "      <td>4.5</td>\n",
              "    </tr>\n",
              "    <tr>\n",
              "      <th>13874</th>\n",
              "      <td>23359813</td>\n",
              "      <td>128882</td>\n",
              "      <td>AUTO</td>\n",
              "      <td>CIRCULADOR</td>\n",
              "      <td>Loja Lábrea</td>\n",
              "      <td>2019-06-02 13:05:38</td>\n",
              "      <td>56.564</td>\n",
              "      <td>2.54538</td>\n",
              "      <td>NAO</td>\n",
              "      <td>4.5</td>\n",
              "    </tr>\n",
              "    <tr>\n",
              "      <th>13875</th>\n",
              "      <td>23084470</td>\n",
              "      <td>129348</td>\n",
              "      <td>LUCIANO</td>\n",
              "      <td>BOLSAS</td>\n",
              "      <td>Loja Lábrea</td>\n",
              "      <td>2019-05-26 15:20:06</td>\n",
              "      <td>48.628</td>\n",
              "      <td>2.18826</td>\n",
              "      <td>NAO</td>\n",
              "      <td>4.5</td>\n",
              "    </tr>\n",
              "    <tr>\n",
              "      <th>13876</th>\n",
              "      <td>21881849</td>\n",
              "      <td>466595</td>\n",
              "      <td>REGINA</td>\n",
              "      <td>ANTIESPASMÓDICO REF</td>\n",
              "      <td>Loja Lábrea</td>\n",
              "      <td>2019-05-30 07:54:16</td>\n",
              "      <td>16.668</td>\n",
              "      <td>0.75006</td>\n",
              "      <td>SIM</td>\n",
              "      <td>4.5</td>\n",
              "    </tr>\n",
              "  </tbody>\n",
              "</table>\n",
              "</div>"
            ],
            "text/plain": [
              "       num_compra  usuario      nome  ...    imposto cpf_na_nota por_imposto\n",
              "13872    23703260   126667  VERONICA  ...    1.08810         NAO         4.5\n",
              "13873    25326486   128167     MARIA  ...  142.74360         NAO         4.5\n",
              "13874    23359813   128882      AUTO  ...    2.54538         NAO         4.5\n",
              "13875    23084470   129348   LUCIANO  ...    2.18826         NAO         4.5\n",
              "13876    21881849   466595    REGINA  ...    0.75006         SIM         4.5\n",
              "\n",
              "[5 rows x 10 columns]"
            ]
          },
          "metadata": {
            "tags": []
          },
          "execution_count": 40
        }
      ]
    },
    {
      "cell_type": "markdown",
      "metadata": {
        "id": "RZVPBSgshJ7J"
      },
      "source": [
        "### **Para comprovar por meio de cálculos executamos o código abaixo:**"
      ]
    },
    {
      "cell_type": "code",
      "metadata": {
        "colab": {
          "base_uri": "https://localhost:8080/"
        },
        "id": "mxd2fIWLgssP",
        "outputId": "baab01e6-d61e-44b9-ceca-2bea6bfa2259"
      },
      "source": [
        "media_imposto = df_imposto['por_imposto'].sum()/df_imposto['por_imposto'].count()\n",
        "print(f'Média de Imposto de todas as vendas: {media_imposto}%')"
      ],
      "execution_count": 41,
      "outputs": [
        {
          "output_type": "stream",
          "text": [
            "Média de Imposto de todas as vendas: 4.5%\n"
          ],
          "name": "stdout"
        }
      ]
    },
    {
      "cell_type": "markdown",
      "metadata": {
        "id": "xzzCp903havw"
      },
      "source": [
        "**Produtos com maiores impostos em valor absoluto:**\n",
        "### Porém podemos encontrar o produto com maior valor absoluto de imposto."
      ]
    },
    {
      "cell_type": "code",
      "metadata": {
        "colab": {
          "base_uri": "https://localhost:8080/",
          "height": 609
        },
        "id": "ppnwk_DYhTAE",
        "outputId": "d29eb652-469c-416a-bf13-3136afa2900d"
      },
      "source": [
        "maiores_impostos = df_imposto.sort_values(['imposto'] ,ascending = [False]).reset_index(drop = True).round(2)\n",
        "maiores_impostos"
      ],
      "execution_count": 42,
      "outputs": [
        {
          "output_type": "execute_result",
          "data": {
            "text/html": [
              "<div>\n",
              "<style scoped>\n",
              "    .dataframe tbody tr th:only-of-type {\n",
              "        vertical-align: middle;\n",
              "    }\n",
              "\n",
              "    .dataframe tbody tr th {\n",
              "        vertical-align: top;\n",
              "    }\n",
              "\n",
              "    .dataframe thead th {\n",
              "        text-align: right;\n",
              "    }\n",
              "</style>\n",
              "<table border=\"1\" class=\"dataframe\">\n",
              "  <thead>\n",
              "    <tr style=\"text-align: right;\">\n",
              "      <th></th>\n",
              "      <th>num_compra</th>\n",
              "      <th>usuario</th>\n",
              "      <th>nome</th>\n",
              "      <th>tipo_de_mercadoria</th>\n",
              "      <th>filial</th>\n",
              "      <th>data_compra</th>\n",
              "      <th>valor_compra</th>\n",
              "      <th>imposto</th>\n",
              "      <th>cpf_na_nota</th>\n",
              "      <th>por_imposto</th>\n",
              "    </tr>\n",
              "  </thead>\n",
              "  <tbody>\n",
              "    <tr>\n",
              "      <th>0</th>\n",
              "      <td>21881257</td>\n",
              "      <td>234336</td>\n",
              "      <td>KAIO</td>\n",
              "      <td>SPLIT INV18001À30000</td>\n",
              "      <td>Loja Manicore</td>\n",
              "      <td>2019-01-04 16:17:04.000</td>\n",
              "      <td>24845.04</td>\n",
              "      <td>1118.03</td>\n",
              "      <td>SIM</td>\n",
              "      <td>4.5</td>\n",
              "    </tr>\n",
              "    <tr>\n",
              "      <th>1</th>\n",
              "      <td>21879719</td>\n",
              "      <td>211203</td>\n",
              "      <td>BRENDA</td>\n",
              "      <td>TV OLED / QLED</td>\n",
              "      <td>Loja Manicore</td>\n",
              "      <td>2019-06-14 16:35:42.000</td>\n",
              "      <td>24845.04</td>\n",
              "      <td>1118.03</td>\n",
              "      <td>SIM</td>\n",
              "      <td>4.5</td>\n",
              "    </tr>\n",
              "    <tr>\n",
              "      <th>2</th>\n",
              "      <td>25671866</td>\n",
              "      <td>266970</td>\n",
              "      <td>BRUNO</td>\n",
              "      <td>TV LED DE 48\" À 54\"</td>\n",
              "      <td>Loja Manicore</td>\n",
              "      <td>2019-01-20 19:10:36.000</td>\n",
              "      <td>24845.04</td>\n",
              "      <td>1118.03</td>\n",
              "      <td>SIM</td>\n",
              "      <td>4.5</td>\n",
              "    </tr>\n",
              "    <tr>\n",
              "      <th>3</th>\n",
              "      <td>21878723</td>\n",
              "      <td>321972</td>\n",
              "      <td>HELENO</td>\n",
              "      <td>SPLIT ACIMA DE 30000</td>\n",
              "      <td>Loja Lábrea</td>\n",
              "      <td>2020-04-20 11:45:20.855</td>\n",
              "      <td>24845.04</td>\n",
              "      <td>1118.03</td>\n",
              "      <td>NAO</td>\n",
              "      <td>4.5</td>\n",
              "    </tr>\n",
              "    <tr>\n",
              "      <th>4</th>\n",
              "      <td>21921597</td>\n",
              "      <td>316759</td>\n",
              "      <td>KAREN</td>\n",
              "      <td>TV OLED / QLED</td>\n",
              "      <td>Loja Manicore</td>\n",
              "      <td>2019-05-02 18:23:24.000</td>\n",
              "      <td>21006.96</td>\n",
              "      <td>945.31</td>\n",
              "      <td>SIM</td>\n",
              "      <td>4.5</td>\n",
              "    </tr>\n",
              "    <tr>\n",
              "      <th>...</th>\n",
              "      <td>...</td>\n",
              "      <td>...</td>\n",
              "      <td>...</td>\n",
              "      <td>...</td>\n",
              "      <td>...</td>\n",
              "      <td>...</td>\n",
              "      <td>...</td>\n",
              "      <td>...</td>\n",
              "      <td>...</td>\n",
              "      <td>...</td>\n",
              "    </tr>\n",
              "    <tr>\n",
              "      <th>13872</th>\n",
              "      <td>21881447</td>\n",
              "      <td>272476</td>\n",
              "      <td>RAQUEL</td>\n",
              "      <td>PRODUTOS DIVERSOS</td>\n",
              "      <td>Loja Lábrea</td>\n",
              "      <td>2019-05-03 20:44:08.000</td>\n",
              "      <td>0.48</td>\n",
              "      <td>0.02</td>\n",
              "      <td>SIM</td>\n",
              "      <td>4.5</td>\n",
              "    </tr>\n",
              "    <tr>\n",
              "      <th>13873</th>\n",
              "      <td>23804423</td>\n",
              "      <td>14607</td>\n",
              "      <td>MARIA</td>\n",
              "      <td>DILATADOR NASAL</td>\n",
              "      <td>Loja Autazes</td>\n",
              "      <td>2019-06-11 20:40:58.000</td>\n",
              "      <td>0.42</td>\n",
              "      <td>0.02</td>\n",
              "      <td>SIM</td>\n",
              "      <td>4.5</td>\n",
              "    </tr>\n",
              "    <tr>\n",
              "      <th>13874</th>\n",
              "      <td>23405173</td>\n",
              "      <td>39046</td>\n",
              "      <td>ZENILSON</td>\n",
              "      <td>BREGA&amp;POPULAR</td>\n",
              "      <td>Loja Manicore</td>\n",
              "      <td>2019-06-03 20:18:04.000</td>\n",
              "      <td>0.37</td>\n",
              "      <td>0.02</td>\n",
              "      <td>SIM</td>\n",
              "      <td>4.5</td>\n",
              "    </tr>\n",
              "    <tr>\n",
              "      <th>13875</th>\n",
              "      <td>23957983</td>\n",
              "      <td>110442</td>\n",
              "      <td>JERONIMO</td>\n",
              "      <td>SANDUICHEIRA INDUSTR</td>\n",
              "      <td>Loja Manicore</td>\n",
              "      <td>2019-06-15 09:48:16.000</td>\n",
              "      <td>0.32</td>\n",
              "      <td>0.01</td>\n",
              "      <td>SIM</td>\n",
              "      <td>4.5</td>\n",
              "    </tr>\n",
              "    <tr>\n",
              "      <th>13876</th>\n",
              "      <td>21898536</td>\n",
              "      <td>207306</td>\n",
              "      <td>FRANCISCO</td>\n",
              "      <td>DEPURADOR 1</td>\n",
              "      <td>Loja Manicore</td>\n",
              "      <td>2020-07-27 12:41:18.756</td>\n",
              "      <td>0.30</td>\n",
              "      <td>0.01</td>\n",
              "      <td>SIM</td>\n",
              "      <td>4.5</td>\n",
              "    </tr>\n",
              "  </tbody>\n",
              "</table>\n",
              "<p>13877 rows × 10 columns</p>\n",
              "</div>"
            ],
            "text/plain": [
              "       num_compra  usuario       nome  ...  imposto cpf_na_nota por_imposto\n",
              "0        21881257   234336       KAIO  ...  1118.03         SIM         4.5\n",
              "1        21879719   211203     BRENDA  ...  1118.03         SIM         4.5\n",
              "2        25671866   266970      BRUNO  ...  1118.03         SIM         4.5\n",
              "3        21878723   321972     HELENO  ...  1118.03         NAO         4.5\n",
              "4        21921597   316759      KAREN  ...   945.31         SIM         4.5\n",
              "...           ...      ...        ...  ...      ...         ...         ...\n",
              "13872    21881447   272476     RAQUEL  ...     0.02         SIM         4.5\n",
              "13873    23804423    14607      MARIA  ...     0.02         SIM         4.5\n",
              "13874    23405173    39046   ZENILSON  ...     0.02         SIM         4.5\n",
              "13875    23957983   110442   JERONIMO  ...     0.01         SIM         4.5\n",
              "13876    21898536   207306  FRANCISCO  ...     0.01         SIM         4.5\n",
              "\n",
              "[13877 rows x 10 columns]"
            ]
          },
          "metadata": {
            "tags": []
          },
          "execution_count": 42
        }
      ]
    },
    {
      "cell_type": "code",
      "metadata": {
        "colab": {
          "base_uri": "https://localhost:8080/"
        },
        "id": "szylN67giArI",
        "outputId": "445fc3ab-6ec1-4f1b-cbdf-96b1c76e30f3"
      },
      "source": [
        "print(f'Valor do produto com maior imposto(valor absoluto): R${df_imposto[\"imposto\"].max():.2f}')\n",
        "print(f'Valor do produto com menor imposto(valor absoluto): R${df_imposto[\"imposto\"].min():.2f}')"
      ],
      "execution_count": 43,
      "outputs": [
        {
          "output_type": "stream",
          "text": [
            "Valor do produto com maior imposto(valor absoluto): R$1118.03\n",
            "Valor do produto com menor imposto(valor absoluto): R$0.01\n"
          ],
          "name": "stdout"
        }
      ]
    },
    {
      "cell_type": "markdown",
      "metadata": {
        "id": "Pv2vgZGtk1_a"
      },
      "source": [
        "## 5.5 Valor Máximo e Mínimo de Produtos com mesmo Nome"
      ]
    },
    {
      "cell_type": "code",
      "metadata": {
        "colab": {
          "base_uri": "https://localhost:8080/",
          "height": 609
        },
        "id": "i8phPs6Ik0Aw",
        "outputId": "68cfc596-c1f9-4c75-ce92-5af46840e5c3"
      },
      "source": [
        "df_min = df_vendedores.copy()\n",
        "df_max = df_vendedores.copy()\n",
        "df_min = df_min.groupby(['tipo_de_mercadoria']).agg({'valor_compra':'min'}).reset_index(drop = False)\n",
        "df_max = df_max.groupby(['tipo_de_mercadoria']).agg({'valor_compra':'max'}).reset_index(drop = False)\n",
        "\n",
        "df_maxmin = pd.merge(df_min, df_max, on =['tipo_de_mercadoria'], how = 'left' ).copy()\n",
        "\n",
        "df_max_min_prod = pd.merge(df_vendedores, df_min, on =['tipo_de_mercadoria'], how = 'left' )\n",
        "df_max_min_prod = pd.merge(df_max_min_prod, df_max, on =['tipo_de_mercadoria'], how = 'left' )\n",
        "df_max_min_prod = df_max_min_prod.rename(columns={'valor_compra_x':'valor_compra','valor_compra_y':'valor_min_compra','valor_compra':'valor_max_compra'})\n",
        "df_max_min_prod['amplitude']=df_max_min_prod['valor_max_compra'] - df_max_min_prod['valor_min_compra']\n",
        "df_max_min_prod = df_max_min_prod.sort_values(['amplitude'] ,ascending = [False])\n",
        "df_max_min_prod"
      ],
      "execution_count": 44,
      "outputs": [
        {
          "output_type": "execute_result",
          "data": {
            "text/html": [
              "<div>\n",
              "<style scoped>\n",
              "    .dataframe tbody tr th:only-of-type {\n",
              "        vertical-align: middle;\n",
              "    }\n",
              "\n",
              "    .dataframe tbody tr th {\n",
              "        vertical-align: top;\n",
              "    }\n",
              "\n",
              "    .dataframe thead th {\n",
              "        text-align: right;\n",
              "    }\n",
              "</style>\n",
              "<table border=\"1\" class=\"dataframe\">\n",
              "  <thead>\n",
              "    <tr style=\"text-align: right;\">\n",
              "      <th></th>\n",
              "      <th>num_compra</th>\n",
              "      <th>usuario</th>\n",
              "      <th>nome</th>\n",
              "      <th>tipo_de_mercadoria</th>\n",
              "      <th>filial</th>\n",
              "      <th>data_compra</th>\n",
              "      <th>valor_compra</th>\n",
              "      <th>imposto</th>\n",
              "      <th>cpf_na_nota</th>\n",
              "      <th>valor_min_compra</th>\n",
              "      <th>valor_max_compra</th>\n",
              "      <th>amplitude</th>\n",
              "    </tr>\n",
              "  </thead>\n",
              "  <tbody>\n",
              "    <tr>\n",
              "      <th>5703</th>\n",
              "      <td>21921597</td>\n",
              "      <td>316759</td>\n",
              "      <td>KAREN</td>\n",
              "      <td>TV OLED / QLED</td>\n",
              "      <td>Loja Manicore</td>\n",
              "      <td>2019-05-02 18:23:24.000</td>\n",
              "      <td>21006.96</td>\n",
              "      <td>945.31</td>\n",
              "      <td>SIM</td>\n",
              "      <td>137.76</td>\n",
              "      <td>24845.04</td>\n",
              "      <td>24707.28</td>\n",
              "    </tr>\n",
              "    <tr>\n",
              "      <th>7417</th>\n",
              "      <td>24413157</td>\n",
              "      <td>33881</td>\n",
              "      <td>JERUZA</td>\n",
              "      <td>TV OLED / QLED</td>\n",
              "      <td>Loja Autazes</td>\n",
              "      <td>2019-06-25 13:22:23.000</td>\n",
              "      <td>137.76</td>\n",
              "      <td>6.20</td>\n",
              "      <td>SIM</td>\n",
              "      <td>137.76</td>\n",
              "      <td>24845.04</td>\n",
              "      <td>24707.28</td>\n",
              "    </tr>\n",
              "    <tr>\n",
              "      <th>500</th>\n",
              "      <td>23740303</td>\n",
              "      <td>263304</td>\n",
              "      <td>DEYMISON</td>\n",
              "      <td>TV OLED / QLED</td>\n",
              "      <td>Loja Manicore</td>\n",
              "      <td>2020-05-04 16:31:54.478</td>\n",
              "      <td>609.60</td>\n",
              "      <td>27.43</td>\n",
              "      <td>NAO</td>\n",
              "      <td>137.76</td>\n",
              "      <td>24845.04</td>\n",
              "      <td>24707.28</td>\n",
              "    </tr>\n",
              "    <tr>\n",
              "      <th>2192</th>\n",
              "      <td>23240420</td>\n",
              "      <td>6750</td>\n",
              "      <td>CLARA</td>\n",
              "      <td>TV OLED / QLED</td>\n",
              "      <td>Loja Lábrea</td>\n",
              "      <td>2019-05-30 16:32:20.000</td>\n",
              "      <td>1041.36</td>\n",
              "      <td>46.86</td>\n",
              "      <td>SIM</td>\n",
              "      <td>137.76</td>\n",
              "      <td>24845.04</td>\n",
              "      <td>24707.28</td>\n",
              "    </tr>\n",
              "    <tr>\n",
              "      <th>3049</th>\n",
              "      <td>24573873</td>\n",
              "      <td>69199</td>\n",
              "      <td>ALEXANDRE</td>\n",
              "      <td>TV OLED / QLED</td>\n",
              "      <td>Loja Lábrea</td>\n",
              "      <td>2019-06-28 18:36:09.000</td>\n",
              "      <td>1278.72</td>\n",
              "      <td>57.54</td>\n",
              "      <td>SIM</td>\n",
              "      <td>137.76</td>\n",
              "      <td>24845.04</td>\n",
              "      <td>24707.28</td>\n",
              "    </tr>\n",
              "    <tr>\n",
              "      <th>...</th>\n",
              "      <td>...</td>\n",
              "      <td>...</td>\n",
              "      <td>...</td>\n",
              "      <td>...</td>\n",
              "      <td>...</td>\n",
              "      <td>...</td>\n",
              "      <td>...</td>\n",
              "      <td>...</td>\n",
              "      <td>...</td>\n",
              "      <td>...</td>\n",
              "      <td>...</td>\n",
              "      <td>...</td>\n",
              "    </tr>\n",
              "    <tr>\n",
              "      <th>13499</th>\n",
              "      <td>21881095</td>\n",
              "      <td>177380</td>\n",
              "      <td>CRISTIANE</td>\n",
              "      <td>GELADEIRA 1</td>\n",
              "      <td>Loja Lábrea</td>\n",
              "      <td>2019-06-24 12:08:11.000</td>\n",
              "      <td>3.40</td>\n",
              "      <td>0.15</td>\n",
              "      <td>SIM</td>\n",
              "      <td>1.98</td>\n",
              "      <td>27.44</td>\n",
              "      <td>25.46</td>\n",
              "    </tr>\n",
              "    <tr>\n",
              "      <th>5534</th>\n",
              "      <td>25943858</td>\n",
              "      <td>243039</td>\n",
              "      <td>CLEIDIANE</td>\n",
              "      <td>GELADEIRA 1</td>\n",
              "      <td>Loja Manicore</td>\n",
              "      <td>2019-01-25 19:39:11.000</td>\n",
              "      <td>9.16</td>\n",
              "      <td>0.41</td>\n",
              "      <td>SIM</td>\n",
              "      <td>1.98</td>\n",
              "      <td>27.44</td>\n",
              "      <td>25.46</td>\n",
              "    </tr>\n",
              "    <tr>\n",
              "      <th>9099</th>\n",
              "      <td>24125184</td>\n",
              "      <td>161989</td>\n",
              "      <td>MARIA</td>\n",
              "      <td>GELADEIRA 1</td>\n",
              "      <td>Loja Lábrea</td>\n",
              "      <td>2019-06-18 20:31:03.000</td>\n",
              "      <td>13.13</td>\n",
              "      <td>0.59</td>\n",
              "      <td>SIM</td>\n",
              "      <td>1.98</td>\n",
              "      <td>27.44</td>\n",
              "      <td>25.46</td>\n",
              "    </tr>\n",
              "    <tr>\n",
              "      <th>12642</th>\n",
              "      <td>21879381</td>\n",
              "      <td>98056</td>\n",
              "      <td>LUCIANE</td>\n",
              "      <td>GELADEIRA 1</td>\n",
              "      <td>Loja Manicore</td>\n",
              "      <td>2019-06-26 18:49:36.000</td>\n",
              "      <td>9.34</td>\n",
              "      <td>0.42</td>\n",
              "      <td>NAO</td>\n",
              "      <td>1.98</td>\n",
              "      <td>27.44</td>\n",
              "      <td>25.46</td>\n",
              "    </tr>\n",
              "    <tr>\n",
              "      <th>1134</th>\n",
              "      <td>24034889</td>\n",
              "      <td>217077</td>\n",
              "      <td>JOSE</td>\n",
              "      <td>GELADEIRA 1</td>\n",
              "      <td>Loja Lábrea</td>\n",
              "      <td>2020-07-30 16:47:46.247</td>\n",
              "      <td>7.87</td>\n",
              "      <td>0.35</td>\n",
              "      <td>SIM</td>\n",
              "      <td>1.98</td>\n",
              "      <td>27.44</td>\n",
              "      <td>25.46</td>\n",
              "    </tr>\n",
              "  </tbody>\n",
              "</table>\n",
              "<p>13877 rows × 12 columns</p>\n",
              "</div>"
            ],
            "text/plain": [
              "       num_compra  usuario  ... valor_max_compra amplitude\n",
              "5703     21921597   316759  ...         24845.04  24707.28\n",
              "7417     24413157    33881  ...         24845.04  24707.28\n",
              "500      23740303   263304  ...         24845.04  24707.28\n",
              "2192     23240420     6750  ...         24845.04  24707.28\n",
              "3049     24573873    69199  ...         24845.04  24707.28\n",
              "...           ...      ...  ...              ...       ...\n",
              "13499    21881095   177380  ...            27.44     25.46\n",
              "5534     25943858   243039  ...            27.44     25.46\n",
              "9099     24125184   161989  ...            27.44     25.46\n",
              "12642    21879381    98056  ...            27.44     25.46\n",
              "1134     24034889   217077  ...            27.44     25.46\n",
              "\n",
              "[13877 rows x 12 columns]"
            ]
          },
          "metadata": {
            "tags": []
          },
          "execution_count": 44
        }
      ]
    },
    {
      "cell_type": "code",
      "metadata": {
        "colab": {
          "base_uri": "https://localhost:8080/",
          "height": 419
        },
        "id": "lWcKhPASsNeQ",
        "outputId": "4cc48883-b67a-43ed-d527-3e4bb1bc58e8"
      },
      "source": [
        "df_maxmin = df_maxmin.rename(columns={'valor_compra_x':'valor_min_compra','valor_compra_y':'valor_max_compra'})\n",
        "df_maxmin['amplitude']=df_maxmin['valor_max_compra'] - df_maxmin['valor_min_compra']\n",
        "df_maxmin = df_maxmin.sort_values(['amplitude'] ,ascending = [False])\n",
        "df_maxmin.reset_index(drop = True)"
      ],
      "execution_count": 45,
      "outputs": [
        {
          "output_type": "execute_result",
          "data": {
            "text/html": [
              "<div>\n",
              "<style scoped>\n",
              "    .dataframe tbody tr th:only-of-type {\n",
              "        vertical-align: middle;\n",
              "    }\n",
              "\n",
              "    .dataframe tbody tr th {\n",
              "        vertical-align: top;\n",
              "    }\n",
              "\n",
              "    .dataframe thead th {\n",
              "        text-align: right;\n",
              "    }\n",
              "</style>\n",
              "<table border=\"1\" class=\"dataframe\">\n",
              "  <thead>\n",
              "    <tr style=\"text-align: right;\">\n",
              "      <th></th>\n",
              "      <th>tipo_de_mercadoria</th>\n",
              "      <th>valor_min_compra</th>\n",
              "      <th>valor_max_compra</th>\n",
              "      <th>amplitude</th>\n",
              "    </tr>\n",
              "  </thead>\n",
              "  <tbody>\n",
              "    <tr>\n",
              "      <th>0</th>\n",
              "      <td>TV OLED / QLED</td>\n",
              "      <td>137.76</td>\n",
              "      <td>24845.04</td>\n",
              "      <td>24707.28</td>\n",
              "    </tr>\n",
              "    <tr>\n",
              "      <th>1</th>\n",
              "      <td>TV LED DE 48\" À 54\"</td>\n",
              "      <td>143.52</td>\n",
              "      <td>24845.04</td>\n",
              "      <td>24701.52</td>\n",
              "    </tr>\n",
              "    <tr>\n",
              "      <th>2</th>\n",
              "      <td>SPLIT ACIMA DE 30000</td>\n",
              "      <td>155.76</td>\n",
              "      <td>24845.04</td>\n",
              "      <td>24689.28</td>\n",
              "    </tr>\n",
              "    <tr>\n",
              "      <th>3</th>\n",
              "      <td>SPLIT INV18001À30000</td>\n",
              "      <td>197.28</td>\n",
              "      <td>24845.04</td>\n",
              "      <td>24647.76</td>\n",
              "    </tr>\n",
              "    <tr>\n",
              "      <th>4</th>\n",
              "      <td>AR COND SPLIT 2</td>\n",
              "      <td>302.16</td>\n",
              "      <td>17184.24</td>\n",
              "      <td>16882.08</td>\n",
              "    </tr>\n",
              "    <tr>\n",
              "      <th>...</th>\n",
              "      <td>...</td>\n",
              "      <td>...</td>\n",
              "      <td>...</td>\n",
              "      <td>...</td>\n",
              "    </tr>\n",
              "    <tr>\n",
              "      <th>852</th>\n",
              "      <td>HIDRATANTE INFANTIL</td>\n",
              "      <td>4.18</td>\n",
              "      <td>44.24</td>\n",
              "      <td>40.06</td>\n",
              "    </tr>\n",
              "    <tr>\n",
              "      <th>853</th>\n",
              "      <td>JOGO AMERICANO</td>\n",
              "      <td>7.81</td>\n",
              "      <td>47.31</td>\n",
              "      <td>39.50</td>\n",
              "    </tr>\n",
              "    <tr>\n",
              "      <th>854</th>\n",
              "      <td>PROTETOR SOLAR INFAN</td>\n",
              "      <td>9.55</td>\n",
              "      <td>48.26</td>\n",
              "      <td>38.71</td>\n",
              "    </tr>\n",
              "    <tr>\n",
              "      <th>855</th>\n",
              "      <td>FORNO 1</td>\n",
              "      <td>4.46</td>\n",
              "      <td>42.88</td>\n",
              "      <td>38.42</td>\n",
              "    </tr>\n",
              "    <tr>\n",
              "      <th>856</th>\n",
              "      <td>GELADEIRA 1</td>\n",
              "      <td>1.98</td>\n",
              "      <td>27.44</td>\n",
              "      <td>25.46</td>\n",
              "    </tr>\n",
              "  </tbody>\n",
              "</table>\n",
              "<p>857 rows × 4 columns</p>\n",
              "</div>"
            ],
            "text/plain": [
              "       tipo_de_mercadoria  valor_min_compra  valor_max_compra  amplitude\n",
              "0          TV OLED / QLED            137.76          24845.04   24707.28\n",
              "1     TV LED DE 48\" À 54\"            143.52          24845.04   24701.52\n",
              "2    SPLIT ACIMA DE 30000            155.76          24845.04   24689.28\n",
              "3    SPLIT INV18001À30000            197.28          24845.04   24647.76\n",
              "4         AR COND SPLIT 2            302.16          17184.24   16882.08\n",
              "..                    ...               ...               ...        ...\n",
              "852   HIDRATANTE INFANTIL              4.18             44.24      40.06\n",
              "853        JOGO AMERICANO              7.81             47.31      39.50\n",
              "854  PROTETOR SOLAR INFAN              9.55             48.26      38.71\n",
              "855               FORNO 1              4.46             42.88      38.42\n",
              "856           GELADEIRA 1              1.98             27.44      25.46\n",
              "\n",
              "[857 rows x 4 columns]"
            ]
          },
          "metadata": {
            "tags": []
          },
          "execution_count": 45
        }
      ]
    },
    {
      "cell_type": "markdown",
      "metadata": {
        "id": "GqSi_ILg80bj"
      },
      "source": [
        "## 5.6 Produtos Mais Vendidos"
      ]
    },
    {
      "cell_type": "code",
      "metadata": {
        "colab": {
          "base_uri": "https://localhost:8080/",
          "height": 419
        },
        "id": "iE1fTOY_o-pw",
        "outputId": "0b6b0a71-08eb-4096-8206-972039436d26"
      },
      "source": [
        "df_produto =  df_vendedores.copy()\n",
        "df_produto = df_produto.groupby(['tipo_de_mercadoria']).agg({'valor_compra':'sum','imposto':'count'}).reset_index(drop = False)\n",
        "df_produto = df_produto.rename(columns={'imposto':'qtd_vendas'})\n",
        "df_produto = df_produto.rename(columns={'valor_compra':'valor_total'})\n",
        "df_produto['porcentagem_vendas_tot'] = (df_produto['qtd_vendas']*100/df_produto['qtd_vendas'].sum()).round(2)\n",
        "df_produto = df_produto.sort_values(['qtd_vendas'] ,ascending = [False]).reset_index(drop = True)\n",
        "df_produto"
      ],
      "execution_count": 46,
      "outputs": [
        {
          "output_type": "execute_result",
          "data": {
            "text/html": [
              "<div>\n",
              "<style scoped>\n",
              "    .dataframe tbody tr th:only-of-type {\n",
              "        vertical-align: middle;\n",
              "    }\n",
              "\n",
              "    .dataframe tbody tr th {\n",
              "        vertical-align: top;\n",
              "    }\n",
              "\n",
              "    .dataframe thead th {\n",
              "        text-align: right;\n",
              "    }\n",
              "</style>\n",
              "<table border=\"1\" class=\"dataframe\">\n",
              "  <thead>\n",
              "    <tr style=\"text-align: right;\">\n",
              "      <th></th>\n",
              "      <th>tipo_de_mercadoria</th>\n",
              "      <th>valor_total</th>\n",
              "      <th>qtd_vendas</th>\n",
              "      <th>porcentagem_vendas_tot</th>\n",
              "    </tr>\n",
              "  </thead>\n",
              "  <tbody>\n",
              "    <tr>\n",
              "      <th>0</th>\n",
              "      <td>SPLIT 18001 À 30000</td>\n",
              "      <td>155654.16</td>\n",
              "      <td>103</td>\n",
              "      <td>0.74</td>\n",
              "    </tr>\n",
              "    <tr>\n",
              "      <th>1</th>\n",
              "      <td>SPLIT 10001 À 18000</td>\n",
              "      <td>210643.92</td>\n",
              "      <td>103</td>\n",
              "      <td>0.74</td>\n",
              "    </tr>\n",
              "    <tr>\n",
              "      <th>2</th>\n",
              "      <td>TANQUINHO/SEMI-AUTOM</td>\n",
              "      <td>673.77</td>\n",
              "      <td>25</td>\n",
              "      <td>0.18</td>\n",
              "    </tr>\n",
              "    <tr>\n",
              "      <th>3</th>\n",
              "      <td>JANELA ATÉ 8500 BTUS</td>\n",
              "      <td>1064.27</td>\n",
              "      <td>25</td>\n",
              "      <td>0.18</td>\n",
              "    </tr>\n",
              "    <tr>\n",
              "      <th>4</th>\n",
              "      <td>JANELA 8501 À 10000</td>\n",
              "      <td>743.61</td>\n",
              "      <td>25</td>\n",
              "      <td>0.18</td>\n",
              "    </tr>\n",
              "    <tr>\n",
              "      <th>...</th>\n",
              "      <td>...</td>\n",
              "      <td>...</td>\n",
              "      <td>...</td>\n",
              "      <td>...</td>\n",
              "    </tr>\n",
              "    <tr>\n",
              "      <th>852</th>\n",
              "      <td>GEL ANTISSÉPTICO</td>\n",
              "      <td>460.90</td>\n",
              "      <td>11</td>\n",
              "      <td>0.08</td>\n",
              "    </tr>\n",
              "    <tr>\n",
              "      <th>853</th>\n",
              "      <td>UMIDIFICADOR</td>\n",
              "      <td>354.04</td>\n",
              "      <td>11</td>\n",
              "      <td>0.08</td>\n",
              "    </tr>\n",
              "    <tr>\n",
              "      <th>854</th>\n",
              "      <td>TOALHA UMEDECIDA</td>\n",
              "      <td>436.98</td>\n",
              "      <td>11</td>\n",
              "      <td>0.08</td>\n",
              "    </tr>\n",
              "    <tr>\n",
              "      <th>855</th>\n",
              "      <td>DUCHA GINECOLÓGICA</td>\n",
              "      <td>719.24</td>\n",
              "      <td>11</td>\n",
              "      <td>0.08</td>\n",
              "    </tr>\n",
              "    <tr>\n",
              "      <th>856</th>\n",
              "      <td>ÔMEGA 3 E 6</td>\n",
              "      <td>423.77</td>\n",
              "      <td>11</td>\n",
              "      <td>0.08</td>\n",
              "    </tr>\n",
              "  </tbody>\n",
              "</table>\n",
              "<p>857 rows × 4 columns</p>\n",
              "</div>"
            ],
            "text/plain": [
              "       tipo_de_mercadoria  valor_total  qtd_vendas  porcentagem_vendas_tot\n",
              "0     SPLIT 18001 À 30000    155654.16         103                    0.74\n",
              "1     SPLIT 10001 À 18000    210643.92         103                    0.74\n",
              "2    TANQUINHO/SEMI-AUTOM       673.77          25                    0.18\n",
              "3    JANELA ATÉ 8500 BTUS      1064.27          25                    0.18\n",
              "4     JANELA 8501 À 10000       743.61          25                    0.18\n",
              "..                    ...          ...         ...                     ...\n",
              "852      GEL ANTISSÉPTICO       460.90          11                    0.08\n",
              "853          UMIDIFICADOR       354.04          11                    0.08\n",
              "854      TOALHA UMEDECIDA       436.98          11                    0.08\n",
              "855    DUCHA GINECOLÓGICA       719.24          11                    0.08\n",
              "856           ÔMEGA 3 E 6       423.77          11                    0.08\n",
              "\n",
              "[857 rows x 4 columns]"
            ]
          },
          "metadata": {
            "tags": []
          },
          "execution_count": 46
        }
      ]
    },
    {
      "cell_type": "markdown",
      "metadata": {
        "id": "wmdap10D_gT1"
      },
      "source": [
        "### **PRINTS**"
      ]
    },
    {
      "cell_type": "code",
      "metadata": {
        "id": "SkdkjhKs0Awt"
      },
      "source": [
        "def maior_produto(produtos):\n",
        "  maiores = []\n",
        "  maior_prod = {}\n",
        "  for linha in produtos:\n",
        "    if 'maior' in locals():\n",
        "      if linha[2] > maior:\n",
        "        maior = linha[2]\n",
        "    else:\n",
        "      maior = linha[2]\n",
        "  # criando lista com os maiores valores    \n",
        "  for linha in produtos:\n",
        "    if linha[2] == maior:\n",
        "      maiores.append(linha[0])\n",
        "  maior_prod[maior] = maiores\n",
        "  return maior_prod"
      ],
      "execution_count": 47,
      "outputs": []
    },
    {
      "cell_type": "code",
      "metadata": {
        "colab": {
          "base_uri": "https://localhost:8080/"
        },
        "id": "pj5N9OFu6S6t",
        "outputId": "e874c1e9-818d-43fb-cf01-713776db0dc1"
      },
      "source": [
        "maior_prod = maior_produto(df_produto.values.tolist())\n",
        "for idx, key in enumerate(maior_prod) :\n",
        "  print(f'Quantidade de Vendas dos produtos mais vendidos: {key} vendas')\n",
        "  print('Produtos mais vendidos:', end=\" \")\n",
        "  for i in range(len(maior_prod[key])):\n",
        "    if i < len(maior_prod[key]) -1:\n",
        "      print(maior_prod[key][i], end=\", \")\n",
        "    else:\n",
        "      print(maior_prod[key][i])\n"
      ],
      "execution_count": 48,
      "outputs": [
        {
          "output_type": "stream",
          "text": [
            "Quantidade de Vendas dos produtos mais vendidos: 103 vendas\n",
            "Produtos mais vendidos: SPLIT 18001 À 30000, SPLIT 10001 À 18000\n"
          ],
          "name": "stdout"
        }
      ]
    },
    {
      "cell_type": "code",
      "metadata": {
        "colab": {
          "base_uri": "https://localhost:8080/",
          "height": 470
        },
        "id": "dvIelSsD_9nJ",
        "outputId": "cf65f7ef-9a0d-4260-94aa-114047cab7f2"
      },
      "source": [
        "# Definindo os produtos, que vao para o eixo x:\n",
        "produtos = df_produto['tipo_de_mercadoria'].head(5)\n",
        "produtos = produtos.tolist()\n",
        "\n",
        "# Definindo as participações que formarão o eixo y:\n",
        "quantidade = df_produto['qtd_vendas'].head(5)\n",
        "quantidade = quantidade.tolist()\n",
        "\n",
        "\n",
        "#cria a figura e o eixo\n",
        "fig = plt.figure(figsize=(8,7))\n",
        "ax1 = fig.add_subplot(111)\n",
        "\n",
        "#colores\n",
        "cores = [ '#01a0e4','#d52d2b','#393ed3', '#6075b7','#2a2b60','gray','pink','brown']\n",
        "\n",
        "#plotando o gráfico\n",
        "ax1.barh(produtos,quantidade, color = cores)\n",
        "\n",
        "# Adicionando legendas as barras\n",
        "plt.xlabel('Quantidade', fontsize=12)\n",
        "plt.ylabel('Produtos mais vendidos', fontsize=12)\n",
        "\n",
        "\n",
        "#Fonte dos eixos\n",
        "plt.rcParams['xtick.labelsize'] = 12\n",
        "plt.rcParams['ytick.labelsize'] = 12\n",
        "\n",
        "#Titulo\n",
        "title = '5 Produtos mais vendidos em todas as unidades'\n",
        "plt.title(title,fontsize=18)\n",
        "\n",
        "plt.savefig('imagens/dados1/'+title +'.png')\n",
        "plt.show()"
      ],
      "execution_count": 49,
      "outputs": [
        {
          "output_type": "display_data",
          "data": {
            "image/png": "[encoded data removed]",
            "text/plain": [
              "<Figure size 576x504 with 1 Axes>"
            ]
          },
          "metadata": {
            "tags": [],
            "needs_background": "light"
          }
        }
      ]
    },
    {
      "cell_type": "markdown",
      "metadata": {
        "id": "RlQ4FvE4Oauc"
      },
      "source": [
        "## 5.7 Produtos mais Vendidos por Vendedor"
      ]
    },
    {
      "cell_type": "code",
      "metadata": {
        "colab": {
          "base_uri": "https://localhost:8080/",
          "height": 359
        },
        "id": "1aLO5-jgJFgv",
        "outputId": "4266c432-8412-4028-ad8f-a65be91983e0"
      },
      "source": [
        "df_prod_vendedor = df_vendedores.copy()\n",
        "df_prod_vendedor = df_prod_vendedor.drop(['num_compra','cpf_na_nota','imposto',\"filial\",\"data_compra\"], axis = 'columns')\n",
        "df_prod_vendedor = df_prod_vendedor.groupby(['usuario','nome','tipo_de_mercadoria']).agg({'valor_compra':'count'}).reset_index(drop = False)\n",
        "df_prod_vendedor = df_prod_vendedor.rename(columns={'valor_compra':'qtd_vendas'})\n",
        "df_prod_vendedor = df_prod_vendedor.sort_values(['qtd_vendas'] ,ascending = [False]).reset_index(drop = True)\n",
        "df_prod_vendedor.head(10)\n"
      ],
      "execution_count": 50,
      "outputs": [
        {
          "output_type": "execute_result",
          "data": {
            "text/html": [
              "<div>\n",
              "<style scoped>\n",
              "    .dataframe tbody tr th:only-of-type {\n",
              "        vertical-align: middle;\n",
              "    }\n",
              "\n",
              "    .dataframe tbody tr th {\n",
              "        vertical-align: top;\n",
              "    }\n",
              "\n",
              "    .dataframe thead th {\n",
              "        text-align: right;\n",
              "    }\n",
              "</style>\n",
              "<table border=\"1\" class=\"dataframe\">\n",
              "  <thead>\n",
              "    <tr style=\"text-align: right;\">\n",
              "      <th></th>\n",
              "      <th>usuario</th>\n",
              "      <th>nome</th>\n",
              "      <th>tipo_de_mercadoria</th>\n",
              "      <th>qtd_vendas</th>\n",
              "    </tr>\n",
              "  </thead>\n",
              "  <tbody>\n",
              "    <tr>\n",
              "      <th>0</th>\n",
              "      <td>4464</td>\n",
              "      <td>MARIA</td>\n",
              "      <td>SPLIT 10001 À 18000</td>\n",
              "      <td>2</td>\n",
              "    </tr>\n",
              "    <tr>\n",
              "      <th>1</th>\n",
              "      <td>4491</td>\n",
              "      <td>JESSICA</td>\n",
              "      <td>SPLIT 18001 À 30000</td>\n",
              "      <td>2</td>\n",
              "    </tr>\n",
              "    <tr>\n",
              "      <th>2</th>\n",
              "      <td>322106</td>\n",
              "      <td>RELDSON</td>\n",
              "      <td>SPLIT 10001 À 18000</td>\n",
              "      <td>2</td>\n",
              "    </tr>\n",
              "    <tr>\n",
              "      <th>3</th>\n",
              "      <td>538</td>\n",
              "      <td>JAMERSON</td>\n",
              "      <td>SPLIT 10001 À 18000</td>\n",
              "      <td>2</td>\n",
              "    </tr>\n",
              "    <tr>\n",
              "      <th>4</th>\n",
              "      <td>606</td>\n",
              "      <td>JEANDERSON</td>\n",
              "      <td>SPLIT 18001 À 30000</td>\n",
              "      <td>2</td>\n",
              "    </tr>\n",
              "    <tr>\n",
              "      <th>5</th>\n",
              "      <td>322849</td>\n",
              "      <td>WELISON</td>\n",
              "      <td>SPLIT 18001 À 30000</td>\n",
              "      <td>2</td>\n",
              "    </tr>\n",
              "    <tr>\n",
              "      <th>6</th>\n",
              "      <td>256594</td>\n",
              "      <td>ADJANES</td>\n",
              "      <td>ACESSÓRIOS DE ÁUDIO</td>\n",
              "      <td>1</td>\n",
              "    </tr>\n",
              "    <tr>\n",
              "      <th>7</th>\n",
              "      <td>256982</td>\n",
              "      <td>TATIANA</td>\n",
              "      <td>PORTÁTIL INSTRUM</td>\n",
              "      <td>1</td>\n",
              "    </tr>\n",
              "    <tr>\n",
              "      <th>8</th>\n",
              "      <td>256982</td>\n",
              "      <td>TATIANA</td>\n",
              "      <td>CABECEIRAS</td>\n",
              "      <td>1</td>\n",
              "    </tr>\n",
              "    <tr>\n",
              "      <th>9</th>\n",
              "      <td>256982</td>\n",
              "      <td>TATIANA</td>\n",
              "      <td>CABOS</td>\n",
              "      <td>1</td>\n",
              "    </tr>\n",
              "  </tbody>\n",
              "</table>\n",
              "</div>"
            ],
            "text/plain": [
              "   usuario        nome   tipo_de_mercadoria  qtd_vendas\n",
              "0     4464       MARIA  SPLIT 10001 À 18000           2\n",
              "1     4491     JESSICA  SPLIT 18001 À 30000           2\n",
              "2   322106     RELDSON  SPLIT 10001 À 18000           2\n",
              "3      538    JAMERSON  SPLIT 10001 À 18000           2\n",
              "4      606  JEANDERSON  SPLIT 18001 À 30000           2\n",
              "5   322849     WELISON  SPLIT 18001 À 30000           2\n",
              "6   256594     ADJANES  ACESSÓRIOS DE ÁUDIO           1\n",
              "7   256982     TATIANA     PORTÁTIL INSTRUM           1\n",
              "8   256982     TATIANA           CABECEIRAS           1\n",
              "9   256982     TATIANA                CABOS           1"
            ]
          },
          "metadata": {
            "tags": []
          },
          "execution_count": 50
        }
      ]
    },
    {
      "cell_type": "markdown",
      "metadata": {
        "id": "KasF-clJPWJv"
      },
      "source": [
        "## 5.8 Produtos mais vendidos por Filial"
      ]
    },
    {
      "cell_type": "code",
      "metadata": {
        "colab": {
          "base_uri": "https://localhost:8080/",
          "height": 419
        },
        "id": "ViNfzb6gPcZn",
        "outputId": "f0ab7c75-e7d4-4c58-ed42-e558ab2ebd33"
      },
      "source": [
        "df_prod_filial = df_vendedores.copy()\n",
        "df_prod_filial = df_prod_filial.drop(['num_compra','cpf_na_nota','imposto',\"usuario\",\"nome\",\"data_compra\"], axis = 'columns')\n",
        "df_prod_filial = df_prod_filial.groupby(['filial','tipo_de_mercadoria']).agg({'valor_compra':'count'}).reset_index(drop = False)\n",
        "df_prod_filial = df_prod_filial.rename(columns={'valor_compra':'qtd_vendas'})\n",
        "df_prod_filial = df_prod_filial.sort_values(['qtd_vendas'] ,ascending = [False]).reset_index(drop = True)\n",
        "df_prod_filial2 = df_prod_filial.copy()\n",
        "df_prod_filial"
      ],
      "execution_count": 71,
      "outputs": [
        {
          "output_type": "execute_result",
          "data": {
            "text/html": [
              "<div>\n",
              "<style scoped>\n",
              "    .dataframe tbody tr th:only-of-type {\n",
              "        vertical-align: middle;\n",
              "    }\n",
              "\n",
              "    .dataframe tbody tr th {\n",
              "        vertical-align: top;\n",
              "    }\n",
              "\n",
              "    .dataframe thead th {\n",
              "        text-align: right;\n",
              "    }\n",
              "</style>\n",
              "<table border=\"1\" class=\"dataframe\">\n",
              "  <thead>\n",
              "    <tr style=\"text-align: right;\">\n",
              "      <th></th>\n",
              "      <th>filial</th>\n",
              "      <th>tipo_de_mercadoria</th>\n",
              "      <th>qtd_vendas</th>\n",
              "    </tr>\n",
              "  </thead>\n",
              "  <tbody>\n",
              "    <tr>\n",
              "      <th>0</th>\n",
              "      <td>Loja Manicore</td>\n",
              "      <td>SPLIT 10001 À 18000</td>\n",
              "      <td>48</td>\n",
              "    </tr>\n",
              "    <tr>\n",
              "      <th>1</th>\n",
              "      <td>Loja Manicore</td>\n",
              "      <td>SPLIT 18001 À 30000</td>\n",
              "      <td>45</td>\n",
              "    </tr>\n",
              "    <tr>\n",
              "      <th>2</th>\n",
              "      <td>Loja Lábrea</td>\n",
              "      <td>SPLIT 18001 À 30000</td>\n",
              "      <td>34</td>\n",
              "    </tr>\n",
              "    <tr>\n",
              "      <th>3</th>\n",
              "      <td>Loja Lábrea</td>\n",
              "      <td>SPLIT 10001 À 18000</td>\n",
              "      <td>31</td>\n",
              "    </tr>\n",
              "    <tr>\n",
              "      <th>4</th>\n",
              "      <td>Loja Autazes</td>\n",
              "      <td>SPLIT 10001 À 18000</td>\n",
              "      <td>24</td>\n",
              "    </tr>\n",
              "    <tr>\n",
              "      <th>...</th>\n",
              "      <td>...</td>\n",
              "      <td>...</td>\n",
              "      <td>...</td>\n",
              "    </tr>\n",
              "    <tr>\n",
              "      <th>2551</th>\n",
              "      <td>Loja Autazes</td>\n",
              "      <td>BANDEJ/TRAVES/BAIXEL</td>\n",
              "      <td>1</td>\n",
              "    </tr>\n",
              "    <tr>\n",
              "      <th>2552</th>\n",
              "      <td>Loja Manicore</td>\n",
              "      <td>SABONETE/GEL P/BANHO</td>\n",
              "      <td>1</td>\n",
              "    </tr>\n",
              "    <tr>\n",
              "      <th>2553</th>\n",
              "      <td>Loja Autazes</td>\n",
              "      <td>BATEDEIRA</td>\n",
              "      <td>1</td>\n",
              "    </tr>\n",
              "    <tr>\n",
              "      <th>2554</th>\n",
              "      <td>Loja Autazes</td>\n",
              "      <td>COMPUTADORES</td>\n",
              "      <td>1</td>\n",
              "    </tr>\n",
              "    <tr>\n",
              "      <th>2555</th>\n",
              "      <td>Loja Autazes</td>\n",
              "      <td>PAINEL</td>\n",
              "      <td>1</td>\n",
              "    </tr>\n",
              "  </tbody>\n",
              "</table>\n",
              "<p>2556 rows × 3 columns</p>\n",
              "</div>"
            ],
            "text/plain": [
              "              filial    tipo_de_mercadoria  qtd_vendas\n",
              "0     Loja Manicore    SPLIT 10001 À 18000          48\n",
              "1     Loja Manicore    SPLIT 18001 À 30000          45\n",
              "2       Loja Lábrea    SPLIT 18001 À 30000          34\n",
              "3       Loja Lábrea    SPLIT 10001 À 18000          31\n",
              "4       Loja Autazes   SPLIT 10001 À 18000          24\n",
              "...              ...                   ...         ...\n",
              "2551    Loja Autazes  BANDEJ/TRAVES/BAIXEL           1\n",
              "2552  Loja Manicore   SABONETE/GEL P/BANHO           1\n",
              "2553    Loja Autazes             BATEDEIRA           1\n",
              "2554    Loja Autazes          COMPUTADORES           1\n",
              "2555    Loja Autazes                PAINEL           1\n",
              "\n",
              "[2556 rows x 3 columns]"
            ]
          },
          "metadata": {
            "tags": []
          },
          "execution_count": 71
        }
      ]
    },
    {
      "cell_type": "code",
      "metadata": {
        "id": "cir2DmqmQCF4"
      },
      "source": [
        "filiais = df_vendedores.groupby(['filial']).count().reset_index(drop = False).copy()\n",
        "filiais = filiais['filial'].tolist()\n",
        "\n",
        "df_prod_filial = df_prod_filial.values.tolist()\n",
        "list_produto_filial = []\n",
        "todas_filiais = {}\n",
        "for filial in filiais:\n",
        "  for linha in df_prod_filial:\n",
        "    if linha[0] == filial:\n",
        "      if 'maior' in locals():\n",
        "        if linha[2] > maior:\n",
        "          maior = linha[2]\n",
        "          produto = linha[1]\n",
        "      else:\n",
        "        maior = linha[2]\n",
        "        produto = linha[1]\n",
        "  todas_filiais[filial] = [maior,produto]\n",
        "  maior = 0\n",
        "# Separando em listas as filiais, qtd_vendas e os produtos mais vendidos por filial\n",
        "filiais = []\n",
        "qtd_vendas = []\n",
        "produto = []\n",
        "for idx, key in enumerate(todas_filiais):\n",
        "  filiais.append(key)\n",
        "  qtd_vendas.append(todas_filiais[key][0])\n",
        "  produto.append(todas_filiais[key][1])"
      ],
      "execution_count": 52,
      "outputs": []
    },
    {
      "cell_type": "code",
      "metadata": {
        "colab": {
          "base_uri": "https://localhost:8080/",
          "height": 470
        },
        "id": "U5Xx8-bjZPmB",
        "outputId": "d6a4905d-d3a3-4986-af5d-0fba707f16a8"
      },
      "source": [
        "# Definindo os produtos, que vao para o eixo x:\n",
        "produtos = filiais\n",
        "\n",
        "# Definindo as participações que formarão o eixo y:\n",
        "quantidade = qtd_vendas\n",
        "\n",
        "#cria a figura e o eixo\n",
        "fig = plt.figure(figsize=(8,7))\n",
        "ax1 = fig.add_subplot(111)\n",
        "\n",
        "#colores\n",
        "cores = [ '#01a0e4','#d52d2b','#393ed3', '#6075b7','#2a2b60','gray','pink','brown']\n",
        "\n",
        "#plotando o gráfico\n",
        "for n in range(len(produtos)):\n",
        "  ax1.bar(produtos[n],quantidade[n], color = cores[n], label=produto[n] )\n",
        "\n",
        "# Adicionando legendas as barras\n",
        "plt.xlabel('Filial', fontsize=15)\n",
        "plt.ylabel('Quantidade de vendas', fontsize=15)\n",
        "\n",
        "#legenda em posicao especifica\n",
        "plt.legend(bbox_to_anchor=(1.18,0.5), loc=\"lower right\", bbox_transform=fig.transFigure)\n",
        "\n",
        "#Fonte dos eixos\n",
        "plt.rcParams['xtick.labelsize'] = 12\n",
        "plt.rcParams['ytick.labelsize'] = 12\n",
        "\n",
        "#Adicionando texto dentro do gráfico\n",
        "for n in range(len(produto)):\n",
        "  plt.text(n-0.36, 15, f'{produto[n]}\\n{\" \"*10}{quantidade[n]} vendas', bbox=dict(facecolor='white', alpha=0.5))\n",
        "\n",
        "#Titulo\n",
        "title = 'Produtos mais vendidos por unidade'\n",
        "plt.title(title,fontsize=18)\n",
        "\n",
        "plt.savefig('imagens/dados1/'+title +'.png')\n",
        "plt.show()"
      ],
      "execution_count": 53,
      "outputs": [
        {
          "output_type": "display_data",
          "data": {
            "image/png": "[encoded data removed]",
            "text/plain": [
              "<Figure size 576x504 with 1 Axes>"
            ]
          },
          "metadata": {
            "tags": [],
            "needs_background": "light"
          }
        }
      ]
    },
    {
      "cell_type": "markdown",
      "metadata": {
        "id": "GF30m0RkLxnc"
      },
      "source": [
        "# **6.0 EXTRAINDO INFORMAÇÕES BASE 2**"
      ]
    },
    {
      "cell_type": "markdown",
      "metadata": {
        "id": "ZNDLPLq2cUpp"
      },
      "source": [
        "# 6.1 Porcentagem de Imposto por Compra"
      ]
    },
    {
      "cell_type": "code",
      "metadata": {
        "colab": {
          "base_uri": "https://localhost:8080/",
          "height": 264
        },
        "id": "52ZguVrUL5SU",
        "outputId": "e7257802-a14c-48ae-e4cc-c7994b6c12b2"
      },
      "source": [
        "df_pip = df_lojas.drop(['cod_loja',\"inicio\",\"termino\",\"data_compra\",\"cod_produto\"], axis = 'columns').copy()\n",
        "df_pip['porcent_imp'] = ((df_pip['impostos']/df_pip['quantidade'])*100/(df_pip['valor_unitario_sem_impo'] + (df_pip['impostos']/df_pip['quantidade']))).round(2)\n",
        "df_pip.head(5) # Note que mais uma vez o imposto é constante para todos os produtos\n",
        "df_pip.tail(3) # Logo não haveria necessidade de calcular um imposto geral ou por tipo de produto, sempre será 11,15%\n",
        "df_pip['total_sem_imposto'] = df_pip['valor_unitario_sem_impo']*df_pip['quantidade']\n",
        "df_pip.head(3)"
      ],
      "execution_count": 54,
      "outputs": [
        {
          "output_type": "execute_result",
          "data": {
            "text/html": [
              "<div>\n",
              "<style scoped>\n",
              "    .dataframe tbody tr th:only-of-type {\n",
              "        vertical-align: middle;\n",
              "    }\n",
              "\n",
              "    .dataframe tbody tr th {\n",
              "        vertical-align: top;\n",
              "    }\n",
              "\n",
              "    .dataframe thead th {\n",
              "        text-align: right;\n",
              "    }\n",
              "</style>\n",
              "<table border=\"1\" class=\"dataframe\">\n",
              "  <thead>\n",
              "    <tr style=\"text-align: right;\">\n",
              "      <th></th>\n",
              "      <th>loja</th>\n",
              "      <th>produto</th>\n",
              "      <th>valor_unitario_sem_impo</th>\n",
              "      <th>quantidade</th>\n",
              "      <th>valor_total</th>\n",
              "      <th>impostos</th>\n",
              "      <th>cash_back_instantaneo</th>\n",
              "      <th>porcent_imp</th>\n",
              "      <th>total_sem_imposto</th>\n",
              "    </tr>\n",
              "  </thead>\n",
              "  <tbody>\n",
              "    <tr>\n",
              "      <th>0</th>\n",
              "      <td>Unidade Manaus 1</td>\n",
              "      <td>Smart Pro</td>\n",
              "      <td>3000</td>\n",
              "      <td>1</td>\n",
              "      <td>3331.29</td>\n",
              "      <td>376.29</td>\n",
              "      <td>45.0</td>\n",
              "      <td>11.15</td>\n",
              "      <td>3000</td>\n",
              "    </tr>\n",
              "    <tr>\n",
              "      <th>1</th>\n",
              "      <td>Unidade Manaus 1</td>\n",
              "      <td>Smart Pro</td>\n",
              "      <td>3000</td>\n",
              "      <td>1</td>\n",
              "      <td>3331.29</td>\n",
              "      <td>376.29</td>\n",
              "      <td>45.0</td>\n",
              "      <td>11.15</td>\n",
              "      <td>3000</td>\n",
              "    </tr>\n",
              "    <tr>\n",
              "      <th>2</th>\n",
              "      <td>Unidade Manaus 1</td>\n",
              "      <td>Smart Pro</td>\n",
              "      <td>3000</td>\n",
              "      <td>1</td>\n",
              "      <td>3331.29</td>\n",
              "      <td>376.29</td>\n",
              "      <td>45.0</td>\n",
              "      <td>11.15</td>\n",
              "      <td>3000</td>\n",
              "    </tr>\n",
              "  </tbody>\n",
              "</table>\n",
              "</div>"
            ],
            "text/plain": [
              "               loja    produto  ...  porcent_imp  total_sem_imposto\n",
              "0  Unidade Manaus 1  Smart Pro  ...        11.15               3000\n",
              "1  Unidade Manaus 1  Smart Pro  ...        11.15               3000\n",
              "2  Unidade Manaus 1  Smart Pro  ...        11.15               3000\n",
              "\n",
              "[3 rows x 9 columns]"
            ]
          },
          "metadata": {
            "tags": []
          },
          "execution_count": 54
        }
      ]
    },
    {
      "cell_type": "code",
      "metadata": {
        "colab": {
          "base_uri": "https://localhost:8080/",
          "height": 489
        },
        "id": "2Xozg0sjlEM-",
        "outputId": "87c95f3a-8672-4789-bcae-142f5b85dee2"
      },
      "source": [
        "valor_total = df_pip['total_sem_imposto'].sum() \n",
        "impostos = df_pip['impostos'].sum().copy()\n",
        "cash_back_instantaneo = df_pip['cash_back_instantaneo'].sum().copy()\n",
        "ocorrencia = [valor_total,impostos,cash_back_instantaneo]\n",
        "labels = []\n",
        "# Adquirindo nome das coluns da tabela anterior\n",
        "for n in range(len(df_pip.columns)):\n",
        "  if n == 2 or n == 5 or n == 6:\n",
        "      labels.append(df_pip.columns[n])\n",
        "# Arrumando os nomes:\n",
        "\n",
        "\n",
        "\n",
        "title= \"Composição do valor dos produtos em percentual \"\n",
        "\n",
        "fig = plt.figure(figsize=(8,7))\n",
        "ax1 = fig.add_subplot(111)\n",
        "   \n",
        "cores = [ '#01a0e4','#d52d2b','#393ed3', 'yellow','black','gray','pink','brown']\n",
        "\n",
        "plt.pie(ocorrencia, explode=[0,0,0], labels=labels, colors=cores, autopct='%1.1f%%', shadow=True, startangle=90)\n",
        "\n",
        "# Com essa opção o gráfico ficará em círculo\n",
        "plt.axis('equal') \n",
        "\n",
        "# Cria um título para o gráfico\n",
        "ax1.set_title(title, fontsize=18) \n",
        "\n",
        "#legenda em posicao especifica\n",
        "ax1.legend(bbox_to_anchor=(1,0), loc=\"lower right\", bbox_transform=fig.transFigure)\n",
        "\n",
        "#Fonte dos eixos\n",
        "plt.rcParams['xtick.labelsize'] = 12\n",
        "plt.rcParams['ytick.labelsize'] = 12\n",
        "#plt.rcParams['legend.fontsize'] = 12\n",
        "\n",
        "# Salvar grafico como imagem\n",
        "plt.savefig('imagens/dados2/'+title +'.png')\n",
        "\n",
        "#Monstra o gráfico\n",
        "plt.show()"
      ],
      "execution_count": 55,
      "outputs": [
        {
          "output_type": "display_data",
          "data": {
            "image/png": "[encoded data removed]",
            "text/plain": [
              "<Figure size 576x504 with 1 Axes>"
            ]
          },
          "metadata": {
            "tags": []
          }
        }
      ]
    },
    {
      "cell_type": "markdown",
      "metadata": {
        "id": "WFpZwMEkprEj"
      },
      "source": [
        "# 6.2 Unidade que mais vendeu"
      ]
    },
    {
      "cell_type": "code",
      "metadata": {
        "colab": {
          "base_uri": "https://localhost:8080/",
          "height": 111
        },
        "id": "YebSHOMmqZuE",
        "outputId": "7901c076-9e5b-4ff5-e44a-5a2e03dd1d4f"
      },
      "source": [
        "df_pip2 = df_pip.groupby(['loja']).agg({'total_sem_imposto':'sum','impostos':'sum','cash_back_instantaneo':'sum','quantidade':'sum'}).copy()\n",
        "df_pip2 = df_pip2.sort_values(['total_sem_imposto'] ,ascending = [False]).reset_index(drop = False).round(2).copy()\n",
        "df_pip2['valor_final'] = df_pip2['total_sem_imposto'] + df_pip2['impostos'] - df_pip2['cash_back_instantaneo']\n",
        "df_pip2"
      ],
      "execution_count": 56,
      "outputs": [
        {
          "output_type": "execute_result",
          "data": {
            "text/html": [
              "<div>\n",
              "<style scoped>\n",
              "    .dataframe tbody tr th:only-of-type {\n",
              "        vertical-align: middle;\n",
              "    }\n",
              "\n",
              "    .dataframe tbody tr th {\n",
              "        vertical-align: top;\n",
              "    }\n",
              "\n",
              "    .dataframe thead th {\n",
              "        text-align: right;\n",
              "    }\n",
              "</style>\n",
              "<table border=\"1\" class=\"dataframe\">\n",
              "  <thead>\n",
              "    <tr style=\"text-align: right;\">\n",
              "      <th></th>\n",
              "      <th>loja</th>\n",
              "      <th>total_sem_imposto</th>\n",
              "      <th>impostos</th>\n",
              "      <th>cash_back_instantaneo</th>\n",
              "      <th>quantidade</th>\n",
              "      <th>valor_final</th>\n",
              "    </tr>\n",
              "  </thead>\n",
              "  <tbody>\n",
              "    <tr>\n",
              "      <th>0</th>\n",
              "      <td>Unidade Manaus 1</td>\n",
              "      <td>1513750</td>\n",
              "      <td>189869.66</td>\n",
              "      <td>22706.25</td>\n",
              "      <td>679</td>\n",
              "      <td>1680913.41</td>\n",
              "    </tr>\n",
              "    <tr>\n",
              "      <th>1</th>\n",
              "      <td>Unidade Manaus 3</td>\n",
              "      <td>1456500</td>\n",
              "      <td>182688.80</td>\n",
              "      <td>21847.50</td>\n",
              "      <td>594</td>\n",
              "      <td>1617341.30</td>\n",
              "    </tr>\n",
              "  </tbody>\n",
              "</table>\n",
              "</div>"
            ],
            "text/plain": [
              "               loja  total_sem_imposto  ...  quantidade  valor_final\n",
              "0  Unidade Manaus 1            1513750  ...         679   1680913.41\n",
              "1  Unidade Manaus 3            1456500  ...         594   1617341.30\n",
              "\n",
              "[2 rows x 6 columns]"
            ]
          },
          "metadata": {
            "tags": []
          },
          "execution_count": 56
        }
      ]
    },
    {
      "cell_type": "code",
      "metadata": {
        "id": "WIBr6sReHNbu"
      },
      "source": [
        "def grafico_barras(df, coluna1, coluna2,coluna3,coluna4, nome_dados, legenda=[1,2],nome_eixo_x='eixo x',nome_eixo_y='eixo y',title='titulo'):\n",
        "  x1 = []\n",
        "  x2 = []\n",
        "  x3 = []\n",
        "  x4 = []\n",
        "  x5 = []\n",
        "  a = []\n",
        "  for i in df.index: \n",
        "      if i > 5:\n",
        "        break\n",
        "      else:\n",
        "        #cria os dados\n",
        "        x1.append(df[coluna1][i])\n",
        "        x2.append(df[coluna2][i])\n",
        "        x4.append(df[coluna3][i])\n",
        "        x3.append(df[nome_dados][i])\n",
        "        x5.append(df[coluna4][i])\n",
        "        a.append(df[coluna1][i]/(df[coluna1][i] + df[coluna2][i]) )\n",
        "\n",
        "  #Define a Largura das barras\n",
        "  barWidth = 0.25\n",
        "      \n",
        "  #cria a figura e o eixo\n",
        "  fig = plt.figure(figsize=(8,7))\n",
        "  ax1 = fig.add_subplot(111)\n",
        "\n",
        "  #Definindo a posição das barras\n",
        "  r1 = np.arange(len(x1))\n",
        "  r2 = [x + barWidth for x in r1]\n",
        "  r3 = [x + barWidth for x in r2]\n",
        "\n",
        "  #Criando as barras\n",
        "  plt.bar(r1, x1, color='#01a0e4', width=barWidth, label= legenda[0])\n",
        "  plt.bar(r2, x2, color='#d52d2b', width=barWidth, label=legenda[1])\n",
        "  plt.bar(r3, x4, color='#393ed3', width=barWidth, label=legenda[2])\n",
        "\n",
        "\n",
        "  # Adicionando legendas as barras\n",
        "  plt.xlabel(nome_eixo_x, fontsize=15)\n",
        "  plt.xticks([r + barWidth for r in range(len(x1))],x3)\n",
        "  plt.ylabel(nome_eixo_y, fontsize=15)\n",
        "  plt.title(title,fontsize=15)\n",
        "\n",
        "  #legenda em posicao especifica\n",
        "  ax1.legend(bbox_to_anchor=(1.18,0.5), loc=\"lower right\", bbox_transform=fig.transFigure)\n",
        "\n",
        "  #Fonte dos eixos\n",
        "  plt.rcParams['xtick.labelsize'] = 16\n",
        "  plt.rcParams['ytick.labelsize'] = 16\n",
        "  #plt.rcParams['legend.fontsize'] = 16\n",
        "\n",
        "  #Adicionando texto dentro do gráfico\n",
        "  for n in range(len(x3)):\n",
        "    plt.text(n+0.15, 1300000, f'{legenda[0]}:\\n{\" \"*5}R${x1[n]:.2f}\\n{\" \"*5}{x5[n]} vendas', bbox=dict(facecolor='white', alpha=0.5))\n",
        "    plt.text(n+0.1, 300000, f'{legenda[1]}:\\n{\" \"*5}R${x2[n]:.2f}', bbox=dict(facecolor='white', alpha=0.5))\n",
        "    plt.text(n+0.4, 100000, f'{legenda[2]}:\\n{\" \"*5}R${x4[n]:.2f}', bbox=dict(facecolor='white', alpha=0.5))\n",
        "\n",
        "  # Salvar grafico como imagem\n",
        "  plt.savefig('imagens/dados2/'+title +'.png')\n",
        "\n",
        "  plt.show()"
      ],
      "execution_count": 57,
      "outputs": []
    },
    {
      "cell_type": "code",
      "metadata": {
        "colab": {
          "base_uri": "https://localhost:8080/",
          "height": 468
        },
        "id": "iDmQ6W8OGxnB",
        "outputId": "cbc1aea7-2c92-44be-b389-510a93c2dab0"
      },
      "source": [
        "grafico_barras(df_pip2, 'total_sem_imposto', 'impostos','cash_back_instantaneo','quantidade', 'loja',legenda=['Valor sem Imposto','Imposto','Desconto'],nome_eixo_x='Unidade',nome_eixo_y='R$',title='Composição total de Vendas por Loja')"
      ],
      "execution_count": 58,
      "outputs": [
        {
          "output_type": "display_data",
          "data": {
            "image/png": "[encoded data removed]",
            "text/plain": [
              "<Figure size 576x504 with 1 Axes>"
            ]
          },
          "metadata": {
            "tags": [],
            "needs_background": "light"
          }
        }
      ]
    },
    {
      "cell_type": "code",
      "metadata": {
        "colab": {
          "base_uri": "https://localhost:8080/",
          "height": 487
        },
        "id": "cm7z-z3YOupw",
        "outputId": "e0665405-5f7a-42e2-df50-c00c26c55142"
      },
      "source": [
        "grafico_pizza(df_pip2,'valor_final','loja',title=\"Porcentagem de Valor de Vendas\",x=1, explode=[0,0.1],diretorio='dados2')"
      ],
      "execution_count": 59,
      "outputs": [
        {
          "output_type": "display_data",
          "data": {
            "image/png": "[encoded data removed]",
            "text/plain": [
              "<Figure size 576x504 with 1 Axes>"
            ]
          },
          "metadata": {
            "tags": []
          }
        }
      ]
    },
    {
      "cell_type": "code",
      "metadata": {
        "colab": {
          "base_uri": "https://localhost:8080/",
          "height": 487
        },
        "id": "V4fkCmSNZMNK",
        "outputId": "25d7de76-8f84-4a97-90df-eb6e98c64a6c"
      },
      "source": [
        "grafico_pizza(df_pip2,'quantidade','loja',title=\"Porcentagem de Quantidade de Vendas\",x=1, explode=[0,0.1],diretorio='dados2')"
      ],
      "execution_count": 60,
      "outputs": [
        {
          "output_type": "display_data",
          "data": {
            "image/png": "[encoded data removed]",
            "text/plain": [
              "<Figure size 576x504 with 1 Axes>"
            ]
          },
          "metadata": {
            "tags": []
          }
        }
      ]
    },
    {
      "cell_type": "markdown",
      "metadata": {
        "id": "z0SwsJSVWj5n"
      },
      "source": [
        "# 6.3 Produto Mais Vendido\n"
      ]
    },
    {
      "cell_type": "code",
      "metadata": {
        "colab": {
          "base_uri": "https://localhost:8080/",
          "height": 173
        },
        "id": "dbuoZcAUWsQQ",
        "outputId": "275e05f8-a41b-4366-f446-0d96c6947d0e"
      },
      "source": [
        "df_pip3 = df_pip.groupby(['loja','produto']).agg({'quantidade':'sum'}).copy()\n",
        "df_pip3 = df_pip3.reset_index(drop=False)\n",
        "df_pip3"
      ],
      "execution_count": 61,
      "outputs": [
        {
          "output_type": "execute_result",
          "data": {
            "text/html": [
              "<div>\n",
              "<style scoped>\n",
              "    .dataframe tbody tr th:only-of-type {\n",
              "        vertical-align: middle;\n",
              "    }\n",
              "\n",
              "    .dataframe tbody tr th {\n",
              "        vertical-align: top;\n",
              "    }\n",
              "\n",
              "    .dataframe thead th {\n",
              "        text-align: right;\n",
              "    }\n",
              "</style>\n",
              "<table border=\"1\" class=\"dataframe\">\n",
              "  <thead>\n",
              "    <tr style=\"text-align: right;\">\n",
              "      <th></th>\n",
              "      <th>loja</th>\n",
              "      <th>produto</th>\n",
              "      <th>quantidade</th>\n",
              "    </tr>\n",
              "  </thead>\n",
              "  <tbody>\n",
              "    <tr>\n",
              "      <th>0</th>\n",
              "      <td>Unidade Manaus 1</td>\n",
              "      <td>Smart Med</td>\n",
              "      <td>299</td>\n",
              "    </tr>\n",
              "    <tr>\n",
              "      <th>1</th>\n",
              "      <td>Unidade Manaus 1</td>\n",
              "      <td>Smart Pro</td>\n",
              "      <td>380</td>\n",
              "    </tr>\n",
              "    <tr>\n",
              "      <th>2</th>\n",
              "      <td>Unidade Manaus 3</td>\n",
              "      <td>Smart Med</td>\n",
              "      <td>186</td>\n",
              "    </tr>\n",
              "    <tr>\n",
              "      <th>3</th>\n",
              "      <td>Unidade Manaus 3</td>\n",
              "      <td>Smart Pro</td>\n",
              "      <td>408</td>\n",
              "    </tr>\n",
              "  </tbody>\n",
              "</table>\n",
              "</div>"
            ],
            "text/plain": [
              "               loja    produto  quantidade\n",
              "0  Unidade Manaus 1  Smart Med         299\n",
              "1  Unidade Manaus 1  Smart Pro         380\n",
              "2  Unidade Manaus 3  Smart Med         186\n",
              "3  Unidade Manaus 3  Smart Pro         408"
            ]
          },
          "metadata": {
            "tags": []
          },
          "execution_count": 61
        }
      ]
    },
    {
      "cell_type": "code",
      "metadata": {
        "id": "mJY53ogzrzQj"
      },
      "source": [
        "def inserir_col(produto,coluna):\n",
        "  if produto == coluna:\n",
        "    return 1\n",
        "  else:\n",
        "    return 0\n",
        "df_pip3['smart_med'] = df_pip3.apply(lambda row: inserir_col(row['produto'],\"Smart Med\"), axis = 'columns').copy()\n",
        "df_pip3['smart_pro'] = df_pip3.apply(lambda row: inserir_col(row['produto'],\"Smart Pro\"), axis = 'columns').copy()"
      ],
      "execution_count": 62,
      "outputs": []
    },
    {
      "cell_type": "code",
      "metadata": {
        "colab": {
          "base_uri": "https://localhost:8080/",
          "height": 111
        },
        "id": "k0GXc0SIsGwv",
        "outputId": "b2132546-4498-4339-827d-fe222da6be92"
      },
      "source": [
        "\n",
        "df_pip3['smart_med'] = df_pip3['smart_med']*df_pip3['quantidade']\n",
        "df_pip3['smart_pro'] = df_pip3['smart_pro']*df_pip3['quantidade']\n",
        "df_pip3 = df_pip3.drop(['produto','quantidade'], axis = 'columns').copy()\n",
        "df_prod1 = df_pip3.groupby(['loja']).agg({'smart_med':'sum'}).copy()\n",
        "df_prod2 = df_pip3.groupby(['loja']).agg({'smart_pro':'sum'}).copy()\n",
        "df_prod12 = pd.merge(df_prod1, df_prod2, on =['loja'], how = 'left' ).reset_index(drop=False)\n",
        "df_prod12"
      ],
      "execution_count": 63,
      "outputs": [
        {
          "output_type": "execute_result",
          "data": {
            "text/html": [
              "<div>\n",
              "<style scoped>\n",
              "    .dataframe tbody tr th:only-of-type {\n",
              "        vertical-align: middle;\n",
              "    }\n",
              "\n",
              "    .dataframe tbody tr th {\n",
              "        vertical-align: top;\n",
              "    }\n",
              "\n",
              "    .dataframe thead th {\n",
              "        text-align: right;\n",
              "    }\n",
              "</style>\n",
              "<table border=\"1\" class=\"dataframe\">\n",
              "  <thead>\n",
              "    <tr style=\"text-align: right;\">\n",
              "      <th></th>\n",
              "      <th>loja</th>\n",
              "      <th>smart_med</th>\n",
              "      <th>smart_pro</th>\n",
              "    </tr>\n",
              "  </thead>\n",
              "  <tbody>\n",
              "    <tr>\n",
              "      <th>0</th>\n",
              "      <td>Unidade Manaus 1</td>\n",
              "      <td>299</td>\n",
              "      <td>380</td>\n",
              "    </tr>\n",
              "    <tr>\n",
              "      <th>1</th>\n",
              "      <td>Unidade Manaus 3</td>\n",
              "      <td>186</td>\n",
              "      <td>408</td>\n",
              "    </tr>\n",
              "  </tbody>\n",
              "</table>\n",
              "</div>"
            ],
            "text/plain": [
              "               loja  smart_med  smart_pro\n",
              "0  Unidade Manaus 1        299        380\n",
              "1  Unidade Manaus 3        186        408"
            ]
          },
          "metadata": {
            "tags": []
          },
          "execution_count": 63
        }
      ]
    },
    {
      "cell_type": "code",
      "metadata": {
        "id": "eq9RKznsecpc"
      },
      "source": [
        "def grafico_barras2(df, coluna1, coluna2,nome_dados, legenda=[1,2],nome_eixo_x='eixo x',nome_eixo_y='eixo y',title='titulo'):\n",
        "\n",
        "  x1 = []\n",
        "  x2 = []\n",
        "  x3 = []\n",
        "\n",
        "  for i in df.index: \n",
        "      if i > 5:\n",
        "        break\n",
        "      else:\n",
        "        #cria os dados\n",
        "        x1.append(df[coluna1][i])\n",
        "        x2.append(df[coluna2][i])\n",
        "        x3.append(df[nome_dados][i])\n",
        "  \n",
        "  #Define a Largura das barras\n",
        "  barWidth = 0.25\n",
        "      \n",
        "  #cria a figura e o eixo\n",
        "  fig = plt.figure(figsize=(8,7))\n",
        "  ax1 = fig.add_subplot(111)\n",
        "\n",
        "  #Definindo a posição das barras\n",
        "  r1 = np.arange(len(x1))\n",
        "  r2 = [x + barWidth for x in r1]\n",
        " \n",
        "\n",
        "  #Criando as barras\n",
        "  plt.bar(r1, x1, color='#01a0e4', width=barWidth, label= legenda[0])\n",
        "  plt.bar(r2, x2, color='#d52d2b', width=barWidth, label=legenda[1])\n",
        "\n",
        "\n",
        "\n",
        "  # Adicionando legendas as barras\n",
        "  plt.xlabel(nome_eixo_x, fontsize=15)\n",
        "  plt.xticks([r + barWidth for r in range(len(x1))],x3)\n",
        "  plt.ylabel(nome_eixo_y, fontsize=15)\n",
        "  plt.title(title,fontsize=15)\n",
        "\n",
        "  #legenda em posicao especifica\n",
        "  ax1.legend(bbox_to_anchor=(1.1,0.5), loc=\"lower right\", bbox_transform=fig.transFigure)\n",
        "\n",
        "  #Fonte dos eixos\n",
        "  plt.rcParams['xtick.labelsize'] = 16\n",
        "  plt.rcParams['ytick.labelsize'] = 16\n",
        "  #plt.rcParams['legend.fontsize'] = 16\n",
        "\n",
        "  #Adicionando texto dentro do gráfico\n",
        "  for n in range(len(x3)):\n",
        "    plt.text(n-0.15, 100, f'{legenda[0]}:\\n{\" \"*5}{x1[n]} vendas', bbox=dict(facecolor='white', alpha=0.5))\n",
        "    plt.text(n+0.12, 250, f'{legenda[1]}:\\n{\" \"*5}{x2[n]} vendas', bbox=dict(facecolor='white', alpha=0.5))\n",
        "  plt.text(n-0.4, 350, f'Smart Pro: {x2[0]+x2[1]} vendas\\nSmart Med: {x1[0]+x1[1]} vendas', bbox=dict(facecolor='white', alpha=0.5))\n",
        "\n",
        "  # Salvar grafico como imagem\n",
        "  plt.savefig('imagens/dados2/'+title +'.png')\n",
        "\n",
        "  plt.show()"
      ],
      "execution_count": 64,
      "outputs": []
    },
    {
      "cell_type": "code",
      "metadata": {
        "colab": {
          "base_uri": "https://localhost:8080/",
          "height": 470
        },
        "id": "ARP5ePicgHDB",
        "outputId": "f64d9fc2-7f97-4d91-a82d-d631bfdd26d6"
      },
      "source": [
        "grafico_barras2(df_prod12, 'smart_med', 'smart_pro', 'loja',legenda =['Smart Med','Smart Pro'],nome_eixo_x='Loja',nome_eixo_y='Quantidade de Vendas',title='Quantidade de Venda de Produtos por Loja')\n"
      ],
      "execution_count": 65,
      "outputs": [
        {
          "output_type": "display_data",
          "data": {
            "image/png": "[encoded data removed]",
            "text/plain": [
              "<Figure size 576x504 with 1 Axes>"
            ]
          },
          "metadata": {
            "tags": [],
            "needs_background": "light"
          }
        }
      ]
    },
    {
      "cell_type": "code",
      "metadata": {
        "colab": {
          "base_uri": "https://localhost:8080/",
          "height": 487
        },
        "id": "f137P_hi3zKl",
        "outputId": "ec44b282-1205-48d3-ae80-de4b220f1441"
      },
      "source": [
        "grafico_pizza(df_prod12,'smart_med','loja',title=\"Porcentagem de Smart Med por Loja\",x=1, explode=[0,0.1],diretorio='dados2')"
      ],
      "execution_count": 66,
      "outputs": [
        {
          "output_type": "display_data",
          "data": {
            "image/png": "[encoded data removed]",
            "text/plain": [
              "<Figure size 576x504 with 1 Axes>"
            ]
          },
          "metadata": {
            "tags": []
          }
        }
      ]
    },
    {
      "cell_type": "code",
      "metadata": {
        "colab": {
          "base_uri": "https://localhost:8080/",
          "height": 487
        },
        "id": "6oxY51eR4SML",
        "outputId": "91f69332-f9ae-4f89-d3c0-71179c1cef22"
      },
      "source": [
        "grafico_pizza(df_prod12,'smart_pro','loja',title=\"Porcentagem de Smart Pro por Loja\",x=1, explode=[0,0.1],diretorio='dados2')"
      ],
      "execution_count": 67,
      "outputs": [
        {
          "output_type": "display_data",
          "data": {
            "image/png": "[encoded data removed]",
            "text/plain": [
              "<Figure size 576x504 with 1 Axes>"
            ]
          },
          "metadata": {
            "tags": []
          }
        }
      ]
    },
    {
      "cell_type": "code",
      "metadata": {
        "colab": {
          "base_uri": "https://localhost:8080/",
          "height": 111
        },
        "id": "wb2bLf9v5O8f",
        "outputId": "e8dedea8-e632-4ab4-da97-bccc84f64ee6"
      },
      "source": [
        "df_produto_m_vendido = df_pip.groupby(['produto']).agg({'quantidade':'sum'}).reset_index(drop=False).copy()\n",
        "df_produto_m_vendido"
      ],
      "execution_count": 68,
      "outputs": [
        {
          "output_type": "execute_result",
          "data": {
            "text/html": [
              "<div>\n",
              "<style scoped>\n",
              "    .dataframe tbody tr th:only-of-type {\n",
              "        vertical-align: middle;\n",
              "    }\n",
              "\n",
              "    .dataframe tbody tr th {\n",
              "        vertical-align: top;\n",
              "    }\n",
              "\n",
              "    .dataframe thead th {\n",
              "        text-align: right;\n",
              "    }\n",
              "</style>\n",
              "<table border=\"1\" class=\"dataframe\">\n",
              "  <thead>\n",
              "    <tr style=\"text-align: right;\">\n",
              "      <th></th>\n",
              "      <th>produto</th>\n",
              "      <th>quantidade</th>\n",
              "    </tr>\n",
              "  </thead>\n",
              "  <tbody>\n",
              "    <tr>\n",
              "      <th>0</th>\n",
              "      <td>Smart Med</td>\n",
              "      <td>485</td>\n",
              "    </tr>\n",
              "    <tr>\n",
              "      <th>1</th>\n",
              "      <td>Smart Pro</td>\n",
              "      <td>788</td>\n",
              "    </tr>\n",
              "  </tbody>\n",
              "</table>\n",
              "</div>"
            ],
            "text/plain": [
              "     produto  quantidade\n",
              "0  Smart Med         485\n",
              "1  Smart Pro         788"
            ]
          },
          "metadata": {
            "tags": []
          },
          "execution_count": 68
        }
      ]
    },
    {
      "cell_type": "code",
      "metadata": {
        "colab": {
          "base_uri": "https://localhost:8080/",
          "height": 487
        },
        "id": "zQ_q0KSA5mL7",
        "outputId": "b9c9a9c1-daf5-4ef4-f578-8d23e3b64765"
      },
      "source": [
        "grafico_pizza(df_produto_m_vendido,'quantidade','produto',title=\"Produto Mais Vendido\",x=1, explode=[0,0.1],diretorio='dados2')"
      ],
      "execution_count": 69,
      "outputs": [
        {
          "output_type": "display_data",
          "data": {
            "image/png": "[encoded data removed]",
            "text/plain": [
              "<Figure size 576x504 with 1 Axes>"
            ]
          },
          "metadata": {
            "tags": []
          }
        }
      ]
    },
    {
      "cell_type": "code",
      "metadata": {
        "id": "iF4fygk58tLn"
      },
      "source": [
        "writer = pd.ExcelWriter('relatorio_base1.xlsx')\n",
        "df_vendedores_qtd.to_excel(writer, 'vendedor_mais_vendas(geral)', index = False)\n",
        "df_qtd_v_vendedores.to_excel(writer, 'vendedor_mais_vendas(unidade)', index = False)\n",
        "df_cpf_vendedor.to_excel(writer, 'qtd_cpfs_por_vendedor', index = False)\n",
        "df_cpf_filial.to_excel(writer, 'qtd_cpfs_por_filial', index = False)\n",
        "df_imposto.to_excel(writer, 'imposto_por_produto', index = False)\n",
        "maiores_impostos.to_excel(writer, 'maiores_impostos_valor_abs', index = False)\n",
        "df_maxmin.to_excel(writer, 'valor_max_min_mesmo_produto', index = False)\n",
        "df_produto.to_excel(writer, 'produtos_mais_vendidos', index = False)\n",
        "df_prod_filial2.to_excel(writer, 'produtos_mais_vendidos(filial)', index = False)\n",
        "writer.save()\n"
      ],
      "execution_count": 72,
      "outputs": []
    },
    {
      "cell_type": "code",
      "metadata": {
        "id": "vB-_-BWM92Mu"
      },
      "source": [
        "writer = pd.ExcelWriter('relatorio_base2.xlsx')\n",
        "df_pip.to_excel(writer, 'porcentagem_imposto_por_compra', index = False)\n",
        "df_pip2.to_excel(writer, 'unidade_que_mais_vendeu', index = False)\n",
        "df_prod12.to_excel(writer, 'produto_mais_vendido(unidade)', index = False)\n",
        "writer.save()\n"
      ],
      "execution_count": 74,
      "outputs": []
    }
  ]
}